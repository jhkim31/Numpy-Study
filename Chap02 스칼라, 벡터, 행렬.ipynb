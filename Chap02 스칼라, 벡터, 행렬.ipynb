{
 "cells": [
  {
   "cell_type": "code",
   "execution_count": 25,
   "id": "420a5cf0",
   "metadata": {},
   "outputs": [],
   "source": [
    "import numpy as np"
   ]
  },
  {
   "cell_type": "markdown",
   "id": "a0edcd9c",
   "metadata": {},
   "source": [
    "# scalar vector matrix tensor\n",
    "\n",
    "* 0차텐서, 스칼라 : 축이 없는 값\n",
    "    * ex 1, 2\n",
    "* 1차텐서, 벡터 : 축을 하나 가짐\n",
    "    * ex [1,2,3]\n",
    "* 2차 텐서, 메트릭스, 행렬 : 축을 두개 가짐\n",
    "    * ex   \n",
    "    1,2,3  \n",
    "    4,5,6\n",
    "   \n",
    "* 3차텐서, 텐서 : 축을 3개 가짐\n",
    "\n"
   ]
  },
  {
   "cell_type": "code",
   "execution_count": 26,
   "id": "1232b153",
   "metadata": {},
   "outputs": [
    {
     "name": "stdout",
     "output_type": "stream",
     "text": [
      "a.ndim :  0\n",
      "a.shape :  ()\n",
      "a.dtype :  int64\n"
     ]
    }
   ],
   "source": [
    "a = np.array(1)\n",
    "\n",
    "print('a.ndim : ', a.ndim)\n",
    "print('a.shape : ', a.shape)\n",
    "print('a.dtype : ', a.dtype)"
   ]
  },
  {
   "cell_type": "code",
   "execution_count": 27,
   "id": "357339ff",
   "metadata": {},
   "outputs": [
    {
     "name": "stdout",
     "output_type": "stream",
     "text": [
      "a.ndim :  1\n",
      "a.shape :  (1,)\n",
      "a.dtype :  int64\n"
     ]
    }
   ],
   "source": [
    "a = np.array([1])\n",
    "\n",
    "print('a.ndim : ', a.ndim)\n",
    "print('a.shape : ', a.shape)\n",
    "print('a.dtype : ', a.dtype)"
   ]
  },
  {
   "cell_type": "markdown",
   "id": "e80e9ef1",
   "metadata": {},
   "source": [
    "# 1차원 벡터 생성\n",
    "\n",
    "* np.arange(start, end, gap)\n",
    "    * 데이터 형식을 지정하지 않으면 알아서 추론함\n",
    "    * 종료(end)는 포함하지 않는다!!\n",
    "    \n",
    "* np.linspace(start, end, step)\n",
    "    * 구간을 step수만큼 쪼갠다\n",
    "    * 종료(end)를 포함한다. (endpoint=False로 제외할 수 있음)\n",
    "    * retstep=True 파라미터로 증분을 표시할 수 있음\n",
    "\n",
    "* np.logspace(start, end, step)\n",
    "    * 상용로그 기준 start ~ end가 나오는 값들로 만든다\n",
    "    * ex) np.logspace(0, 2, 4) 이면 log_10(x) = 0, 0.6, 1.3, 2.0이 되는 수를 만든다\n",
    "        * => [1, 4.6, 21.5, 100]"
   ]
  },
  {
   "cell_type": "code",
   "execution_count": 28,
   "id": "81b53b82",
   "metadata": {},
   "outputs": [
    {
     "name": "stdout",
     "output_type": "stream",
     "text": [
      "a :  [0 1 2 3 4 5 6 7 8 9]\n",
      "a.dtype :  int64\n",
      "b :  [1.  1.5 2.  2.5 3.  3.5 4.  4.5 5.  5.5 6.  6.5 7.  7.5 8.  8.5 9.  9.5]\n",
      "b.dtype :  float64\n",
      "c :  [ 1.  2.  3.  4.  5.  6.  7.  8.  9. 10.]\n",
      "c.dtype :  float64\n",
      "19.621416870348583\n",
      "d :  [   10.            21.5443469     46.41588834   100.\n",
      "   215.443469     464.15888336  1000.          2154.43469003\n",
      "  4641.58883361 10000.        ]\n",
      "d.dtype :  float64\n"
     ]
    }
   ],
   "source": [
    "a = np.arange(10)\n",
    "b = np.arange(1, 10, 0.5)\n",
    "c = np.linspace(1, 10, 10)\n",
    "d = np.logspace(1, 4, 10)\n",
    "\n",
    "print('a : ', a)\n",
    "print('a.dtype : ', a.dtype)\n",
    "\n",
    "print('b : ', b)\n",
    "print('b.dtype : ', b.dtype)\n",
    "\n",
    "print('c : ', c)\n",
    "print('c.dtype : ', c.dtype)\n",
    "print(np.linalg.norm(c))\n",
    "\n",
    "print('d : ', d)\n",
    "print('d.dtype : ', d.dtype)"
   ]
  },
  {
   "cell_type": "markdown",
   "id": "f7ef6dd4",
   "metadata": {},
   "source": [
    "# 벡터 크기 계산, 단위벡터\n",
    "\n",
    "벡터의 크기(노름)는 뭐...알지??  \n",
    "np.linalg.norm()으로 쉽게 구할 수 있다.  \n",
    "\n",
    "단위벡터는 벡터를 벡터의 노름으로 나눠주면 된다."
   ]
  },
  {
   "cell_type": "code",
   "execution_count": 29,
   "id": "34c18179",
   "metadata": {},
   "outputs": [
    {
     "name": "stdout",
     "output_type": "stream",
     "text": [
      "3.7416573867739413\n",
      "3.7416573867739413\n",
      "a :  [0 1 2 3]\n",
      "a 단위 벡터 :  [0.         0.26726124 0.53452248 0.80178373]\n"
     ]
    }
   ],
   "source": [
    "a = np.arange(4)\n",
    "\n",
    "n1 = np.sqrt(np.sum(a ** 2))\n",
    "print(n1)\n",
    "\n",
    "n2 = np.linalg.norm(a)\n",
    "print(n2)\n",
    "\n",
    "a_n = a / n1\n",
    "print('a : ', a)\n",
    "print('a 단위 벡터 : ',a_n)"
   ]
  },
  {
   "cell_type": "markdown",
   "id": "ebb454b6",
   "metadata": {},
   "source": [
    "# 벡터의 상등과 벡터간 거리\n",
    "\n",
    "동일한 벡터인지 확인은 np.arra_equal()을 통해 확인한다.  \n",
    "\n",
    "또한 두 벡터간 거리라 하면 두 벡터의 차의 제곱의 합의 제곱근을 말한다\n",
    "즉 \n"
   ]
  },
  {
   "cell_type": "code",
   "execution_count": 30,
   "id": "1a8247bf",
   "metadata": {},
   "outputs": [
    {
     "name": "stdout",
     "output_type": "stream",
     "text": [
      "a와 b의 상등 확인 :  True\n",
      "a와 b의 노름 비교 :  True\n",
      "벡터 거리 1 :  3.4641016151377544\n",
      "벡터 거리 2 :  3.4641016151377544\n"
     ]
    }
   ],
   "source": [
    "a = np.array([1,2,3])\n",
    "b = np.array([1,2,3])\n",
    "c = np.array([3,4,5])\n",
    "\n",
    "print('a와 b의 상등 확인 : ', np.array_equal(a,b))\n",
    "print('a와 b의 노름 비교 : ', np.linalg.norm(a) == np.linalg.norm(b))\n",
    "\n",
    "print('벡터 거리 1 : ', np.sqrt(np.sum((c - a) ** 2)))\n",
    "print('벡터 거리 2 : ', np.linalg.norm(c - a))"
   ]
  },
  {
   "cell_type": "markdown",
   "id": "899b85a5",
   "metadata": {},
   "source": [
    "# 행렬\n",
    "\n",
    "* np.full(shape, value, dtype)\n",
    "    * shape모양으로 value를 채운다"
   ]
  },
  {
   "cell_type": "code",
   "execution_count": 31,
   "id": "341ad2a3",
   "metadata": {},
   "outputs": [
    {
     "name": "stdout",
     "output_type": "stream",
     "text": [
      "2 * 1 행렬 : \n",
      " [[1]\n",
      " [2]]\n",
      "a.ndim :  2\n",
      "a.shape :  (2, 1)\n",
      "3 * 4 행렬 : \n",
      " [[9 9 9 9]\n",
      " [9 9 9 9]\n",
      " [9 9 9 9]]\n"
     ]
    }
   ],
   "source": [
    "a = np.array([[1], [2]])\n",
    "print('2 * 1 행렬 : \\n', a) \n",
    "print('a.ndim : ', a.ndim)\n",
    "print('a.shape : ', a.shape)\n",
    "\n",
    "b = np.full((3,4), 9, np.int64)\n",
    "print('3 * 4 행렬 : \\n', b)"
   ]
  },
  {
   "cell_type": "markdown",
   "id": "2226a1a6",
   "metadata": {},
   "source": [
    "# 랭크\n",
    "선형독립인 열벡터의 수  \n",
    "m * n의 행렬A 가 있다면, r(A) <= min(m, n)이다.\n",
    "\n",
    "행렬식이 0이 나온다  \n",
    "=> 선형 종속이다  \n",
    "=> 최소한 전부 선형독립이 아니다.  \n",
    "\n",
    "a는 하나의 벡터이므로 무조건 선형 독립  \n",
    "b는 1행과 2행이 선형 종속이기 때문에 랭크는 1  \n",
    "c는 1,2,3행 모두 독립이므로 랭크는 3"
   ]
  },
  {
   "cell_type": "code",
   "execution_count": 32,
   "id": "121e4cd4",
   "metadata": {},
   "outputs": [
    {
     "name": "stdout",
     "output_type": "stream",
     "text": [
      "a의 랭크 :  1\n",
      "b의 랭크 :  1\n",
      "c의 랭크 :  3\n",
      "-4.0\n"
     ]
    }
   ],
   "source": [
    "a = np.array([1,2,3,4])\n",
    "b = np.array([\n",
    "    [1,2,3],\n",
    "    [2,4,6]\n",
    "])\n",
    "c = np.array([\n",
    "    [1,2,3],\n",
    "    [2,2,6],\n",
    "    [1,2,5]\n",
    "])\n",
    "print('a의 랭크 : ', np.linalg.matrix_rank(a))\n",
    "print('b의 랭크 : ', np.linalg.matrix_rank(b))\n",
    "print('c의 랭크 : ', np.linalg.matrix_rank(c))\n",
    "print(np.linalg.det(c))\n",
    "\n"
   ]
  },
  {
   "cell_type": "markdown",
   "id": "3b9f1f3c",
   "metadata": {},
   "source": [
    "# 텐서와 축(axis)\n",
    "텐서는 다양한 차원을 가지는 벡터와 행렬의 추상적 명칭(앞에서 다룸)   \n",
    "\n",
    "* 1차원 텐서에서의 축에따른 계산\n",
    "    * 어차피 0축만 있기 때문에 쓰나 마나 동일함.\n",
    "    \n",
    "* 2차원 텐서에서의 축에따른 계산\n",
    "    * .sum()만 할경우 모든 원소의 합\n",
    "    * .sum(axis=0)으로 할경우 0번축(열기준)으로 원소 계산\n",
    "\n",
    "* 3차원, 4차원 텐서도 동일하다.\n",
    "    * 즉 .sum()만 할경우 모든 원소의 합을 줌\n",
    "    * .sum(axis=n)을 지정할 경우 해당 축을 기준으로 합을 계산."
   ]
  },
  {
   "cell_type": "code",
   "execution_count": 33,
   "id": "e47237bd",
   "metadata": {},
   "outputs": [
    {
     "name": "stdout",
     "output_type": "stream",
     "text": [
      "a.sum() :  45\n",
      "a.sum(axis=0) :  45\n",
      "\n",
      "b.sum() :  10\n",
      "b.sum(axis=0) :  [4 6]\n",
      "b.sum(axis=1) :  [3 7]\n",
      "\n",
      "c.sum() :  36\n",
      "c.sum(axis=0) : \n",
      " [[ 6  8]\n",
      " [10 12]]\n",
      "c.sum(axis=1) : \n",
      " [[ 4  6]\n",
      " [12 14]]\n",
      "c.sum(axis=2) : \n",
      " [[ 3  7]\n",
      " [11 15]]\n",
      "\n"
     ]
    }
   ],
   "source": [
    "a = np.arange(1, 10)\n",
    "b = np.array([[1,2],[3,4]])\n",
    "c = np.array([[[1,2], [3,4]], [[5,6], [7,8]]])\n",
    "\n",
    "print('a.sum() : ',a.sum())\n",
    "print('a.sum(axis=0) : ', a.sum(axis=0))\n",
    "print()\n",
    "\n",
    "print('b.sum() : ', b.sum())\n",
    "print('b.sum(axis=0) : ', b.sum(axis=0))\n",
    "print('b.sum(axis=1) : ', b.sum(axis=1))\n",
    "print()\n",
    "\n",
    "print('c.sum() : ', c.sum())\n",
    "print('c.sum(axis=0) : \\n', c.sum(axis=0))\n",
    "print('c.sum(axis=1) : \\n', c.sum(axis=1))\n",
    "print('c.sum(axis=2) : \\n', c.sum(axis=2))\n",
    "print()\n",
    "\n",
    "\n",
    "\n",
    "\n"
   ]
  },
  {
   "cell_type": "markdown",
   "id": "4dc7a584",
   "metadata": {},
   "source": [
    "# 축변환\n",
    "\n",
    "a2 => transpose\n",
    "0번축을 1번축으로,  \n",
    "1번축을 2번축으로,  \n",
    "2번축을 0번축으로 바꾼것이다.\n",
    "\n",
    "즉 배열에서 가장 안쪽에 있던 2번축 즉 0 과 1, 2와 3 ...등이 0 번축으로 바뀌어 배열을 우선적으로 나누는데 쓰임\n",
    "배열의 중간에 있던 1번축은 2번 축으로 즉 가장 안쪽으로 들어가게 되었다.  0,2,4,6  1,3,5,7 들은 가장 안쪽에 있음...\n",
    "\n",
    "rollaxis는 각 축을 변경함."
   ]
  },
  {
   "cell_type": "code",
   "execution_count": 34,
   "id": "24b2a313",
   "metadata": {},
   "outputs": [
    {
     "name": "stdout",
     "output_type": "stream",
     "text": [
      "3 * 4 * 2의 형태 : \n",
      "  [[[ 0  1]\n",
      "  [ 2  3]\n",
      "  [ 4  5]\n",
      "  [ 6  7]]\n",
      "\n",
      " [[ 8  9]\n",
      "  [10 11]\n",
      "  [12 13]\n",
      "  [14 15]]\n",
      "\n",
      " [[16 17]\n",
      "  [18 19]\n",
      "  [20 21]\n",
      "  [22 23]]]\n",
      "a1에서 행의 순서를 바꿈 : \n",
      "  [[[ 0  2  4  6]\n",
      "  [ 8 10 12 14]\n",
      "  [16 18 20 22]]\n",
      "\n",
      " [[ 1  3  5  7]\n",
      "  [ 9 11 13 15]\n",
      "  [17 19 21 23]]]\n",
      "\n",
      "b.shape :  (1, 2, 3, 4)\n",
      "축 변경 :  (1, 2, 4, 3)\n",
      "\n",
      "c :  [[1 2 3 4 5]]\n",
      "c.T : \n",
      " [[1]\n",
      " [2]\n",
      " [3]\n",
      " [4]\n",
      " [5]]\n",
      "np.swapaxes(c, 0, 1) : \n",
      " [[1]\n",
      " [2]\n",
      " [3]\n",
      " [4]\n",
      " [5]]\n"
     ]
    }
   ],
   "source": [
    "a = np.arange(24)\n",
    "a1 = a.reshape(3,4,2)\n",
    "a2 = a1.transpose(2,0,1) \n",
    "\n",
    "print('3 * 4 * 2의 형태 : \\n ', a1)\n",
    "print('a1에서 행의 순서를 바꿈 : \\n ', a2)\n",
    "print()\n",
    "\n",
    "b = np.ones((1,2,3,4))\n",
    "print('b.shape : ', b.shape)\n",
    "print('축 변경 : ', np.rollaxis(b, 3, 2).shape)\n",
    "print()\n",
    "\n",
    "c = np.array([[1,2,3,4,5]])\n",
    "print('c : ', c)\n",
    "print('c.T : \\n', c.T)\n",
    "print('np.swapaxes(c, 0, 1) : \\n', np.swapaxes(c, 0, 1))\n",
    "\n"
   ]
  },
  {
   "cell_type": "markdown",
   "id": "1eeda3b0",
   "metadata": {},
   "source": [
    "# 배열 확장 및 축소\n",
    "\n",
    "* np.expand_dims(arr, axis)\n",
    "    * 지정하는 축을 추가한다.\n",
    "\n",
    "* flatten(), ravel()\n",
    "    * 앞에서 설명했으므로 생략한다."
   ]
  },
  {
   "cell_type": "code",
   "execution_count": 35,
   "id": "7fd50538",
   "metadata": {},
   "outputs": [
    {
     "name": "stdout",
     "output_type": "stream",
     "text": [
      "[1 2]\n",
      "[[1 2]]\n",
      "[[1]\n",
      " [2]]\n"
     ]
    }
   ],
   "source": [
    "a = np.array([1,2])\n",
    "b = np.expand_dims(a, axis=0)\n",
    "c = np.expand_dims(a, axis=1)\n",
    "\n",
    "print(a)\n",
    "print(b)\n",
    "print(c)\n",
    "\n"
   ]
  },
  {
   "cell_type": "markdown",
   "id": "8907eb71",
   "metadata": {},
   "source": [
    "# 행렬의 종류들"
   ]
  },
  {
   "cell_type": "markdown",
   "id": "bb8fb4c2",
   "metadata": {},
   "source": [
    "# 정사각행렬\n",
    "\n",
    "행과 열이 동일함.  \n",
    "\n",
    "## 궤적 : Trace\n",
    "주대각선 원소의 합  \n",
    ".trace()"
   ]
  },
  {
   "cell_type": "code",
   "execution_count": 36,
   "id": "26f4b9bf",
   "metadata": {},
   "outputs": [
    {
     "name": "stdout",
     "output_type": "stream",
     "text": [
      "a :  [[1 2 3]\n",
      " [4 5 6]\n",
      " [7 8 9]]\n",
      "a.trace() :  15\n"
     ]
    }
   ],
   "source": [
    "a = np.array([[1,2,3], [4,5,6], [7,8,9]])\n",
    "print('a : ', a)\n",
    "\n",
    "print('a.trace() : ', a.trace())"
   ]
  },
  {
   "cell_type": "markdown",
   "id": "baf6467a",
   "metadata": {},
   "source": [
    "# 대각행렬\n",
    "정사각행렬일때 주대각선을 제외한 모든 원소가 0임\n",
    "\n",
    "* .diagonal() : 주대각선의 원소만 뽑아냄\n",
    "* np.diag() : 1차원 배열을 받아 대각행렬을 만들어냄\n",
    "    * k값을 임의로 지정하여 대각선의 위치를 지정 가능\n",
    "        * 주대각선 0을 기준으로 주대각선 보다 위에있는 대각선은 양수, 아래있는 대각선은 음수다\n",
    "\n"
   ]
  },
  {
   "cell_type": "code",
   "execution_count": 37,
   "id": "b066d2b2",
   "metadata": {},
   "outputs": [
    {
     "name": "stdout",
     "output_type": "stream",
     "text": [
      "a : \n",
      " [[1 0 0]\n",
      " [0 3 0]\n",
      " [0 0 5]]\n",
      "a.diagonal() :  [1 3 5]\n",
      "np.diag([2,4,6]) : \n",
      " [[2 0 0]\n",
      " [0 4 0]\n",
      " [0 0 6]]\n",
      "np.diag([2,4,6], k = 1) : \n",
      " [[0 2 0 0]\n",
      " [0 0 4 0]\n",
      " [0 0 0 6]\n",
      " [0 0 0 0]]\n"
     ]
    }
   ],
   "source": [
    "a = np.array([[1,0,0], [0,3,0], [0,0,5]])\n",
    "\n",
    "print('a : \\n', a)\n",
    "print('a.diagonal() : ', a.diagonal())\n",
    "print('np.diag([2,4,6]) : \\n', np.diag([2,4,6]))\n",
    "print('np.diag([2,4,6], k = 1) : \\n', np.diag([2,4,6], k = 1))"
   ]
  },
  {
   "cell_type": "markdown",
   "id": "723e3f3a",
   "metadata": {},
   "source": [
    "# 단위행렬(항등행렬)\n",
    "\n",
    "대각행렬중 주대각선 원소가 모두 1인 행렬.  \n",
    "이 행렬에 다른 행렬을 곱하여도 동일한 행렬 반환 (곱셈의 항등원)\n",
    "* np.np.eye() 단위 행렬을 만든다\n",
    "    * 이또한 역시 k값을 임의로 주어 다른 위치의 대각선으로도 가능함.\n",
    "\n",
    "* np.identity() : 항등행렬을 만든다"
   ]
  },
  {
   "cell_type": "code",
   "execution_count": 38,
   "id": "9dff0407",
   "metadata": {},
   "outputs": [
    {
     "name": "stdout",
     "output_type": "stream",
     "text": [
      "[[1. 0. 0.]\n",
      " [0. 1. 0.]\n",
      " [0. 0. 1.]]\n",
      "\n",
      "[[0. 1. 0.]\n",
      " [0. 0. 1.]\n",
      " [0. 0. 0.]]\n",
      "\n",
      "[[1. 0. 0.]\n",
      " [0. 1. 0.]\n",
      " [0. 0. 1.]]\n",
      "[[1. 2. 3.]\n",
      " [4. 5. 6.]\n",
      " [7. 8. 9.]]\n"
     ]
    }
   ],
   "source": [
    "a = np.eye(3,3)\n",
    "print(a)\n",
    "print()\n",
    "\n",
    "b = np.eye(3,3, k = 1)\n",
    "print(b)\n",
    "print()\n",
    "\n",
    "c = np.identity(3)\n",
    "d = np.array([[1,2,3], [4,5,6], [7,8,9]])\n",
    "print(c)\n",
    "print(c @ d)"
   ]
  },
  {
   "cell_type": "markdown",
   "id": "b4fe251a",
   "metadata": {},
   "source": [
    "# 삼각행렬\n",
    "주대각선 기준 위, 아래 값이 전부 0인경우  \n",
    "* 하삼각행렬 : tril\n",
    "    * np.tril() 메소드로 정사사각 행렬의 주대각선 밑 원소를 제외하고 모두 날려버림\n",
    "        * k값을 통해 다른 위치의 대각선도 가능   \n",
    "* 상삼각행렬 : triu\n",
    "    * np.triu() 메소드로 정사각 행렬의 주대각선 위 원소를 제외하고 모두 날려버림\n",
    "        * k값을 통해 다른 위치의 대각선도 가능\n",
    "\n",
    "\n",
    "tril과 triu는 서로 전치관계이다"
   ]
  },
  {
   "cell_type": "code",
   "execution_count": 39,
   "id": "68e10fdb",
   "metadata": {},
   "outputs": [
    {
     "name": "stdout",
     "output_type": "stream",
     "text": [
      "a_tril : \n",
      " [[1 0 0]\n",
      " [4 5 0]\n",
      " [7 8 9]]\n",
      "a_tril2 : \n",
      "  [[0 0 0]\n",
      " [4 0 0]\n",
      " [7 8 0]]\n",
      "b_triu : \n",
      " [[10  9  8]\n",
      " [ 0  6  5]\n",
      " [ 0  0  2]]\n",
      "c : \n",
      " [[1 0 0 0]\n",
      " [1 2 0 0]\n",
      " [1 2 3 0]\n",
      " [1 2 3 4]]\n",
      "a_tril.T : \n",
      " [[1 4 7]\n",
      " [0 5 8]\n",
      " [0 0 9]]\n"
     ]
    }
   ],
   "source": [
    "a = np.array(np.arange(1, 10)).reshape(3,3)\n",
    "b = np.array(np.arange(10, 1, -1)).reshape(3,3)\n",
    "c = np.array([1,2,3,4])\n",
    "\n",
    "a_tril = np.tril(a)\n",
    "a_tril2 = np.tril(a, k = -1)\n",
    "b_triu = np.triu(b)\n",
    "c = np.tril(c)\n",
    "print('a_tril : \\n', a_tril)\n",
    "print('a_tril2 : \\n ', a_tril2)\n",
    "print('b_triu : \\n', b_triu)\n",
    "print('c : \\n', c) #이런 방법도 있음\n",
    "\n",
    "print('a_tril.T : \\n' , a_tril.T)"
   ]
  },
  {
   "cell_type": "markdown",
   "id": "ccfd0d61",
   "metadata": {},
   "source": [
    "# 영행렬\n",
    "\n",
    "* np.zeros() : shape를 주어 0행렬을 만든다\n",
    "\n",
    "* np.zeros_like() : 기존 행렬을 주어 그와 같은 shape의 행렬을 만든다"
   ]
  },
  {
   "cell_type": "code",
   "execution_count": 40,
   "id": "ae16727a",
   "metadata": {},
   "outputs": [
    {
     "name": "stdout",
     "output_type": "stream",
     "text": [
      "a : \n",
      " [[0. 0. 0. 0. 0.]\n",
      " [0. 0. 0. 0. 0.]\n",
      " [0. 0. 0. 0. 0.]\n",
      " [0. 0. 0. 0. 0.]]\n",
      "\n",
      "b : \n",
      " [[0 0 0 0]\n",
      " [0 0 0 0]]\n"
     ]
    }
   ],
   "source": [
    "a = np.zeros((4,5))\n",
    "b = np.zeros_like(np.array(\n",
    "    [\n",
    "        [1,2,3,4], \n",
    "        [5,6,7,8]\n",
    "    ])\n",
    ")\n",
    "\n",
    "print('a : \\n', a)\n",
    "print()\n",
    "\n",
    "print('b : \\n', b)"
   ]
  },
  {
   "cell_type": "markdown",
   "id": "5b499e89",
   "metadata": {},
   "source": [
    "# 대칭행렬\n",
    "주대각선 기준으로 위 아래 원소가 동일함.\n",
    "\n",
    "# 반 대칭행렬\n",
    "주대각 성분 기준 값은 같지만 부호가 반대임."
   ]
  },
  {
   "cell_type": "code",
   "execution_count": 41,
   "id": "f9c94e67",
   "metadata": {},
   "outputs": [
    {
     "name": "stdout",
     "output_type": "stream",
     "text": [
      "[[1 2 3]\n",
      " [2 3 5]\n",
      " [3 5 6]]\n",
      "\n",
      "[[1 2 3]\n",
      " [2 3 5]\n",
      " [3 5 6]]\n",
      "\n",
      "[[ 0  2 -3]\n",
      " [-2  0  5]\n",
      " [ 3 -5  0]]\n",
      "\n",
      "[[ 0 -2  3]\n",
      " [ 2  0 -5]\n",
      " [-3  5  0]]\n",
      "\n"
     ]
    }
   ],
   "source": [
    "a = np.array([[1,2,3],[2,3,5], [3,5,6]])\n",
    "\n",
    "print(a)\n",
    "print()\n",
    "print(a.T)\n",
    "print()\n",
    "\n",
    "b = np.array([[0,2,-3], [-2,0,5], [3,-5,0]])\n",
    "print(b)\n",
    "print()\n",
    "print(b.T)\n",
    "print()"
   ]
  },
  {
   "cell_type": "markdown",
   "id": "41805967",
   "metadata": {},
   "source": [
    "# 치환행렬\n",
    "단위행렬이나 행을 교환해 재구성 함.  \n",
    "행변환을 한 단위 행렬과 행렬을 곱셈(dot product) 한다."
   ]
  },
  {
   "cell_type": "code",
   "execution_count": 42,
   "id": "dcab974c",
   "metadata": {},
   "outputs": [
    {
     "name": "stdout",
     "output_type": "stream",
     "text": [
      "[[1 2 3]\n",
      " [4 5 6]\n",
      " [7 8 9]]\n",
      "\n",
      "[[0 1 0]\n",
      " [1 0 0]\n",
      " [0 0 1]]\n",
      "\n",
      "[[2 1 3]\n",
      " [5 4 6]\n",
      " [8 7 9]]\n",
      "\n",
      "[[2 1 3]\n",
      " [5 4 6]\n",
      " [8 7 9]]\n"
     ]
    }
   ],
   "source": [
    "a = np.array(np.arange(1,10)).reshape(3,3)\n",
    "b = np.array([[0,1,0], [1,0,0], [0,0,1]])\n",
    "print(a)\n",
    "print()\n",
    "\n",
    "print(b)\n",
    "print()\n",
    "\n",
    "print(np.dot(a,b))\n",
    "print()\n",
    "\n",
    "print(a @ b)"
   ]
  },
  {
   "cell_type": "markdown",
   "id": "189d8209",
   "metadata": {},
   "source": [
    "# 직교행렬\n",
    "\n",
    "자기 자신의 행렬과 전치 행렬을 행렬곱으로 계산한 결과\n",
    "A @ A.T\n",
    "**직교행렬의 전치행렬은 역행렬이다**\n",
    "# 전치행렬\n",
    "\n",
    "행렬의 모든 행과 열을 바꾸면 전치 행렬임.\n"
   ]
  },
  {
   "cell_type": "code",
   "execution_count": 43,
   "id": "799e8a26",
   "metadata": {},
   "outputs": [
    {
     "name": "stdout",
     "output_type": "stream",
     "text": [
      "[[1 2]\n",
      " [3 4]]\n",
      "[[1 3]\n",
      " [2 4]]\n"
     ]
    }
   ],
   "source": [
    "a = np.array([[1,2],[3,4]])\n",
    "print(a)\n",
    "\n",
    "print(a.T)"
   ]
  }
 ],
 "metadata": {
  "kernelspec": {
   "display_name": "Python 3 (ipykernel)",
   "language": "python",
   "name": "python3"
  },
  "language_info": {
   "codemirror_mode": {
    "name": "ipython",
    "version": 3
   },
   "file_extension": ".py",
   "mimetype": "text/x-python",
   "name": "python",
   "nbconvert_exporter": "python",
   "pygments_lexer": "ipython3",
   "version": "3.8.9"
  }
 },
 "nbformat": 4,
 "nbformat_minor": 5
}
