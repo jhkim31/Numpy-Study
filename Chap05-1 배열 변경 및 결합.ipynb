{
 "cells": [
  {
   "cell_type": "code",
   "execution_count": 139,
   "id": "705a98f8",
   "metadata": {},
   "outputs": [],
   "source": [
    "import numpy as np\n",
    "from pprint import pprint"
   ]
  },
  {
   "cell_type": "markdown",
   "id": "abade59a",
   "metadata": {},
   "source": [
    "# 변형 및 변경함수\n",
    "\n",
    "* .reshape() : 변형하려는 원소 개수가 맞아야 변형이 가능하다.\n",
    "    * 파라미터로 -1을 넣을경우 자동으로 형상을 맞춰준다\n",
    "        * 단 -1는 최종 한번만 사용 가능하다. (2, -1, -1)은 불가능!\n",
    "        \n",
    "* np.resize() : 기존 원소를 사용하여 새로운 형태로 채운다\n",
    "* .resize() : 기존 원소를 재사용하지 않으며 남은 자리는 0으로 채운다\n",
    "    * refcheck : 기존 배열의 형태를 체크한다 (False로 할시 형태 상관없이 리사이즈 가능)\n",
    "        \n",
    "* np.meshgrid() : 두개의 벡터를 넣어  두 벡터의 차원만큼의 새로운 행렬을 만들어 리턴함.\n",
    "    * a는 차원 3, b 는 차원 5일때 (a,b)를 넣으면 5행, 3열의 행렬이 나옴.\n",
    "        * 이때 먼저 사용된 파라미터 a는 수평확장, b는 수직확장 된다.\n",
    "        \n",
    "* np.compress() : 특정 조건 추출 (팬시 검색과 비슷함.)\n",
    "    * 0 : False, 1 : True\n",
    "        * axis가 없다면 입력받은 배열을 flatten하여 결과를 리턴해준다.\n",
    "        \n",
    "* np.squeeze() : 1인 차원 축소"
   ]
  },
  {
   "cell_type": "code",
   "execution_count": 80,
   "id": "85910cb9",
   "metadata": {},
   "outputs": [
    {
     "name": "stdout",
     "output_type": "stream",
     "text": [
      "b : \n",
      " [[[ 0  1  2  3  4]\n",
      "  [ 5  6  7  8  9]]\n",
      "\n",
      " [[10 11 12 13 14]\n",
      "  [15 16 17 18 19]]]\n",
      "c : \n",
      " [[ 0  1  2  3]\n",
      " [ 4  5  6  7]\n",
      " [ 8  9 10 11]\n",
      " [12 13 14 15]\n",
      " [16 17 18 19]]\n",
      "resize c to (6,6) : \n",
      " [[ 0  1  2  3  4  5]\n",
      " [ 6  7  8  9 10 11]\n",
      " [12 13 14 15 16 17]\n",
      " [18 19  0  0  0  0]\n",
      " [ 0  0  0  0  0  0]\n",
      " [ 0  0  0  0  0  0]]\n",
      "d :  [[0 1 2 0 0 0 0 0]\n",
      " [0 0 0 0 0 0 0 0]]\n",
      "a : \n",
      " [[0 1 2]\n",
      " [0 1 2]\n",
      " [0 1 2]\n",
      " [0 1 2]\n",
      " [0 1 2]]\n",
      "b : \n",
      " [[0 0 0]\n",
      " [1 1 1]\n",
      " [2 2 2]\n",
      " [3 3 3]\n",
      " [4 4 4]]\n",
      "np.compress([0,1,1], a) :  [2 3]\n",
      "np.compress([0,1], a, axis=0) :  [[3 4]]\n",
      "np.compress([0,1],a, axis=1) : \n",
      " [[2]\n",
      " [4]\n",
      " [6]]\n",
      "a.shape :  (1, 6, 1)\n",
      "np.squeeze(a).shape :  (6,)\n",
      "np.squeeze(a, axis=0).shape :  (6, 1)\n",
      "np.squeeze(a, axis=2).shape :  (1, 6)\n"
     ]
    }
   ],
   "source": [
    "a = np.array(np.arange(20))\n",
    "\n",
    "b = a.reshape(2,2,5)\n",
    "c = a.reshape(5, -1).copy()\n",
    "d = np.arange(3)\n",
    "\n",
    "print('b : \\n', b)\n",
    "print('c : \\n', c)\n",
    "\n",
    "c.resize((6, 6))\n",
    "print('resize c to (6,6) : \\n', c)\n",
    "\n",
    "d.resize((2, 8))\n",
    "\n",
    "print('d : ', d)\n",
    "\n",
    "a = np.arange(3)\n",
    "b = np.arange(5)\n",
    "\n",
    "a, b = np.meshgrid(a, b)\n",
    "print('a : \\n', a)\n",
    "\n",
    "print('b : \\n', b)\n",
    "\n",
    "a = np.array([[1,2], [3,4], [5,6]])\n",
    "\n",
    "print('np.compress([0,1,1], a) : ', np.compress([0,1,1], a))\n",
    "print('np.compress([0,1], a, axis=0) : ', np.compress([0,1], a, axis=0))\n",
    "print('np.compress([0,1],a, axis=1) : \\n', np.compress([0,1],a, axis=1))\n",
    "\n",
    "a = a.reshape(1,6,1)\n",
    "print('a.shape : ', a.shape)\n",
    "\n",
    "print('np.squeeze(a).shape : ', np.squeeze(a).shape)\n",
    "print('np.squeeze(a, axis=0).shape : ', np.squeeze(a, axis=0).shape)\n",
    "print('np.squeeze(a, axis=2).shape : ', np.squeeze(a, axis=2).shape)"
   ]
  },
  {
   "cell_type": "markdown",
   "id": "7127ac51",
   "metadata": {},
   "source": [
    "# 원소 반복\n",
    "\n",
    "* np.repeat() : 원소를 반복한다.\n",
    "\n",
    "* np.tile() : 배열을 원하는 모양만큼 확장시킨다"
   ]
  },
  {
   "cell_type": "code",
   "execution_count": 93,
   "id": "bb4cfda9",
   "metadata": {},
   "outputs": [
    {
     "name": "stdout",
     "output_type": "stream",
     "text": [
      "np.repeat(a, 2) :  [0 0 1 1 2 2 3 3 4 4]\n",
      "np.repeat(b, 2) :  [1 1 2 2 3 3 4 4]\n",
      "np.repeat(b, 2, axis=0) : \n",
      " [[1 2]\n",
      " [1 2]\n",
      " [3 4]\n",
      " [3 4]]\n",
      "np.repeat(b, 2, axis=1) : \n",
      " [[1 1 2 2]\n",
      " [3 3 4 4]]\n",
      "np.tile(b, 2) :  [[1 2 1 2]\n",
      " [3 4 3 4]]\n",
      "np.tile(b, [2,2]) : \n",
      " [[1 2 1 2]\n",
      " [3 4 3 4]\n",
      " [1 2 1 2]\n",
      " [3 4 3 4]]\n",
      "np.tile(b, [2,2,2]) : \n",
      " [[[1 2 1 2]\n",
      "  [3 4 3 4]\n",
      "  [1 2 1 2]\n",
      "  [3 4 3 4]]\n",
      "\n",
      " [[1 2 1 2]\n",
      "  [3 4 3 4]\n",
      "  [1 2 1 2]\n",
      "  [3 4 3 4]]]\n"
     ]
    }
   ],
   "source": [
    "a = np.arange(5)\n",
    "b = np.array([[1,2], [3,4]])\n",
    "\n",
    "print('np.repeat(a, 2) : ', np.repeat(a, 2))\n",
    "print('np.repeat(b, 2) : ', np.repeat(b, 2))\n",
    "print('np.repeat(b, 2, axis=0) : \\n', np.repeat(b, 2, axis=0))\n",
    "print('np.repeat(b, 2, axis=1) : \\n', np.repeat(b, 2, axis=1))\n",
    "\n",
    "print('np.tile(b, 2) : ', np.tile(b, 2))\n",
    "print('np.tile(b, [2,2]) : \\n', np.tile(b, [2,2]))\n",
    "print('np.tile(b, [2,2,2]) : \\n', np.tile(b, [2,2,2]))\n",
    "\n"
   ]
  },
  {
   "cell_type": "markdown",
   "id": "b1208a7c",
   "metadata": {},
   "source": [
    "# 배열 결합\n",
    "\n",
    "* np.concatenate([]) : 배열들을 결합한다\n",
    "    * axis를 지정하지 않으면 수직으로 연결, axis가 있다면 각 axis에 맞춰 연결함.\n",
    "    \n",
    "* np.stack() : 축을 지정해 쌓는다.\n",
    "    * concatenate와 다른점은 배열을 그대로 유지한채로 쌓는다. concatenate는 배열의 모양만을 유지하여 결합하는 느낌이고 stack은 배열을 통째로 쌓는다는 느낌이다.\n",
    "* np.vstack() : 축을 지저앟여 쌓는다. (vertical 세로)\n",
    "* np.hstack() : 축을 지정하여 쌓는다. (horizontal 가로)\n",
    "* np.dstack() : 축을 확대한다. 즉 가장 낮은 차원에서 원소끼리 결합함\n",
    "    * 2차원 배열을 3차원으로 만들때 사용"
   ]
  },
  {
   "cell_type": "code",
   "execution_count": 130,
   "id": "e5d09bff",
   "metadata": {
    "scrolled": false
   },
   "outputs": [
    {
     "name": "stdout",
     "output_type": "stream",
     "text": [
      "a : \n",
      " [[1 2 3]\n",
      " [4 5 6]]\n",
      "b : \n",
      " [[8 7 6]\n",
      " [5 4 3]]\n",
      "\n",
      "np.concatenate([a,b]) : \n",
      " [[1 2 3]\n",
      " [4 5 6]\n",
      " [8 7 6]\n",
      " [5 4 3]]\n",
      "np.concatenate([a,b], axis=1) : \n",
      " [[1 2 3 8 7 6]\n",
      " [4 5 6 5 4 3]]\n",
      "\n",
      "np.stack([a,b]) : \n",
      " [[[1 2 3]\n",
      "  [4 5 6]]\n",
      "\n",
      " [[8 7 6]\n",
      "  [5 4 3]]]\n",
      "np.stack([a,b], axis=0) : \n",
      " [[[1 2 3]\n",
      "  [4 5 6]]\n",
      "\n",
      " [[8 7 6]\n",
      "  [5 4 3]]]\n",
      "np.stack([a,b], axis=1) : \n",
      " [[[1 2 3]\n",
      "  [8 7 6]]\n",
      "\n",
      " [[4 5 6]\n",
      "  [5 4 3]]]\n",
      "np.stack([a,b], axis=2) : \n",
      " [[[1 8]\n",
      "  [2 7]\n",
      "  [3 6]]\n",
      "\n",
      " [[4 5]\n",
      "  [5 4]\n",
      "  [6 3]]]\n",
      "np.vstack([a,b]) : \n",
      " [[1 2 3]\n",
      " [4 5 6]\n",
      " [8 7 6]\n",
      " [5 4 3]]\n",
      "np.hstack([a,b]) : \n",
      " [[1 2 3 8 7 6]\n",
      " [4 5 6 5 4 3]]\n",
      "np.dstack([a,b]) : \n",
      " [[[1 1 1]\n",
      "  [2 2 2]\n",
      "  [3 3 3]]\n",
      "\n",
      " [[4 4 4]\n",
      "  [5 5 5]\n",
      "  [6 6 6]]]\n"
     ]
    }
   ],
   "source": [
    "a = np.array([[1,2,3], [4,5,6]])\n",
    "b = np.array([[8,7,6], [5,4,3]])\n",
    "print('a : \\n', a)\n",
    "print('b : \\n', b)\n",
    "print()\n",
    "print('np.concatenate([a,b]) : \\n', np.concatenate([a,b]))\n",
    "print('np.concatenate([a,b], axis=1) : \\n', np.concatenate([a,b], axis=1))\n",
    "print()\n",
    "\n",
    "print('np.stack([a,b]) : \\n', np.stack([a,b]))\n",
    "print('np.stack([a,b], axis=0) : \\n', np.stack([a,b], axis=0))\n",
    "print('np.stack([a,b], axis=1) : \\n', np.stack([a,b], axis=1))\n",
    "print('np.stack([a,b], axis=2) : \\n', np.stack([a,b], axis=2))\n",
    "print('np.vstack([a,b]) : \\n', np.vstack([a,b]))\n",
    "print('np.hstack([a,b]) : \\n', np.hstack([a,b]))\n",
    "print('np.dstack([a,b]) : \\n', np.dstack([a,a,a]))"
   ]
  },
  {
   "cell_type": "markdown",
   "id": "059a2f7e",
   "metadata": {},
   "source": [
    "# 배열 분리\n",
    "\n",
    "* np.array_split() : 배열을 축과 인덱스를 기준으로 분리함"
   ]
  },
  {
   "cell_type": "code",
   "execution_count": 152,
   "id": "ccfdd013",
   "metadata": {},
   "outputs": [
    {
     "name": "stdout",
     "output_type": "stream",
     "text": [
      "a : \n",
      " [[ 0  1  2  3]\n",
      " [ 4  5  6  7]\n",
      " [ 8  9 10 11]\n",
      " [12 13 14 15]]\n",
      "\n",
      "0,1행 / 2,3행 으로 쪼갬\n",
      "[array([[0, 1, 2, 3],\n",
      "       [4, 5, 6, 7]]),\n",
      " array([[ 8,  9, 10, 11],\n",
      "       [12, 13, 14, 15]])]\n",
      "\n",
      "0,1행 / 2행 / 3행 으로 쪼갬\n",
      "[array([[0, 1, 2, 3],\n",
      "       [4, 5, 6, 7]]),\n",
      " array([[ 8,  9, 10, 11]]),\n",
      " array([[12, 13, 14, 15]])]\n",
      "\n",
      "0,1열 / 2열 / 3열로 쪼갬\n",
      "[array([[ 0,  1],\n",
      "       [ 4,  5],\n",
      "       [ 8,  9],\n",
      "       [12, 13]]),\n",
      " array([[ 2],\n",
      "       [ 6],\n",
      "       [10],\n",
      "       [14]]),\n",
      " array([[ 3],\n",
      "       [ 7],\n",
      "       [11],\n",
      "       [15]])]\n"
     ]
    }
   ],
   "source": [
    "a = np.arange(16).reshape(4,4)\n",
    "\n",
    "print('a : \\n', a)\n",
    "print('\\n0,1행 / 2,3행 으로 쪼갬')\n",
    "pprint(np.array_split(a, 2, axis=0))   # \n",
    "print('\\n0,1행 / 2행 / 3행 으로 쪼갬')\n",
    "pprint(np.array_split(a, (2, 3), axis=0)) # \n",
    "print('\\n0,1열 / 2열 / 3열로 쪼갬')\n",
    "pprint(np.array_split(a, (2, 3), axis=1)) # "
   ]
  },
  {
   "cell_type": "markdown",
   "id": "0f3b26fa",
   "metadata": {},
   "source": [
    "# 배열 쌓기 도우미\n",
    "\n",
    "* .r_ : 행으로 쌓아줌\n",
    "\n",
    "* .c_ : 열로 쌓아줌"
   ]
  },
  {
   "cell_type": "code",
   "execution_count": 156,
   "id": "25b45e17",
   "metadata": {},
   "outputs": [
    {
     "name": "stdout",
     "output_type": "stream",
     "text": [
      "np.r_[a,b] : \n",
      " [[1 2 3]\n",
      " [4 5 6]\n",
      " [2 4 6]\n",
      " [1 3 5]]\n",
      "np.c_[a,b] : \n",
      " [[1 2 3 2 4 6]\n",
      " [4 5 6 1 3 5]]\n"
     ]
    }
   ],
   "source": [
    "a = np.array([[1,2,3], [4,5,6]])\n",
    "b = np.array([[2,4,6], [1,3,5]])\n",
    "\n",
    "print('np.r_[a,b] : \\n', np.r_[a,b])\n",
    "\n",
    "print('np.c_[a,b] : \\n', np.c_[a,b])"
   ]
  }
 ],
 "metadata": {
  "kernelspec": {
   "display_name": "Python 3 (ipykernel)",
   "language": "python",
   "name": "python3"
  },
  "language_info": {
   "codemirror_mode": {
    "name": "ipython",
    "version": 3
   },
   "file_extension": ".py",
   "mimetype": "text/x-python",
   "name": "python",
   "nbconvert_exporter": "python",
   "pygments_lexer": "ipython3",
   "version": "3.8.9"
  }
 },
 "nbformat": 4,
 "nbformat_minor": 5
}
