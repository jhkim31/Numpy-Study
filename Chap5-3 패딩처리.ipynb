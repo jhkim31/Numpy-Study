{
 "cells": [
  {
   "cell_type": "code",
   "execution_count": 1,
   "id": "06029e20",
   "metadata": {},
   "outputs": [],
   "source": [
    "import numpy as np"
   ]
  },
  {
   "cell_type": "markdown",
   "id": "1b875f49",
   "metadata": {},
   "source": [
    "# 패딩 방식\n",
    "\n",
    "원하는 크기의 0행렬을 만들어, 원배열을 덮어씌운다"
   ]
  },
  {
   "cell_type": "code",
   "execution_count": 6,
   "id": "edd65ac7",
   "metadata": {},
   "outputs": [
    {
     "name": "stdout",
     "output_type": "stream",
     "text": [
      "a : \n",
      " [[1 2]\n",
      " [3 4]]\n",
      "b : \n",
      " [[0. 0. 0.]\n",
      " [0. 0. 0.]\n",
      " [0. 0. 0.]]\n",
      "padding a : \n",
      " [[1. 2. 0.]\n",
      " [3. 4. 0.]\n",
      " [0. 0. 0.]]\n"
     ]
    }
   ],
   "source": [
    "a = np.array([[1,2], [3,4]])\n",
    "b = np.zeros((3,3))\n",
    "print('a : \\n', a)\n",
    "print('b : \\n', b)\n",
    "b[:2, :2] = a\n",
    "print('padding a : \\n', b)"
   ]
  },
  {
   "cell_type": "markdown",
   "id": "a2c76ba9",
   "metadata": {},
   "source": [
    "# 패딩\n",
    "\n",
    "* np.pad() : 원하는 패딩폭을 지정함\n",
    "    * 패딩폭을 정수로 넣으면 해당 정수만큼의 패딩폭이 생성\n",
    "    * 튜플로 넣으면 조금 다름(예시 볼것)\n",
    "    \n",
    "    * 패딩방식 \n",
    "        * constant : default (0으로 채움)\n",
    "        * edge : 마지막 만나는 원소로 채움\n",
    "        * minimun : 만나는 원소중 가장 작은 원소로 채움(만나는 원소가 없으면 가장 작은 원소로)\n",
    "        * maximun : 만나는 원소중 가장 큰 원소로 채움(만나는 원소가 없으면 가장 큰 원소로)\n",
    "        * mean : 평균값으로\n",
    "        * median : 중앙값으로"
   ]
  },
  {
   "cell_type": "code",
   "execution_count": 17,
   "id": "013d0897",
   "metadata": {},
   "outputs": [
    {
     "name": "stdout",
     "output_type": "stream",
     "text": [
      "패딩폭 1\n",
      "[[0 0 0 0]\n",
      " [0 1 2 0]\n",
      " [0 3 4 0]\n",
      " [0 0 0 0]]\n",
      "패딩폭 2\n",
      "[[0 0 0 0 0 0]\n",
      " [0 0 0 0 0 0]\n",
      " [0 0 1 2 0 0]\n",
      " [0 0 3 4 0 0]\n",
      " [0 0 0 0 0 0]\n",
      " [0 0 0 0 0 0]]\n",
      "패딩폭 (0, 1)\n",
      "[[1 2 0]\n",
      " [3 4 0]\n",
      " [0 0 0]]\n",
      "패딩폭 (1, 0)\n",
      "[[0 0 0]\n",
      " [0 1 2]\n",
      " [0 3 4]]\n",
      "패딩폭 (1, 1)\n",
      "[[0 0 0 0]\n",
      " [0 1 2 0]\n",
      " [0 3 4 0]\n",
      " [0 0 0 0]]\n",
      "패딩폭 (1, 2)\n",
      "[[0 0 0 0 0]\n",
      " [0 1 2 0 0]\n",
      " [0 3 4 0 0]\n",
      " [0 0 0 0 0]\n",
      " [0 0 0 0 0]]\n",
      "edge 패딩\n",
      "[[1 1 1 2 2 2]\n",
      " [1 1 1 2 2 2]\n",
      " [1 1 1 2 2 2]\n",
      " [3 3 3 4 4 4]\n",
      " [3 3 3 4 4 4]\n",
      " [3 3 3 4 4 4]]\n",
      "maximum 패딩\n",
      "[[4 4 3 4 4 4]\n",
      " [4 4 3 4 4 4]\n",
      " [2 2 1 2 2 2]\n",
      " [4 4 3 4 4 4]\n",
      " [4 4 3 4 4 4]\n",
      " [4 4 3 4 4 4]]\n",
      "minimum 패딩\n",
      "[[1 1 1 2 1 1]\n",
      " [1 1 1 2 1 1]\n",
      " [1 1 1 2 1 1]\n",
      " [3 3 3 4 3 3]\n",
      " [1 1 1 2 1 1]\n",
      " [1 1 1 2 1 1]]\n",
      "mean 패딩\n",
      "[[2 2 2 3 2 2]\n",
      " [2 2 2 3 2 2]\n",
      " [2 2 1 2 2 2]\n",
      " [4 4 3 4 4 4]\n",
      " [2 2 2 3 2 2]\n",
      " [2 2 2 3 2 2]]\n",
      "median 패딩\n",
      "[[2 2 2 3 2 2]\n",
      " [2 2 2 3 2 2]\n",
      " [2 2 1 2 2 2]\n",
      " [4 4 3 4 4 4]\n",
      " [2 2 2 3 2 2]\n",
      " [2 2 2 3 2 2]]\n"
     ]
    }
   ],
   "source": [
    "a = np.array([[1,2], [3,4]])\n",
    "\n",
    "print('패딩폭 1')\n",
    "print(np.pad(a, 1))\n",
    "\n",
    "print('패딩폭 2')\n",
    "print(np.pad(a, 2))\n",
    "\n",
    "print('패딩폭 (0, 1)')\n",
    "print(np.pad(a, (0,1)))\n",
    "\n",
    "print('패딩폭 (1, 0)')\n",
    "print(np.pad(a, (1,0)))\n",
    "\n",
    "print('패딩폭 (1, 1)')\n",
    "print(np.pad(a, (1,1)))\n",
    "\n",
    "print('패딩폭 (1, 2)')\n",
    "print(np.pad(a, (1,2)))\n",
    "\n",
    "print('edge 패딩')\n",
    "print(np.pad(a, 2, \"edge\"))\n",
    "\n",
    "print('maximum 패딩')\n",
    "print(np.pad(a, 2, \"maximum\"))\n",
    "\n",
    "print('minimum 패딩')\n",
    "print(np.pad(a, 2, \"minimum\"))\n",
    "\n",
    "print('mean 패딩')\n",
    "print(np.pad(a, 2, \"mean\"))\n",
    "\n",
    "print('median 패딩')\n",
    "print(np.pad(a, 2, \"median\"))"
   ]
  }
 ],
 "metadata": {
  "kernelspec": {
   "display_name": "Python 3 (ipykernel)",
   "language": "python",
   "name": "python3"
  },
  "language_info": {
   "codemirror_mode": {
    "name": "ipython",
    "version": 3
   },
   "file_extension": ".py",
   "mimetype": "text/x-python",
   "name": "python",
   "nbconvert_exporter": "python",
   "pygments_lexer": "ipython3",
   "version": "3.8.9"
  }
 },
 "nbformat": 4,
 "nbformat_minor": 5
}
