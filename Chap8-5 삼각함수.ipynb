{
 "cells": [
  {
   "cell_type": "code",
   "execution_count": 1,
   "id": "7db1bf6d",
   "metadata": {},
   "outputs": [],
   "source": [
    "import numpy as np"
   ]
  },
  {
   "cell_type": "markdown",
   "id": "0e016d52",
   "metadata": {},
   "source": [
    "# 삼각함수\n",
    "\n",
    "## 1π rad = 180 deg 이다.\n",
    "\n",
    "* np.radians() : 라디안으로 변환해준다\n",
    "\n",
    "## 삼각함수\n",
    "* np.sin() : sin함수\n",
    "* np.cos() : cos함수\n",
    "* np.tan() : tan함수\n",
    "\n",
    "## 역삼각함수\n",
    "* np.arcsin() : 아크사인\n",
    "* np.arccos() : 아크코사인\n",
    "* np.arctan() : 아크탄젠트\n",
    "\n",
    "## 쌍곡선함수\n",
    "* np.sinh() : sinh함수\n",
    "* np.cosh() : cosh함수\n",
    "* np.tanh() : tanh함수\n",
    "\n",
    "\n",
    "\n",
    "\n"
   ]
  }
 ],
 "metadata": {
  "kernelspec": {
   "display_name": "Python 3 (ipykernel)",
   "language": "python",
   "name": "python3"
  },
  "language_info": {
   "codemirror_mode": {
    "name": "ipython",
    "version": 3
   },
   "file_extension": ".py",
   "mimetype": "text/x-python",
   "name": "python",
   "nbconvert_exporter": "python",
   "pygments_lexer": "ipython3",
   "version": "3.8.9"
  }
 },
 "nbformat": 4,
 "nbformat_minor": 5
}
