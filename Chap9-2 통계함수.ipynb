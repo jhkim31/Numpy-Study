{
 "cells": [
  {
   "cell_type": "code",
   "execution_count": 1,
   "id": "be61ea3a",
   "metadata": {},
   "outputs": [],
   "source": [
    "import numpy as np"
   ]
  },
  {
   "cell_type": "markdown",
   "id": "c750e1b5",
   "metadata": {},
   "source": [
    "# 최대 최소 처리\n",
    "\n",
    "* np.max() : 최대값\n",
    "* np.min() : 최소값\n",
    "    * axis 지정 가능\n",
    "\n",
    "* np.argmax() : 배열을 1차원으로 바꿔 가장 큰 인덱스를 리턴함\n",
    "* np.argmin() : 배열을 1차원으로 바꿔 가장 작은 인덱스를 리턴함\n",
    "    * axis 지정 가능"
   ]
  },
  {
   "cell_type": "code",
   "execution_count": 20,
   "id": "39b541ee",
   "metadata": {},
   "outputs": [
    {
     "name": "stdout",
     "output_type": "stream",
     "text": [
      "4\n",
      "[3 4]\n",
      "[2 4]\n",
      "b : \n",
      " [[5 7 2 3]\n",
      " [1 0 6 4]]\n",
      "np.argmax(b) :  1\n",
      "np.argmax(b, axis=0) :  [0 0 1 1]\n",
      "np.argmax(b, axis=1) :  [1 2]\n",
      "np.argmin(b) :  5\n"
     ]
    }
   ],
   "source": [
    "a = np.array([[1,2],[3,4]])\n",
    "print(np.max(a))\n",
    "print(np.max(a, axis=0))\n",
    "print(np.max(a, axis=1))\n",
    "\n",
    "b = np.arange(8)\n",
    "np.random.shuffle(b)\n",
    "b = b.reshape(2,4)\n",
    "\n",
    "print('b : \\n', b)\n",
    "print('np.argmax(b) : ', np.argmax(b))\n",
    "print('np.argmax(b, axis=0) : ', np.argmax(b, axis=0))\n",
    "print('np.argmax(b, axis=1) : ', np.argmax(b, axis=1))\n",
    "print('np.argmin(b) : ', np.argmin(b))"
   ]
  },
  {
   "cell_type": "markdown",
   "id": "9624b3dc",
   "metadata": {},
   "source": [
    "# 대표값"
   ]
  }
 ],
 "metadata": {
  "kernelspec": {
   "display_name": "Python 3 (ipykernel)",
   "language": "python",
   "name": "python3"
  },
  "language_info": {
   "codemirror_mode": {
    "name": "ipython",
    "version": 3
   },
   "file_extension": ".py",
   "mimetype": "text/x-python",
   "name": "python",
   "nbconvert_exporter": "python",
   "pygments_lexer": "ipython3",
   "version": "3.8.9"
  }
 },
 "nbformat": 4,
 "nbformat_minor": 5
}
