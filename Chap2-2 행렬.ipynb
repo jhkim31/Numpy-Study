{
 "cells": [
  {
   "cell_type": "code",
   "execution_count": 1,
   "id": "91fc190f",
   "metadata": {},
   "outputs": [],
   "source": [
    "import numpy as np"
   ]
  },
  {
   "cell_type": "markdown",
   "id": "4c66814b",
   "metadata": {},
   "source": [
    "# 행렬\n",
    "\n",
    "* np.full(shape, value, dtype)\n",
    "    * shape모양으로 value를 채운다"
   ]
  },
  {
   "cell_type": "code",
   "execution_count": 9,
   "id": "a9eb0441",
   "metadata": {},
   "outputs": [
    {
     "name": "stdout",
     "output_type": "stream",
     "text": [
      "2 * 1 행렬 : \n",
      " [[1]\n",
      " [2]]\n",
      "a.ndim :  2\n",
      "a.shape :  (2, 1)\n",
      "3 * 4 행렬 : \n",
      " [[9 9 9 9]\n",
      " [9 9 9 9]\n",
      " [9 9 9 9]]\n"
     ]
    }
   ],
   "source": [
    "a = np.array([[1], [2]])\n",
    "print('2 * 1 행렬 : \\n', a) \n",
    "print('a.ndim : ', a.ndim)\n",
    "print('a.shape : ', a.shape)\n",
    "\n",
    "b = np.full((3,4), 9, np.int64)\n",
    "print('3 * 4 행렬 : \\n', b)"
   ]
  },
  {
   "cell_type": "markdown",
   "id": "67befa7f",
   "metadata": {},
   "source": [
    "# 랭크\n",
    "선형독립인 열벡터의 수  \n",
    "m * n의 행렬A 가 있다면, r(A) <= min(m, n)이다.\n",
    "\n",
    "행렬식이 0이 나온다  \n",
    "=> 선형 종속이다  \n",
    "=> 최소한 전부 선형독립이 아니다.  \n",
    "\n",
    "a는 하나의 벡터이므로 무조건 선형 독립  \n",
    "b는 1행과 2행이 선형 종속이기 때문에 랭크는 1  \n",
    "c는 1,2,3행 모두 독립이므로 랭크는 3"
   ]
  },
  {
   "cell_type": "code",
   "execution_count": 21,
   "id": "c82d74d8",
   "metadata": {},
   "outputs": [
    {
     "name": "stdout",
     "output_type": "stream",
     "text": [
      "a의 랭크 :  1\n",
      "b의 랭크 :  1\n",
      "c의 랭크 :  3\n",
      "-4.0\n"
     ]
    }
   ],
   "source": [
    "a = np.array([1,2,3,4])\n",
    "b = np.array([\n",
    "    [1,2,3],\n",
    "    [2,4,6]\n",
    "])\n",
    "c = np.array([\n",
    "    [1,2,3],\n",
    "    [2,2,6],\n",
    "    [1,2,5]\n",
    "])\n",
    "print('a의 랭크 : ', np.linalg.matrix_rank(a))\n",
    "print('b의 랭크 : ', np.linalg.matrix_rank(b))\n",
    "print('c의 랭크 : ', np.linalg.matrix_rank(c))\n",
    "print(np.linalg.det(c))\n"
   ]
  },
  {
   "cell_type": "markdown",
   "id": "b096aaef",
   "metadata": {},
   "source": [
    "# 텐서와 축(axis)\n",
    "텐서는 다양한 차원을 가지는 벡터와 행렬의 추상적 명칭(앞에서 다룸)   \n",
    "\n",
    "* 1차원 텐서에서의 축에따른 계산\n",
    "    * 어차피 0축만 있기 때문에 쓰나 마나 동일함.\n",
    "    \n",
    "* 2차원 텐서에서의 축에따른 계산\n",
    "    * .sum()만 할경우 모든 원소의 합\n",
    "    * .sum(axis=0)으로 할경우 0번축(열기준)으로 원소 계산\n",
    "\n",
    "* 3차원, 4차원 텐서도 동일하다.\n",
    "    * 즉 .sum()만 할경우 모든 원소의 합을 줌\n",
    "    * .sum(axis=n)을 지정할 경우 해당 축을 기준으로 합을 계산."
   ]
  },
  {
   "cell_type": "code",
   "execution_count": 29,
   "id": "3781a59d",
   "metadata": {},
   "outputs": [
    {
     "name": "stdout",
     "output_type": "stream",
     "text": [
      "a.sum() :  45\n",
      "a.sum(axis=0) :  45\n",
      "\n",
      "b.sum() :  10\n",
      "b.sum(axis=0) :  [4 6]\n",
      "b.sum(axis=1) :  [3 7]\n",
      "\n",
      "c.sum() :  36\n",
      "c.sum(axis=0) : \n",
      " [[ 6  8]\n",
      " [10 12]]\n",
      "c.sum(axis=1) : \n",
      " [[ 4  6]\n",
      " [12 14]]\n",
      "c.sum(axis=2) : \n",
      " [[ 3  7]\n",
      " [11 15]]\n",
      "\n"
     ]
    }
   ],
   "source": [
    "a = np.arange(1, 10)\n",
    "b = np.array([[1,2],[3,4]])\n",
    "c = np.array([[[1,2], [3,4]], [[5,6], [7,8]]])\n",
    "\n",
    "print('a.sum() : ',a.sum())\n",
    "print('a.sum(axis=0) : ', a.sum(axis=0))\n",
    "print()\n",
    "\n",
    "print('b.sum() : ', b.sum())\n",
    "print('b.sum(axis=0) : ', b.sum(axis=0))\n",
    "print('b.sum(axis=1) : ', b.sum(axis=1))\n",
    "print()\n",
    "\n",
    "print('c.sum() : ', c.sum())\n",
    "print('c.sum(axis=0) : \\n', c.sum(axis=0))\n",
    "print('c.sum(axis=1) : \\n', c.sum(axis=1))\n",
    "print('c.sum(axis=2) : \\n', c.sum(axis=2))\n",
    "print()\n",
    "\n",
    "\n",
    "\n"
   ]
  },
  {
   "cell_type": "markdown",
   "id": "6366cf0d",
   "metadata": {},
   "source": [
    "# 축변환\n",
    "\n",
    "a2 => transpose\n",
    "0번축을 1번축으로,  \n",
    "1번축을 2번축으로,  \n",
    "2번축을 0번축으로 바꾼것이다.\n",
    "\n",
    "즉 배열에서 가장 안쪽에 있던 2번축 즉 0 과 1, 2와 3 ...등이 0 번축으로 바뀌어 배열을 우선적으로 나누는데 쓰임\n",
    "배열의 중간에 있던 1번축은 2번 축으로 즉 가장 안쪽으로 들어가게 되었다.  0,2,4,6  1,3,5,7 들은 가장 안쪽에 있음...\n",
    "\n",
    "rollaxis는 각 축을 변경함."
   ]
  },
  {
   "cell_type": "code",
   "execution_count": 44,
   "id": "96d1f592",
   "metadata": {},
   "outputs": [
    {
     "name": "stdout",
     "output_type": "stream",
     "text": [
      "3 * 4 * 2의 형태 : \n",
      "  [[[ 0  1]\n",
      "  [ 2  3]\n",
      "  [ 4  5]\n",
      "  [ 6  7]]\n",
      "\n",
      " [[ 8  9]\n",
      "  [10 11]\n",
      "  [12 13]\n",
      "  [14 15]]\n",
      "\n",
      " [[16 17]\n",
      "  [18 19]\n",
      "  [20 21]\n",
      "  [22 23]]]\n",
      "a1에서 행의 순서를 바꿈 : \n",
      "  [[[ 0  2  4  6]\n",
      "  [ 8 10 12 14]\n",
      "  [16 18 20 22]]\n",
      "\n",
      " [[ 1  3  5  7]\n",
      "  [ 9 11 13 15]\n",
      "  [17 19 21 23]]]\n",
      "\n",
      "b.shape :  (1, 2, 3, 4)\n",
      "축 변경 :  (1, 2, 4, 3)\n",
      "\n",
      "c :  [[1 2 3 4 5]]\n",
      "c.T : \n",
      " [[1]\n",
      " [2]\n",
      " [3]\n",
      " [4]\n",
      " [5]]\n",
      "np.swapaxes(c, 0, 1) : \n",
      " [[1]\n",
      " [2]\n",
      " [3]\n",
      " [4]\n",
      " [5]]\n"
     ]
    }
   ],
   "source": [
    "a = np.arange(24)\n",
    "a1 = a.reshape(3,4,2)\n",
    "a2 = a1.transpose(2,0,1) \n",
    "\n",
    "print('3 * 4 * 2의 형태 : \\n ', a1)\n",
    "print('a1에서 행의 순서를 바꿈 : \\n ', a2)\n",
    "print()\n",
    "\n",
    "b = np.ones((1,2,3,4))\n",
    "print('b.shape : ', b.shape)\n",
    "print('축 변경 : ', np.rollaxis(b, 3, 2).shape)\n",
    "print()\n",
    "\n",
    "c = np.array([[1,2,3,4,5]])\n",
    "print('c : ', c)\n",
    "print('c.T : \\n', c.T)\n",
    "print('np.swapaxes(c, 0, 1) : \\n', np.swapaxes(c, 0, 1))\n"
   ]
  },
  {
   "cell_type": "markdown",
   "id": "8fcf79e6",
   "metadata": {},
   "source": [
    "# 배열 확장 및 축소\n",
    "\n",
    "* np.expand_dims(arr, axis)\n",
    "    * 지정하는 축을 추가한다.\n",
    "\n",
    "* flatten(), ravel()\n",
    "    * 앞에서 설명했으므로 생략한다."
   ]
  },
  {
   "cell_type": "code",
   "execution_count": 45,
   "id": "66eeef21",
   "metadata": {},
   "outputs": [
    {
     "name": "stdout",
     "output_type": "stream",
     "text": [
      "[1 2]\n",
      "[[1 2]]\n",
      "[[1]\n",
      " [2]]\n"
     ]
    }
   ],
   "source": [
    "a = np.array([1,2])\n",
    "b = np.expand_dims(a, axis=0)\n",
    "c = np.expand_dims(a, axis=1)\n",
    "\n",
    "print(a)\n",
    "print(b)\n",
    "print(c)\n"
   ]
  }
 ],
 "metadata": {
  "kernelspec": {
   "display_name": "Python 3 (ipykernel)",
   "language": "python",
   "name": "python3"
  },
  "language_info": {
   "codemirror_mode": {
    "name": "ipython",
    "version": 3
   },
   "file_extension": ".py",
   "mimetype": "text/x-python",
   "name": "python",
   "nbconvert_exporter": "python",
   "pygments_lexer": "ipython3",
   "version": "3.8.9"
  }
 },
 "nbformat": 4,
 "nbformat_minor": 5
}
