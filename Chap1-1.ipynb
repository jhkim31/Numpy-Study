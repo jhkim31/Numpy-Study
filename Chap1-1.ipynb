{
 "cells": [
  {
   "cell_type": "code",
   "execution_count": 2,
   "id": "59b0732c",
   "metadata": {},
   "outputs": [],
   "source": [
    "import numpy as np"
   ]
  },
  {
   "cell_type": "markdown",
   "id": "91bd80af",
   "metadata": {},
   "source": [
    "# 레퍼런스\n",
    "아래와 같은 방법으로 변수를 선언하면 b와 a는 같은 레퍼런스를 참조하게 되며  \n",
    "\n",
    "b가 변화시 a도 같이 변하게 됨."
   ]
  },
  {
   "cell_type": "code",
   "execution_count": 3,
   "id": "880bc3c6",
   "metadata": {},
   "outputs": [
    {
     "name": "stdout",
     "output_type": "stream",
     "text": [
      "a :  [10  2  3  4]\n",
      "b :  [10  2  3  4]\n"
     ]
    }
   ],
   "source": [
    "#cell 1\n",
    "a = np.array([1,2,3,4])\n",
    "b = a\n",
    "b[0] = 10\n",
    "print('a : ', a)\n",
    "print('b : ', b)"
   ]
  },
  {
   "cell_type": "markdown",
   "id": "22d42690",
   "metadata": {},
   "source": [
    "# 카피\n",
    "a와 값만 동일한 ndarray를 만들려면 아래와 같이 np.array()로 새로운 ndarray를 만들거나 .copy()를 이용하면 된다."
   ]
  },
  {
   "cell_type": "code",
   "execution_count": 4,
   "id": "d889a7de",
   "metadata": {},
   "outputs": [
    {
     "name": "stdout",
     "output_type": "stream",
     "text": [
      "a :  [1 2 3 4]\n",
      "c :  [10  2  3  4]\n"
     ]
    }
   ],
   "source": [
    "a = np.array([1,2,3,4])\n",
    "c = np.array(a)\n",
    "c[0] = 10\n",
    "print('a : ', a)\n",
    "print('c : ', c)"
   ]
  },
  {
   "cell_type": "markdown",
   "id": "447c42d4",
   "metadata": {},
   "source": [
    "# dtype\n",
    "기본 타입은 추론하여 지정하지만, 특별하게 dtype을 지정해 줄 수 있다.  \n",
    "\n",
    "아래는 1,2,3,4의 기본 dtype은 int64지만 float64로 따로 지정해준 모습"
   ]
  },
  {
   "cell_type": "code",
   "execution_count": 6,
   "id": "64e451a4",
   "metadata": {},
   "outputs": [
    {
     "name": "stdout",
     "output_type": "stream",
     "text": [
      "a.dtype 1):  int64\n",
      "a.dtype 2):  float64\n"
     ]
    }
   ],
   "source": [
    "a = np.array([1,2,3,4])\n",
    "print('a.dtype 1): ', a.dtype)\n",
    "\n",
    "a = np.array([1,2,3,4], dtype=\"float\")\n",
    "print('a.dtype 2): ', a.dtype)"
   ]
  },
  {
   "cell_type": "markdown",
   "id": "6a09270e",
   "metadata": {},
   "source": [
    "# property\n",
    "* .shape : 축의 원소 개수 \n",
    "* .ndim : 축의 개수\n",
    "\n",
    "2 * 3 배열인 a는 (2,3)의 shape와 2개의 축을 가짐"
   ]
  },
  {
   "cell_type": "code",
   "execution_count": 7,
   "id": "35bcb9b0",
   "metadata": {},
   "outputs": [
    {
     "name": "stdout",
     "output_type": "stream",
     "text": [
      "a.shape :  (2, 3)\n",
      "a.ndim :  2\n",
      "b.shape :  (2, 3, 1)\n",
      "b.ndim :  3\n"
     ]
    }
   ],
   "source": [
    "a = np.array([[1,2,3], [4,5,6]])\n",
    "b = np.array([[[1],[2],[3]], [[4],[5],[6]]])\n",
    "print('a.shape : ', a.shape)\n",
    "print('a.ndim : ', a.ndim)\n",
    "print('b.shape : ', b.shape)\n",
    "print('b.ndim : ', b.ndim)"
   ]
  },
  {
   "cell_type": "markdown",
   "id": "fd6422b9",
   "metadata": {},
   "source": [
    "# property\n",
    "* .dtype : 데이터타입\n",
    "* .itemsize : 원소의 크기(바이트)\n",
    "* .size : 데이터의 크기 (원소 개수)\n",
    "* .strides : 행의 크기 [,행의 행의크기], ... ,  마지막 행의 원소크기\n",
    "   \n",
    "=> 2 * 2 인 경우 행은 2 * 1 이다.  \n",
    "하지만 2 * 2 * 2 인 경우 최초의 행'은 2 * 2 의 형태고  \n",
    "이 행'의 행''은 2 * 1의 형태다.  \n",
    "즉 재귀적으로 행의 크기를 타고 들어가는 느낌..  \n"
   ]
  },
  {
   "cell_type": "code",
   "execution_count": 8,
   "id": "bc0adcba",
   "metadata": {},
   "outputs": [
    {
     "name": "stdout",
     "output_type": "stream",
     "text": [
      "a.dtype :  int64\n",
      "a.itemsize :  8\n",
      "a.size :  4\n",
      "a.strides :  (16, 8)\n",
      "b.strides :  (32, 16, 8)\n"
     ]
    }
   ],
   "source": [
    "a = np.array([[1,2], [4,6]])\n",
    "b = np.array([[[1,2], [3,4]], [[5,6],[7,8]]])\n",
    "\n",
    "print('a.dtype : ', a.dtype)\n",
    "print('a.itemsize : ', a.itemsize)\n",
    "print('a.size : ', a.size)\n",
    "print('a.strides : ', a.strides)\n",
    "print('b.strides : ', b.strides)"
   ]
  },
  {
   "cell_type": "markdown",
   "id": "33fd8d25",
   "metadata": {},
   "source": [
    "# property\n",
    "* .__array_interface__ : 해당 ndarray의 정보를 전부 출력함.\n",
    "* .data : 데이터가 저장된 메모리주소\n",
    "* .data.tobytes() : 데이터를 바이트로 바꿨을때 크기\n",
    "* .data.hex() : 16진수로 바꿨을때\n",
    "* .tolist() : ndarray => list로\n",
    "* .flags : 배열의 정보 (C또는 포트란에서 표시할 수 있는지에 대해)"
   ]
  },
  {
   "cell_type": "code",
   "execution_count": 9,
   "id": "cc171a82",
   "metadata": {},
   "outputs": [
    {
     "name": "stdout",
     "output_type": "stream",
     "text": [
      "a.array_interface__ :  {'data': (105553152724064, False), 'strides': None, 'descr': [('', '<i8')], 'typestr': '<i8', 'shape': (2, 3), 'version': 3}\n",
      "a.data :  <memory at 0x7fcc75fdc2b0>\n",
      "a.data.tobytes() :  b'\\x01\\x00\\x00\\x00\\x00\\x00\\x00\\x00\\x02\\x00\\x00\\x00\\x00\\x00\\x00\\x00\\x03\\x00\\x00\\x00\\x00\\x00\\x00\\x00\\x04\\x00\\x00\\x00\\x00\\x00\\x00\\x00\\x05\\x00\\x00\\x00\\x00\\x00\\x00\\x00\\x06\\x00\\x00\\x00\\x00\\x00\\x00\\x00'\n",
      "a.data.hex() :  010000000000000002000000000000000300000000000000040000000000000005000000000000000600000000000000\n",
      "a.tolist() :  [[1, 2, 3], [4, 5, 6]]\n",
      "a.flags :    C_CONTIGUOUS : True\n",
      "  F_CONTIGUOUS : False\n",
      "  OWNDATA : True\n",
      "  WRITEABLE : True\n",
      "  ALIGNED : True\n",
      "  WRITEBACKIFCOPY : False\n",
      "  UPDATEIFCOPY : False\n",
      "\n"
     ]
    }
   ],
   "source": [
    "a = np.array([[1,2,3], [4,5,6]])\n",
    "print('a.array_interface__ : ', a.__array_interface__)\n",
    "print('a.data : ', a.data)\n",
    "print('a.data.tobytes() : ', a.data.tobytes())\n",
    "print('a.data.hex() : ', a.data.hex())\n",
    "print('a.tolist() : ', a.tolist())\n",
    "print('a.flags : ', a.flags)"
   ]
  },
  {
   "cell_type": "markdown",
   "id": "e290578a",
   "metadata": {},
   "source": [
    "# 차원 축소\n",
    "1차원으로 만드는 방법.  \n",
    "* .flatten : 원본과 동일한 복사본을 1차원으로 만든다\n",
    "* .ravel : 원본의 1차원 뷰를 만든다(원본도 같이 변경됨)"
   ]
  },
  {
   "cell_type": "code",
   "execution_count": 10,
   "id": "683f792b",
   "metadata": {},
   "outputs": [
    {
     "name": "stdout",
     "output_type": "stream",
     "text": [
      "a :  [[1 2 3]\n",
      " [4 5 6]]\n",
      "b :  [1 2 3 9 5 6]\n",
      "a :  [[1 2 3]\n",
      " [4 5 6]]\n",
      "c :  [ 1  2  3 99  5  6]\n"
     ]
    }
   ],
   "source": [
    "a = np.array([[1,2,3], [4,5,6]])\n",
    "b = a.flatten()\n",
    "c = a.ravel()\n",
    "\n",
    "b[3] = 9\n",
    "print('a : ', a)\n",
    "print('b : ', b)\n",
    "\n",
    "a = np.array([[1,2,3], [4,5,6]])\n",
    "c[3] = 99\n",
    "print('a : ', a)\n",
    "print('c : ', c)\n"
   ]
  },
  {
   "cell_type": "markdown",
   "id": "2230cf2a",
   "metadata": {},
   "source": [
    "# 원소 접근"
   ]
  },
  {
   "cell_type": "code",
   "execution_count": 12,
   "id": "ce3ac228",
   "metadata": {},
   "outputs": [
    {
     "name": "stdout",
     "output_type": "stream",
     "text": [
      "a[0][1] :  2\n",
      "a[0,1] :  2\n",
      "a[(0,1)] :  2\n"
     ]
    }
   ],
   "source": [
    "a = np.array([[1,2,3], [4,5,6]])\n",
    "print('a[0][1] : ', a[0][1])\n",
    "print('a[0,1] : ', a[0,1])\n",
    "print('a[(0,1)] : ', a[(0,1)])"
   ]
  },
  {
   "cell_type": "markdown",
   "id": "78299336",
   "metadata": {},
   "source": [
    "# array, matrix\n",
    "array는 차원 표기시 5, 로 표기되지만,  \n",
    "matrix는 무조건 행렬을 가진 (1,5)로 표기됨\n",
    "\n",
    "또한 * 연산시 array는 각 원소가 element wise한 연산을 진행하지만  \n",
    "matrix는 * 연산을 사용시 오류가 난다. => 같은 결과를 얻으려면 multiply()를 사용"
   ]
  },
  {
   "cell_type": "code",
   "execution_count": 13,
   "id": "a250aaa6",
   "metadata": {},
   "outputs": [
    {
     "name": "stdout",
     "output_type": "stream",
     "text": [
      "a.shape :  (5,)\n",
      "b.shape :  (1, 5)\n",
      "c :  [[1 2 3 4 5]]\n",
      "c.shape :  (1, 5)\n",
      "a * a : [ 1  4  9 16 25]\n",
      "np.multiply(b, b) :  [[ 1  4  9 16 25]]\n"
     ]
    }
   ],
   "source": [
    "a = np.array([1,2,3,4,5])\n",
    "b = np.matrix([1,2,3,4,5])\n",
    "\n",
    "print('a.shape : ', a.shape)\n",
    "print('b.shape : ', b.shape)\n",
    "\n",
    "c = np.asmatrix(a)\n",
    "print('c : ', c)\n",
    "print('c.shape : ', c.shape)\n",
    "\n",
    "print('a * a :', a * a)\n",
    "#b * b 예외\n",
    "print('np.multiply(b, b) : ', np.multiply(b, b))"
   ]
  },
  {
   "cell_type": "markdown",
   "id": "83df0831",
   "metadata": {},
   "source": [
    "#  matrix의 property\n",
    "* .H : 전치행렬\n",
    "* .T : 전치행렬\n",
    "* .I : 역행렬"
   ]
  },
  {
   "cell_type": "code",
   "execution_count": 14,
   "id": "fc340d83",
   "metadata": {},
   "outputs": [
    {
     "name": "stdout",
     "output_type": "stream",
     "text": [
      "a :  [[1 2 3]\n",
      " [4 5 6]]\n",
      "\n",
      "a.H :  [[1 4]\n",
      " [2 5]\n",
      " [3 6]]\n",
      "\n",
      "a.T :  [[1 4]\n",
      " [2 5]\n",
      " [3 6]]\n",
      "\n",
      "a.I :  [[-0.94444444  0.44444444]\n",
      " [-0.11111111  0.11111111]\n",
      " [ 0.72222222 -0.22222222]]\n"
     ]
    }
   ],
   "source": [
    "a = np.matrix([[1,2,3], [4,5,6]])\n",
    "\n",
    "print('a : ', a)\n",
    "print()\n",
    "print('a.H : ', a.H)\n",
    "print()\n",
    "print('a.T : ', a.T)\n",
    "print()\n",
    "print('a.I : ', a.I)"
   ]
  }
 ],
 "metadata": {
  "kernelspec": {
   "display_name": "Python 3 (ipykernel)",
   "language": "python",
   "name": "python3"
  },
  "language_info": {
   "codemirror_mode": {
    "name": "ipython",
    "version": 3
   },
   "file_extension": ".py",
   "mimetype": "text/x-python",
   "name": "python",
   "nbconvert_exporter": "python",
   "pygments_lexer": "ipython3",
   "version": "3.8.9"
  }
 },
 "nbformat": 4,
 "nbformat_minor": 5
}
