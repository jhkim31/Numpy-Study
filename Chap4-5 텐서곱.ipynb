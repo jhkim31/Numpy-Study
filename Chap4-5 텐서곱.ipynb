{
 "cells": [
  {
   "cell_type": "code",
   "execution_count": 1,
   "id": "d1f9b291",
   "metadata": {},
   "outputs": [],
   "source": [
    "import numpy as np"
   ]
  },
  {
   "cell_type": "markdown",
   "id": "34b100f6",
   "metadata": {},
   "source": [
    "# 텐서곱 \n",
    "\n",
    "np.tensordot(a,b, axes = n)"
   ]
  },
  {
   "cell_type": "code",
   "execution_count": 16,
   "id": "9727be3e",
   "metadata": {},
   "outputs": [
    {
     "name": "stdout",
     "output_type": "stream",
     "text": [
      "17\n",
      "[[ 5  5]\n",
      " [11 11]]\n",
      "32\n"
     ]
    }
   ],
   "source": [
    "a = np.array([[1,2], [3,4]])\n",
    "b = np.array([[1,1], [2,2]])\n",
    "\n",
    "c = np.array([1,2,3])\n",
    "d = np.array([4,5,6])\n",
    "\n",
    "print(np.tensordot(a,b))\n",
    "print(np.tensordot(a,b,axes=1))\n",
    "print(np.tensordot(c,d, axes=1))"
   ]
  }
 ],
 "metadata": {
  "kernelspec": {
   "display_name": "Python 3 (ipykernel)",
   "language": "python",
   "name": "python3"
  },
  "language_info": {
   "codemirror_mode": {
    "name": "ipython",
    "version": 3
   },
   "file_extension": ".py",
   "mimetype": "text/x-python",
   "name": "python",
   "nbconvert_exporter": "python",
   "pygments_lexer": "ipython3",
   "version": "3.8.9"
  }
 },
 "nbformat": 4,
 "nbformat_minor": 5
}
