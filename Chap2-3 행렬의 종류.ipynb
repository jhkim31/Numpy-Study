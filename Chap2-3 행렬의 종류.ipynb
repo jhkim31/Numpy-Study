{
 "cells": [
  {
   "cell_type": "code",
   "execution_count": 1,
   "id": "03475859",
   "metadata": {},
   "outputs": [],
   "source": [
    "import numpy as np"
   ]
  },
  {
   "cell_type": "markdown",
   "id": "1508bb8c",
   "metadata": {},
   "source": [
    "# 정사각행렬\n",
    "\n",
    "행과 열이 동일함.  \n",
    "\n",
    "## 궤적 : Trace\n",
    "주대각선 원소의 합  \n",
    ".trace()"
   ]
  },
  {
   "cell_type": "code",
   "execution_count": 4,
   "id": "9f487fb5",
   "metadata": {},
   "outputs": [
    {
     "name": "stdout",
     "output_type": "stream",
     "text": [
      "[[1 2 3]\n",
      " [4 5 6]\n",
      " [7 8 9]]\n",
      "15\n"
     ]
    }
   ],
   "source": [
    "a = np.array([[1,2,3], [4,5,6], [7,8,9]])\n",
    "print('a : ', a)\n",
    "\n",
    "print('a.trace() : ', a.trace())"
   ]
  },
  {
   "cell_type": "markdown",
   "id": "8f65e056",
   "metadata": {},
   "source": [
    "# 대각행렬\n",
    "정사각행렬일때 주대각선을 제외한 모든 원소가 0임\n",
    "\n",
    "* .diagonal() : 주대각선의 원소만 뽑아냄\n",
    "* np.diag() : 1차원 배열을 받아 대각행렬을 만들어냄\n",
    "    * k값을 임의로 지정하여 대각선의 위치를 지정 가능\n",
    "        * 주대각선 0을 기준으로 주대각선 보다 위에있는 대각선은 양수, 아래있는 대각선은 음수다\n"
   ]
  },
  {
   "cell_type": "code",
   "execution_count": 12,
   "id": "40a23793",
   "metadata": {},
   "outputs": [
    {
     "name": "stdout",
     "output_type": "stream",
     "text": [
      "a : \n",
      " [[1 0 0]\n",
      " [0 3 0]\n",
      " [0 0 5]]\n",
      "a.diagonal() :  [1 3 5]\n",
      "np.diag([2,4,6]) : \n",
      " [[2 0 0]\n",
      " [0 4 0]\n",
      " [0 0 6]]\n",
      "np.diag([2,4,6], k = 1) : \n",
      " [[0 2 0 0]\n",
      " [0 0 4 0]\n",
      " [0 0 0 6]\n",
      " [0 0 0 0]]\n"
     ]
    }
   ],
   "source": [
    "a = np.array([[1,0,0], [0,3,0], [0,0,5]])\n",
    "\n",
    "print('a : \\n', a)\n",
    "print('a.diagonal() : ', a.diagonal())\n",
    "print('np.diag([2,4,6]) : \\n', np.diag([2,4,6]))\n",
    "print('np.diag([2,4,6], k = 1) : \\n', np.diag([2,4,6], k = 1))"
   ]
  },
  {
   "cell_type": "markdown",
   "id": "b61cc34d",
   "metadata": {},
   "source": [
    "# 단위행렬(항등행렬)\n",
    "\n",
    "대각행렬중 주대각선 원소가 모두 1인 행렬.  \n",
    "이 행렬에 다른 행렬을 곱하여도 동일한 행렬 반환 (곱셈의 항등원)\n",
    "* np.np.eye() 단위 행렬을 만든다\n",
    "    * 이또한 역시 k값을 임의로 주어 다른 위치의 대각선으로도 가능함.\n",
    "\n",
    "* np.identity() : 항등행렬을 만든다"
   ]
  },
  {
   "cell_type": "code",
   "execution_count": 19,
   "id": "8a5bd79f",
   "metadata": {},
   "outputs": [
    {
     "name": "stdout",
     "output_type": "stream",
     "text": [
      "[[1. 0. 0.]\n",
      " [0. 1. 0.]\n",
      " [0. 0. 1.]]\n",
      "\n",
      "[[0. 1. 0.]\n",
      " [0. 0. 1.]\n",
      " [0. 0. 0.]]\n",
      "\n",
      "[[1. 0. 0.]\n",
      " [0. 1. 0.]\n",
      " [0. 0. 1.]]\n",
      "[[1. 2. 3.]\n",
      " [4. 5. 6.]\n",
      " [7. 8. 9.]]\n"
     ]
    }
   ],
   "source": [
    "a = np.eye(3,3)\n",
    "print(a)\n",
    "print()\n",
    "\n",
    "b = np.eye(3,3, k = 1)\n",
    "print(b)\n",
    "print()\n",
    "\n",
    "c = np.identity(3)\n",
    "d = np.array([[1,2,3], [4,5,6], [7,8,9]])\n",
    "print(c)\n",
    "print(c @ d)\n"
   ]
  },
  {
   "cell_type": "markdown",
   "id": "54adeff7",
   "metadata": {},
   "source": [
    "# 삼각행렬\n",
    "주대각선 기준 위, 아래 값이 전부 0인경우  \n",
    "* 하삼각행렬 : tril\n",
    "    * np.tril() 메소드로 정사사각 행렬의 주대각선 밑 원소를 제외하고 모두 날려버림\n",
    "        * k값을 통해 다른 위치의 대각선도 가능   \n",
    "* 상삼각행렬 : triu\n",
    "    * np.triu() 메소드로 정사각 행렬의 주대각선 위 원소를 제외하고 모두 날려버림\n",
    "        * k값을 통해 다른 위치의 대각선도 가능\n",
    "\n",
    "\n",
    "tril과 triu는 서로 전치관계이다"
   ]
  },
  {
   "cell_type": "code",
   "execution_count": 31,
   "id": "35ad1163",
   "metadata": {},
   "outputs": [
    {
     "name": "stdout",
     "output_type": "stream",
     "text": [
      "a_tril : \n",
      " [[1 0 0]\n",
      " [4 5 0]\n",
      " [7 8 9]]\n",
      "a_tril2 : \n",
      "  [[0 0 0]\n",
      " [4 0 0]\n",
      " [7 8 0]]\n",
      "b_triu : \n",
      " [[10  9  8]\n",
      " [ 0  6  5]\n",
      " [ 0  0  2]]\n",
      "c : \n",
      " [[1 0 0 0]\n",
      " [1 2 0 0]\n",
      " [1 2 3 0]\n",
      " [1 2 3 4]]\n",
      "a_tril.T : \n",
      " [[1 4 7]\n",
      " [0 5 8]\n",
      " [0 0 9]]\n"
     ]
    }
   ],
   "source": [
    "a = np.array(np.arange(1, 10)).reshape(3,3)\n",
    "b = np.array(np.arange(10, 1, -1)).reshape(3,3)\n",
    "c = np.array([1,2,3,4])\n",
    "\n",
    "a_tril = np.tril(a)\n",
    "a_tril2 = np.tril(a, k = -1)\n",
    "b_triu = np.triu(b)\n",
    "c = np.tril(c)\n",
    "print('a_tril : \\n', a_tril)\n",
    "print('a_tril2 : \\n ', a_tril2)\n",
    "print('b_triu : \\n', b_triu)\n",
    "print('c : \\n', c) #이런 방법도 있음\n",
    "\n",
    "print('a_tril.T : \\n' , a_tril.T)"
   ]
  },
  {
   "cell_type": "markdown",
   "id": "29301e8d",
   "metadata": {},
   "source": [
    "# 영행렬\n",
    "\n",
    "* np.zeros() : shape를 주어 0행렬을 만든다\n",
    "\n",
    "* np.zeros_like() : 기존 행렬을 주어 그와 같은 shape의 행렬을 만든다"
   ]
  },
  {
   "cell_type": "code",
   "execution_count": 35,
   "id": "8302e550",
   "metadata": {},
   "outputs": [
    {
     "name": "stdout",
     "output_type": "stream",
     "text": [
      "a : \n",
      " [[0. 0. 0. 0. 0.]\n",
      " [0. 0. 0. 0. 0.]\n",
      " [0. 0. 0. 0. 0.]\n",
      " [0. 0. 0. 0. 0.]]\n",
      "\n",
      "b : \n",
      " [[0 0 0 0]\n",
      " [0 0 0 0]]\n"
     ]
    }
   ],
   "source": [
    "a = np.zeros((4,5))\n",
    "b = np.zeros_like(np.array(\n",
    "    [\n",
    "        [1,2,3,4], \n",
    "        [5,6,7,8]\n",
    "    ])\n",
    ")\n",
    "\n",
    "print('a : \\n', a)\n",
    "print()\n",
    "\n",
    "print('b : \\n', b)"
   ]
  },
  {
   "cell_type": "markdown",
   "id": "adc15202",
   "metadata": {},
   "source": [
    "# 대칭행렬\n",
    "주대각선 기준으로 위 아래 원소가 동일함.\n",
    "\n",
    "# 반 대칭행렬\n",
    "주대각 성분 기준 값은 같지만 부호가 반대임.\n",
    "\n"
   ]
  },
  {
   "cell_type": "code",
   "execution_count": 40,
   "id": "06d2a14d",
   "metadata": {},
   "outputs": [
    {
     "name": "stdout",
     "output_type": "stream",
     "text": [
      "[[1 2 3]\n",
      " [2 3 5]\n",
      " [3 5 6]]\n",
      "\n",
      "[[1 2 3]\n",
      " [2 3 5]\n",
      " [3 5 6]]\n",
      "\n",
      "[[ 0  2 -3]\n",
      " [-2  0  5]\n",
      " [ 3 -5  0]]\n",
      "\n",
      "[[ 0 -2  3]\n",
      " [ 2  0 -5]\n",
      " [-3  5  0]]\n",
      "\n"
     ]
    }
   ],
   "source": [
    "a = np.array([[1,2,3],[2,3,5], [3,5,6]])\n",
    "\n",
    "print(a)\n",
    "print()\n",
    "print(a.T)\n",
    "print()\n",
    "\n",
    "b = np.array([[0,2,-3], [-2,0,5], [3,-5,0]])\n",
    "print(b)\n",
    "print()\n",
    "print(b.T)\n",
    "print()"
   ]
  },
  {
   "cell_type": "markdown",
   "id": "a2ecf7e8",
   "metadata": {},
   "source": [
    "# 치환행렬\n",
    "단위행렬이나 행을 교환해 재구성 함.  \n",
    "행변환을 한 단위 행렬과 행렬을 곱셈(dot product) 한다."
   ]
  },
  {
   "cell_type": "code",
   "execution_count": 48,
   "id": "54173105",
   "metadata": {},
   "outputs": [
    {
     "name": "stdout",
     "output_type": "stream",
     "text": [
      "[[1 2 3]\n",
      " [4 5 6]\n",
      " [7 8 9]]\n",
      "\n",
      "[[0 1 0]\n",
      " [1 0 0]\n",
      " [0 0 1]]\n",
      "\n",
      "[[2 1 3]\n",
      " [5 4 6]\n",
      " [8 7 9]]\n",
      "\n",
      "[[2 1 3]\n",
      " [5 4 6]\n",
      " [8 7 9]]\n"
     ]
    }
   ],
   "source": [
    "a = np.array(np.arange(1,10)).reshape(3,3)\n",
    "b = np.array([[0,1,0], [1,0,0], [0,0,1]])\n",
    "print(a)\n",
    "print()\n",
    "\n",
    "print(b)\n",
    "print()\n",
    "\n",
    "print(np.dot(a,b))\n",
    "print()\n",
    "\n",
    "print(a @ b)"
   ]
  },
  {
   "cell_type": "markdown",
   "id": "67babc44",
   "metadata": {},
   "source": [
    "# 직교행렬\n",
    "\n",
    "자기 자신의 행렬과 전치 행렬을 행렬곱으로 계산한 결과\n",
    "A @ A.T\n",
    "**직교행렬의 전치행렬은 역행렬이다**"
   ]
  },
  {
   "cell_type": "markdown",
   "id": "aedb80f7",
   "metadata": {},
   "source": [
    "# 전치행렬\n",
    "\n",
    "행렬의 모든 행과 열을 바꾸면 전치 행렬임."
   ]
  },
  {
   "cell_type": "code",
   "execution_count": 49,
   "id": "4b765248",
   "metadata": {},
   "outputs": [
    {
     "name": "stdout",
     "output_type": "stream",
     "text": [
      "[[1 2]\n",
      " [3 4]]\n",
      "[[1 3]\n",
      " [2 4]]\n"
     ]
    }
   ],
   "source": [
    "a = np.array([[1,2],[3,4]])\n",
    "print(a)\n",
    "\n",
    "print(a.T)"
   ]
  }
 ],
 "metadata": {
  "kernelspec": {
   "display_name": "Python 3 (ipykernel)",
   "language": "python",
   "name": "python3"
  },
  "language_info": {
   "codemirror_mode": {
    "name": "ipython",
    "version": 3
   },
   "file_extension": ".py",
   "mimetype": "text/x-python",
   "name": "python",
   "nbconvert_exporter": "python",
   "pygments_lexer": "ipython3",
   "version": "3.8.9"
  }
 },
 "nbformat": 4,
 "nbformat_minor": 5
}
