{
 "cells": [
  {
   "cell_type": "code",
   "execution_count": 4,
   "id": "85d3da6c",
   "metadata": {},
   "outputs": [],
   "source": [
    "import numpy as np\n",
    "import matplotlib.pyplot as plt"
   ]
  },
  {
   "cell_type": "markdown",
   "id": "a0e8d6da",
   "metadata": {},
   "source": [
    "# 시드\n",
    "\n",
    "* np.random.seed() : 시드를 설정한다.\n",
    "동일한 시드는 동일한 랜덤값이 나온다"
   ]
  },
  {
   "cell_type": "code",
   "execution_count": 39,
   "id": "0f67a751",
   "metadata": {},
   "outputs": [
    {
     "name": "stdout",
     "output_type": "stream",
     "text": [
      "시드3으로 생성한 첫번째 배열 :  [0.5507979  0.70814782 0.29090474 0.51082761 0.89294695]\n",
      "시드3으로 생성한 두번째 배열 :  [0.89629309 0.12558531 0.20724288 0.0514672  0.44080984]\n",
      "다시 시드3으로 생성한 첫번째 배열 :  [0.5507979  0.70814782 0.29090474 0.51082761 0.89294695]\n"
     ]
    }
   ],
   "source": [
    "np.random.seed(3)\n",
    "print('시드3으로 생성한 첫번째 배열 : ', np.random.rand(5))\n",
    "print('시드3으로 생성한 두번째 배열 : ', np.random.rand(5))\n",
    "np.random.seed(3)\n",
    "print('다시 시드3으로 생성한 첫번째 배열 : ', np.random.rand(5))"
   ]
  },
  {
   "cell_type": "markdown",
   "id": "ac2c1fa0",
   "metadata": {},
   "source": [
    "# 균등분포 uniform distribution\n",
    "\n",
    "* np.random.rand() : 균등분포 임의 난수 배열 생성\n",
    "* np.random.randint() : 랜덤 정수 이산 분포 배열 리턴\n",
    "* np.random.uniform() : 랜덤 실수 분포 배열 리턴"
   ]
  },
  {
   "cell_type": "code",
   "execution_count": 41,
   "id": "d3cb01c9",
   "metadata": {},
   "outputs": [
    {
     "data": {
      "image/png": "[encoded data removed]",
      "text/plain": [
       "<Figure size 432x288 with 1 Axes>"
      ]
     },
     "metadata": {
      "needs_background": "light"
     },
     "output_type": "display_data"
    },
    {
     "name": "stdout",
     "output_type": "stream",
     "text": [
      "b : \n",
      " [[5 9 8 8 8]\n",
      " [8 7 5 9 9]\n",
      " [6 7 5 5 9]\n",
      " [9 8 7 7 8]\n",
      " [5 5 5 8 8]]\n",
      "c : \n",
      " [[7.20487787 8.53501195 5.29508042 6.1575245  8.49797341]\n",
      " [8.54424792 7.86127205 6.30747549 6.12741516 7.6671975 ]\n",
      " [6.31832476 8.69724155 8.83847564 8.59683707 8.14565955]\n",
      " [9.46682386 7.76308173 6.41025671 6.18882297 5.50044697]\n",
      " [8.08876764 8.82599602 8.05130753 5.66203465 8.50576884]]\n"
     ]
    }
   ],
   "source": [
    "a = np.random.rand(500)\n",
    "b = np.random.randint(5, 10, (5,5))\n",
    "c = np.random.uniform(5, 10, (5,5))\n",
    "plt.hist(a)\n",
    "plt.show()\n",
    "print('b : \\n',b)\n",
    "print('c : \\n', c)"
   ]
  },
  {
   "cell_type": "markdown",
   "id": "098fc41f",
   "metadata": {},
   "source": [
    "# 정규 분포\n",
    "\n",
    "* np.random.normal() : 평균과 표준편차를 지정하여 리턴\n",
    "* np.random.randn() : 평균 0, 표편 1인 정규분포를따르는 배열 리턴"
   ]
  },
  {
   "cell_type": "code",
   "execution_count": 44,
   "id": "00b68531",
   "metadata": {},
   "outputs": [
    {
     "name": "stdout",
     "output_type": "stream",
     "text": [
      "b : \n",
      " [[ 0.8660358  -0.63182247 -2.36241279  0.28793239  0.41962079]\n",
      " [ 0.41715877 -0.67625737  1.85330124 -1.65314765  0.77239874]\n",
      " [ 0.59392591  0.88373111  1.34845953  0.46744956  0.31296536]\n",
      " [-0.29522628  0.73612166  0.36685221  0.76863713 -1.12866125]\n",
      " [-1.50381676  0.04595407  0.5010277  -1.50940159 -1.00434337]]\n"
     ]
    },
    {
     "data": {
      "image/png": "[encoded data removed]",
      "text/plain": [
       "<Figure size 432x288 with 1 Axes>"
      ]
     },
     "metadata": {
      "needs_background": "light"
     },
     "output_type": "display_data"
    }
   ],
   "source": [
    "mu, sigma = 0, 1 # 평균, 표준편차\n",
    "a = np.random.normal(mu, sigma, 500)\n",
    "b = np.random.randn(5,5)\n",
    "print('b : \\n', b)\n",
    "plt.hist(a)\n",
    "plt.show()"
   ]
  },
  {
   "cell_type": "markdown",
   "id": "1dc711cd",
   "metadata": {},
   "source": [
    "# 랜덤 혼합\n",
    "\n",
    "* np.random.choice(n,c,p) : 랜덤으로 정수를 뽑는다\n",
    "    * n : 0 ~ n - 1 까지 정수중\n",
    "    * c : c개의 원소를\n",
    "    * p : p의 확률로 뽑는다\n",
    "* np.random.shuffle() : 배열을 섞는다 (리턴값 x)\n",
    "* np.random.permutation() : 배열을 섞는다 (섞인 배열을 리턴)  \n",
    "두 혼합 함수는 2차원 이상 배열에서 element wise하게 섞는것이 아님!"
   ]
  },
  {
   "cell_type": "code",
   "execution_count": 46,
   "id": "d13a99b8",
   "metadata": {},
   "outputs": [
    {
     "name": "stdout",
     "output_type": "stream",
     "text": [
      "a :  [4 4 2]\n",
      "b :  [1 4 2 3 5]\n",
      "np.random.permutation(c) :  [3 4 5 1 2]\n"
     ]
    }
   ],
   "source": [
    "a = np.random.choice(5,3, p=[0.1,0.1,0.1,0.1,0.6])\n",
    "b = np.array([1,2,3,4,5])\n",
    "c = np.array([1,2,3,4,5])\n",
    "\n",
    "np.random.shuffle(b)\n",
    "\n",
    "\n",
    "print('a : ', a)\n",
    "print('b : ', b)\n",
    "print('np.random.permutation(c) : ', np.random.permutation(c))"
   ]
  }
 ],
 "metadata": {
  "kernelspec": {
   "display_name": "Python 3 (ipykernel)",
   "language": "python",
   "name": "python3"
  },
  "language_info": {
   "codemirror_mode": {
    "name": "ipython",
    "version": 3
   },
   "file_extension": ".py",
   "mimetype": "text/x-python",
   "name": "python",
   "nbconvert_exporter": "python",
   "pygments_lexer": "ipython3",
   "version": "3.8.9"
  }
 },
 "nbformat": 4,
 "nbformat_minor": 5
}
