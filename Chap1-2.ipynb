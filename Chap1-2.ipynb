{
 "cells": [
  {
   "cell_type": "code",
   "execution_count": 2,
   "id": "48f13027",
   "metadata": {},
   "outputs": [],
   "source": [
    "import numpy as np"
   ]
  },
  {
   "cell_type": "markdown",
   "id": "2c3d1468",
   "metadata": {},
   "source": [
    "# ndarray클래스와 numpy 모듈\n",
    "ndarray클래스에 있는 메소드들과 numpy 모듈에 있는 메소드들중 겹치는 메소드들이 있다.  \n",
    "\n",
    "약 47개정도 있음.  any, all은 그중 하나다.\n",
    " \n",
    "* .any() : 그중 하나라도 True가 있으면 True\n",
    "* .all() : 그중 모든 원소가 True이면 True"
   ]
  },
  {
   "cell_type": "code",
   "execution_count": 13,
   "id": "f333a659",
   "metadata": {},
   "outputs": [
    {
     "name": "stdout",
     "output_type": "stream",
     "text": [
      "[[False False False False]\n",
      " [False False False False]\n",
      " [False False False False]\n",
      " [False False False False]]\n",
      "True\n",
      "True\n"
     ]
    }
   ],
   "source": [
    "a = np.zeros((4,4))\n",
    "print(a != 0)\n",
    "print(np.any(a == 0))\n",
    "print((a == 0).any())"
   ]
  },
  {
   "cell_type": "code",
   "execution_count": null,
   "id": "1d8fb4e1",
   "metadata": {},
   "outputs": [],
   "source": []
  }
 ],
 "metadata": {
  "kernelspec": {
   "display_name": "Python 3 (ipykernel)",
   "language": "python",
   "name": "python3"
  },
  "language_info": {
   "codemirror_mode": {
    "name": "ipython",
    "version": 3
   },
   "file_extension": ".py",
   "mimetype": "text/x-python",
   "name": "python",
   "nbconvert_exporter": "python",
   "pygments_lexer": "ipython3",
   "version": "3.8.9"
  }
 },
 "nbformat": 4,
 "nbformat_minor": 5
}
