{
 "cells": [
  {
   "cell_type": "code",
   "execution_count": 76,
   "id": "4368d92a",
   "metadata": {},
   "outputs": [],
   "source": [
    "import numpy as np\n",
    "from pprint import pprint"
   ]
  },
  {
   "cell_type": "markdown",
   "id": "13831d48",
   "metadata": {},
   "source": [
    "# 논리식\n",
    "\n",
    "논리식 검색을 할때 논리식 배열과 검색을 하려는 배열의 행,열이 일치해야함.  \n",
    "a < 4 => a 배열에서 4보다 작은 값의 위치에는 True, \n",
    "4보다 큰 값의 위치에는 False가 들어감.  \n",
    "\n",
    "a[bool 배열]\n",
    "\n",
    "**논리식 검새을 한 결과는 메모리를 공유하지 않는다!!**\n",
    "\n",
    "* .nonzero() : 0이 아닌 원소의 인덱스를 리턴한다.\n",
    "\n",
    "## 주의사항\n",
    "논리연산은 and, or, not을 사용하지 못한다.  \n",
    "대신 &, |, ~ 를 사용해야함.\n",
    "0은 False로 취급됨.  => 즉 0 & 0 은 False임.\n",
    "\n"
   ]
  },
  {
   "cell_type": "code",
   "execution_count": 28,
   "id": "a6c9181e",
   "metadata": {
    "scrolled": false
   },
   "outputs": [
    {
     "name": "stdout",
     "output_type": "stream",
     "text": [
      "a < 0 : \n",
      " [[False False  True  True  True]\n",
      " [False False False  True  True]\n",
      " [ True  True False False  True]\n",
      " [ True  True False False False]]\n",
      "\n",
      "a : \n",
      " [[1.09403609e+00 7.60305835e-03 9.99000000e+02 9.99000000e+02\n",
      "  9.99000000e+02]\n",
      " [1.13779590e+00 1.09384098e+00 6.16150720e-01 9.99000000e+02\n",
      "  9.99000000e+02]\n",
      " [9.99000000e+02 9.99000000e+02 5.19241200e-01 8.92040788e-01\n",
      "  9.99000000e+02]\n",
      " [9.99000000e+02 9.99000000e+02 1.11381442e+00 5.42582905e-01\n",
      "  1.13641681e+00]]\n",
      "a.nonzero() :  (array([0, 1, 2, 3, 4, 5, 6, 7]),)\n",
      "np.logical_and(a , a) :  True\n"
     ]
    }
   ],
   "source": [
    "a = np.random.randn(4,5)\n",
    "print('a < 0 : \\n', a < 0)\n",
    "print()\n",
    "a[a < 0] = 999\n",
    "print('a : \\n', a)\n",
    "\n",
    "a = np.array(np.arange(2, 10))\n",
    "print('a.nonzero() : ', a.nonzero())\n",
    "\n",
    "a = np.array(1)\n",
    "print('np.logical_and(a , a) : ', np.logical_and(a , a))"
   ]
  },
  {
   "cell_type": "markdown",
   "id": "6bf16170",
   "metadata": {},
   "source": [
    "# 팬시검색\n",
    "\n",
    "인덱스를 통해 배열을 검색한다.\n",
    "**단 이때 메모리는 공유하지 않는다.**"
   ]
  },
  {
   "cell_type": "code",
   "execution_count": 32,
   "id": "015e362b",
   "metadata": {},
   "outputs": [
    {
     "name": "stdout",
     "output_type": "stream",
     "text": [
      "a :  [20 21 22 23 24 25 26 27 28 29 30 31 32 33 34 35 36 37 38 39]\n",
      "a[b] :  [29 30 31 32]\n",
      "a[c] :  [21 23 23 25]\n",
      "np.may_share_memory(a, a[b]) :  False\n",
      "np.may_share_memory(a, a[:]) :  True\n"
     ]
    }
   ],
   "source": [
    "a = np.array(np.arange(20, 40))\n",
    "b = np.array(np.arange(9,13))\n",
    "c = np.array([1,3,3,5])\n",
    "print('a : ', a)\n",
    "print('a[b] : ', a[b])\n",
    "print('a[c] : ', a[c])\n",
    "print('np.may_share_memory(a, a[b]) : ', np.may_share_memory(a, a[b]))\n",
    "print('np.may_share_memory(a, a[:]) : ', np.may_share_memory(a, a[:]))"
   ]
  },
  {
   "cell_type": "markdown",
   "id": "2f01ff5f",
   "metadata": {},
   "source": [
    "# 다차원 배열에서 팬시 검색\n",
    "\n",
    "검색하려는 인덱스를 넣어 검색하면 된다."
   ]
  },
  {
   "cell_type": "code",
   "execution_count": 43,
   "id": "7cb2ebb0",
   "metadata": {},
   "outputs": [
    {
     "name": "stdout",
     "output_type": "stream",
     "text": [
      "a : \n",
      " [[20 21 22 23]\n",
      " [24 25 26 27]\n",
      " [28 29 30 31]\n",
      " [32 33 34 35]\n",
      " [36 37 38 39]]\n",
      "\n",
      "a[[3,2]] : \n",
      " [[32 33 34 35]\n",
      " [28 29 30 31]]\n",
      "\n",
      "a[[3,2], [0,1]] : \n",
      " [32 29]\n"
     ]
    }
   ],
   "source": [
    "a = np.array(np.arange(20, 40)).reshape(5, 4)\n",
    "print('a : \\n', a)\n",
    "print()\n",
    "\n",
    "print('a[[3,2]] : \\n', a[[3,2]])\n",
    "print()\n",
    "\n",
    "print('a[[3,2], [0,1]] : \\n', a[[3,2], [0,1]])    #3행 0열과, 2행 1열의 원소를 리턴한것임."
   ]
  },
  {
   "cell_type": "markdown",
   "id": "6c3890ff",
   "metadata": {},
   "source": [
    "# 다차원 팬시 검색 (추가필요)"
   ]
  },
  {
   "cell_type": "code",
   "execution_count": 93,
   "id": "fecaf367",
   "metadata": {},
   "outputs": [
    {
     "name": "stdout",
     "output_type": "stream",
     "text": [
      "a : \n",
      " [[20 21 22 23]\n",
      " [24 25 26 27]\n",
      " [28 29 30 31]\n",
      " [32 33 34 35]\n",
      " [36 37 38 39]]\n",
      "[31 27]\n",
      "[[29 26]\n",
      " [33 34]]\n"
     ]
    }
   ],
   "source": [
    "a = np.array(np.arange(20, 40)).reshape(5, 4)\n",
    "print('a : \\n', a)\n",
    "print(a[[2,1], [3,3]])\n",
    "print(a[[[2,1], [3,3]], [1,2]])"
   ]
  },
  {
   "cell_type": "markdown",
   "id": "f967ed63",
   "metadata": {},
   "source": [
    "# 팬시와 슬라이싱 혼용"
   ]
  },
  {
   "cell_type": "code",
   "execution_count": 54,
   "id": "67daf9eb",
   "metadata": {},
   "outputs": [
    {
     "name": "stdout",
     "output_type": "stream",
     "text": [
      "a : \n",
      " [[20 21 22 23]\n",
      " [24 25 26 27]\n",
      " [28 29 30 31]\n",
      " [32 33 34 35]\n",
      " [36 37 38 39]]\n",
      "[[26 27]\n",
      " [30 31]]\n"
     ]
    }
   ],
   "source": [
    "a = np.array(np.arange(20, 40)).reshape(5, 4)\n",
    "print('a : \\n', a)\n",
    "print(a[1:3, [2,3]])"
   ]
  },
  {
   "cell_type": "markdown",
   "id": "117d2f0b",
   "metadata": {},
   "source": [
    "# 배열 축소 및 확대\n",
    "\n",
    "## 차원  확대(c"
   ]
  },
  {
   "cell_type": "code",
   "execution_count": 88,
   "id": "2b5f9535",
   "metadata": {},
   "outputs": [
    {
     "name": "stdout",
     "output_type": "stream",
     "text": [
      "(9, 3)\n",
      "(9, 3, 3, 1)\n"
     ]
    }
   ],
   "source": [
    "a = np.array(np.arange(27)).reshape(9,3)\n",
    "print(a.shape)\n",
    "a = a[:, [[0,0,0], [1,1,1], [2,2,2, ]], np.newaxis]\n",
    "print(a.shape)\n",
    "\n"
   ]
  }
 ],
 "metadata": {
  "kernelspec": {
   "display_name": "Python 3 (ipykernel)",
   "language": "python",
   "name": "python3"
  },
  "language_info": {
   "codemirror_mode": {
    "name": "ipython",
    "version": 3
   },
   "file_extension": ".py",
   "mimetype": "text/x-python",
   "name": "python",
   "nbconvert_exporter": "python",
   "pygments_lexer": "ipython3",
   "version": "3.8.9"
  }
 },
 "nbformat": 4,
 "nbformat_minor": 5
}
