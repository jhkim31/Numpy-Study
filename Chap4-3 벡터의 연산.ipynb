{
 "cells": [
  {
   "cell_type": "code",
   "execution_count": 2,
   "id": "b1855d74",
   "metadata": {},
   "outputs": [],
   "source": [
    "import numpy as np"
   ]
  },
  {
   "cell_type": "markdown",
   "id": "da4712e7",
   "metadata": {},
   "source": [
    "# 내적 (점곱) == ∙,  inner product, dot product\n",
    "\n",
    "두벡터의 크기와 내각의 곱으로 구한다.  \n",
    "또한 두 벡터의 내적은  \n",
    "\n",
    "A = [a_1, a_2, ..., a_i]  \n",
    "B = [b_1, b_2, ... , b_i] 일때   \n",
    "A ∙ B = a_1 * b_1 + a_2 * b_2 + ... + a_i * b_i"
   ]
  },
  {
   "cell_type": "code",
   "execution_count": 3,
   "id": "4dc86cca",
   "metadata": {},
   "outputs": [
    {
     "name": "stdout",
     "output_type": "stream",
     "text": [
      "a :  [10 11 12 13 14]\n",
      "b :  [4 5 6 7 8]\n",
      "a @ b :  370\n",
      "np.dot(a,b) :  370\n",
      "np.inner(a,b) :  370\n"
     ]
    }
   ],
   "source": [
    "a = np.array(np.arange(10, 15))\n",
    "b = np.array(np.arange(4,9))\n",
    "print('a : ', a)\n",
    "print('b : ', b)\n",
    "\n",
    "print('a @ b : ', a @ b)\n",
    "print('np.dot(a,b) : ', np.dot(a,b))\n",
    "print('np.inner(a,b) : ', np.inner(a,b))"
   ]
  },
  {
   "cell_type": "markdown",
   "id": "e5f4d596",
   "metadata": {},
   "source": [
    "# 외적 (가위곱) == ☓, cross product, **outer product (아래서 다룸)\n",
    "외적은 두 벡터를 지나는 평면과 수직인 벡터를 구하는것이다.\n",
    "```\n",
    "[1,4]   \n",
    "[3,6]\n",
    "\n",
    "=> 1 * 6 - 4 * 3\n",
    "```\n",
    "\n",
    "* np.cross() : 가위곱 => 수직인 벡터"
   ]
  },
  {
   "cell_type": "code",
   "execution_count": 7,
   "id": "468fc6ed",
   "metadata": {},
   "outputs": [
    {
     "name": "stdout",
     "output_type": "stream",
     "text": [
      "np.cross(a,b) :  -6\n",
      "이렇게 보는게 맞지 모르겠지만, 두 벡터는 xyz 공간에 대해 (1,4,0), (3,6,0)인 것이고 \n",
      "외적의 결과는 (0,0,-6)과 같은것 같음\n",
      "\n",
      "np.cross(c,d) :  [ 8  4 -8]\n"
     ]
    }
   ],
   "source": [
    "a = np.array([1,4])\n",
    "b = np.array([3,6])\n",
    "print('np.cross(a,b) : ', np.cross(a,b))\n",
    "print('이렇게 보는게 맞지 모르겠지만, 두 벡터는 xyz 공간에 대해 (1,4,0), (3,6,0)인 것이고 \\n외적의 결과는 (0,0,-6)과 같은것 같음')\n",
    "print()\n",
    "\n",
    "c = np.array([1,4,3])\n",
    "d = np.array([3,4,5])\n",
    "print('np.cross(c,d) : ', np.cross(c,d))\n",
    "\n"
   ]
  },
  {
   "cell_type": "markdown",
   "id": "339e545d",
   "metadata": {},
   "source": [
    "# **선형대수에서 외적 : outer product\n",
    "\n",
    "\n",
    "    \n",
    "```\n",
    "A = [a,b,c].T  \n",
    "B = [d,e,f,g].T\n",
    "\n",
    "A ☓ B = \n",
    "ad ae af ag  \n",
    "bd be bf bg  \n",
    "cd ce cf cg  \n",
    "```\n",
    "가 된다.\n",
    "\n",
    "* np.outer() : outer product "
   ]
  },
  {
   "cell_type": "code",
   "execution_count": 5,
   "id": "8e36715c",
   "metadata": {},
   "outputs": [
    {
     "name": "stdout",
     "output_type": "stream",
     "text": [
      "np.outer(c,d) : \n",
      " [[ 3  4  5]\n",
      " [12 16 20]\n",
      " [ 9 12 15]]\n"
     ]
    }
   ],
   "source": [
    "a = np.array([1,4,3])\n",
    "b = np.array([3,4,5])\n",
    "print('np.outer(c,d) : \\n', np.outer(a, b))"
   ]
  }
 ],
 "metadata": {
  "kernelspec": {
   "display_name": "Python 3 (ipykernel)",
   "language": "python",
   "name": "python3"
  },
  "language_info": {
   "codemirror_mode": {
    "name": "ipython",
    "version": 3
   },
   "file_extension": ".py",
   "mimetype": "text/x-python",
   "name": "python",
   "nbconvert_exporter": "python",
   "pygments_lexer": "ipython3",
   "version": "3.8.9"
  }
 },
 "nbformat": 4,
 "nbformat_minor": 5
}
