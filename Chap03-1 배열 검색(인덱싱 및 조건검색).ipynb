{
 "cells": [
  {
   "cell_type": "code",
   "execution_count": 1,
   "id": "4368d92a",
   "metadata": {},
   "outputs": [],
   "source": [
    "import numpy as np\n",
    "from pprint import pprint"
   ]
  },
  {
   "cell_type": "markdown",
   "id": "3a4cca35",
   "metadata": {},
   "source": [
    "# 색인검색\n",
    "대괄호 사용해 원소를 조회함."
   ]
  },
  {
   "cell_type": "code",
   "execution_count": 2,
   "id": "372fa1e4",
   "metadata": {},
   "outputs": [
    {
     "name": "stdout",
     "output_type": "stream",
     "text": [
      "a :  [0 1 2 3 4 5 6 7 8 9]\n",
      "a[0] :  0\n",
      "a[-1] :  9\n",
      "\n",
      "b : \n",
      " [[0 1 2 3 4]\n",
      " [5 6 7 8 9]]\n",
      "b[0] :  [0 1 2 3 4]\n",
      "b[0, 3] :  3\n"
     ]
    }
   ],
   "source": [
    "a = np.array(np.arange(10))\n",
    "\n",
    "print('a : ', a)\n",
    "print('a[0] : ', a[0])\n",
    "print('a[-1] : ', a[-1])\n",
    "print()\n",
    "\n",
    "b = a.reshape(2,5)\n",
    "print('b : \\n', b)\n",
    "print('b[0] : ', b[0])\n",
    "print('b[0, 3] : ', b[0, 3])\n",
    "\n",
    "\n"
   ]
  },
  {
   "cell_type": "markdown",
   "id": "8de7f682",
   "metadata": {},
   "source": [
    "# 슬라이스 검색\n",
    "\n",
    "* a:b =>  a 부터 b까지\n",
    "* a: => a부터 ~ 까지\n",
    "* :b => ~b까지\n",
    "* ::a => 첫번째 원소부터 a의 간격만큼만\n",
    "* a::b => a번째 원소부터 b의 간격만큼 뛰어서\n",
    "* ... => 생략기호\n",
    "    * ex) [:, :, :, :, 0] == [..., 0]"
   ]
  },
  {
   "cell_type": "code",
   "execution_count": 3,
   "id": "50ddab91",
   "metadata": {},
   "outputs": [
    {
     "name": "stdout",
     "output_type": "stream",
     "text": [
      "a : \n",
      " [[1 2 3]\n",
      " [4 5 6]\n",
      " [7 8 9]]\n",
      "a[:, 2] :  [3 6 9]\n",
      "a[2, :] :  [7 8 9]\n",
      "\n",
      "b :  [ 1  2  3  4  5  6  7  8  9 10 11 12 13 14 15 16 17 18 19]\n",
      "b[::2] :  [ 1  3  5  7  9 11 13 15 17 19]\n",
      "b[1::3] :  [ 2  5  8 11 14 17]\n",
      "\n",
      "c : \n",
      " [[[[ 0  1]\n",
      "   [ 2  3]]\n",
      "\n",
      "  [[ 4  5]\n",
      "   [ 6  7]]]\n",
      "\n",
      "\n",
      " [[[ 8  9]\n",
      "   [10 11]]\n",
      "\n",
      "  [[12 13]\n",
      "   [14 15]]]]\n",
      "\n",
      "c[..., 1] : \n",
      "  [[[ 1  3]\n",
      "  [ 5  7]]\n",
      "\n",
      " [[ 9 11]\n",
      "  [13 15]]]\n",
      "\n",
      "c[:, :, :, 1] : \n",
      "  [[[ 1  3]\n",
      "  [ 5  7]]\n",
      "\n",
      " [[ 9 11]\n",
      "  [13 15]]]\n"
     ]
    }
   ],
   "source": [
    "a = np.array(np.arange(1,10)).reshape(3,3)\n",
    "b = np.array(np.arange(1,20))\n",
    "c = np.array(np.arange(16)).reshape(2,2,2,2)\n",
    "\n",
    "print('a : \\n', a)\n",
    "print('a[:, 2] : ', a[:, 2])\n",
    "print('a[2, :] : ', a[2, :])\n",
    "print()\n",
    "\n",
    "print('b : ', b)\n",
    "print('b[::2] : ', b[::2])\n",
    "print('b[1::3] : ', b[1::3])\n",
    "print()\n",
    "\n",
    "print('c : \\n', c)\n",
    "print()\n",
    "print('c[..., 1] : \\n ', c[..., 1])\n",
    "print()\n",
    "print('c[:, :, :, 1] : \\n ', c[:, :, :, 1])\n",
    "\n",
    "\n"
   ]
  },
  {
   "cell_type": "markdown",
   "id": "13831d48",
   "metadata": {},
   "source": [
    "# 논리식\n",
    "\n",
    "논리식 검색을 할때 논리식 배열과 검색을 하려는 배열의 행,열이 일치해야함.  \n",
    "a < 4 => a 배열에서 4보다 작은 값의 위치에는 True, \n",
    "4보다 큰 값의 위치에는 False가 들어감.  \n",
    "\n",
    "a[bool 배열]\n",
    "\n",
    "**논리식 검새을 한 결과는 메모리를 공유하지 않는다!!**\n",
    "\n",
    "* .nonzero() : 0이 아닌 원소의 인덱스를 리턴한다.\n",
    "\n",
    "## 주의사항\n",
    "논리연산은 and, or, not을 사용하지 못한다.  \n",
    "대신 &, |, ~ 를 사용해야함.\n",
    "0은 False로 취급됨.  => 즉 0 & 0 은 False임.\n",
    "\n"
   ]
  },
  {
   "cell_type": "code",
   "execution_count": 4,
   "id": "a6c9181e",
   "metadata": {
    "scrolled": false
   },
   "outputs": [
    {
     "name": "stdout",
     "output_type": "stream",
     "text": [
      "a < 0 : \n",
      " [[False False  True  True False]\n",
      " [False  True  True False  True]\n",
      " [False False  True  True False]\n",
      " [False False False  True  True]]\n",
      "\n",
      "a : \n",
      " [[1.37208431e+00 4.75167380e-01 9.99000000e+02 9.99000000e+02\n",
      "  1.70125115e+00]\n",
      " [1.22987553e-01 9.99000000e+02 9.99000000e+02 5.37746094e-01\n",
      "  9.99000000e+02]\n",
      " [6.87876110e-03 1.40445059e-01 9.99000000e+02 9.99000000e+02\n",
      "  1.10958950e+00]\n",
      " [2.17536053e-01 8.93570380e-01 1.16631289e-02 9.99000000e+02\n",
      "  9.99000000e+02]]\n",
      "a.nonzero() :  (array([0, 1, 2, 3, 4, 5, 6, 7]),)\n",
      "np.logical_and(a , a) :  True\n"
     ]
    }
   ],
   "source": [
    "a = np.random.randn(4,5)\n",
    "print('a < 0 : \\n', a < 0)\n",
    "print()\n",
    "a[a < 0] = 999\n",
    "print('a : \\n', a)\n",
    "\n",
    "a = np.array(np.arange(2, 10))\n",
    "print('a.nonzero() : ', a.nonzero())\n",
    "\n",
    "a = np.array(1)\n",
    "print('np.logical_and(a , a) : ', np.logical_and(a , a))"
   ]
  },
  {
   "cell_type": "markdown",
   "id": "6bf16170",
   "metadata": {},
   "source": [
    "# 팬시검색\n",
    "\n",
    "인덱스를 통해 배열을 검색한다.\n",
    "**단 이때 메모리는 공유하지 않는다.**"
   ]
  },
  {
   "cell_type": "code",
   "execution_count": 5,
   "id": "015e362b",
   "metadata": {},
   "outputs": [
    {
     "name": "stdout",
     "output_type": "stream",
     "text": [
      "a :  [20 21 22 23 24 25 26 27 28 29 30 31 32 33 34 35 36 37 38 39]\n",
      "a[b] :  [29 30 31 32]\n",
      "a[c] :  [21 23 23 25]\n",
      "np.may_share_memory(a, a[b]) :  False\n",
      "np.may_share_memory(a, a[:]) :  True\n"
     ]
    }
   ],
   "source": [
    "a = np.array(np.arange(20, 40))\n",
    "b = np.array(np.arange(9,13))\n",
    "c = np.array([1,3,3,5])\n",
    "print('a : ', a)\n",
    "print('a[b] : ', a[b])\n",
    "print('a[c] : ', a[c])\n",
    "print('np.may_share_memory(a, a[b]) : ', np.may_share_memory(a, a[b]))\n",
    "print('np.may_share_memory(a, a[:]) : ', np.may_share_memory(a, a[:]))"
   ]
  },
  {
   "cell_type": "markdown",
   "id": "2f01ff5f",
   "metadata": {},
   "source": [
    "# 다차원 배열에서 팬시 검색\n",
    "\n",
    "검색하려는 인덱스를 넣어 검색하면 된다."
   ]
  },
  {
   "cell_type": "code",
   "execution_count": 6,
   "id": "7cb2ebb0",
   "metadata": {},
   "outputs": [
    {
     "name": "stdout",
     "output_type": "stream",
     "text": [
      "a : \n",
      " [[20 21 22 23]\n",
      " [24 25 26 27]\n",
      " [28 29 30 31]\n",
      " [32 33 34 35]\n",
      " [36 37 38 39]]\n",
      "\n",
      "a[[3,2]] : \n",
      " [[32 33 34 35]\n",
      " [28 29 30 31]]\n",
      "\n",
      "a[[3,2], [0,1]] : \n",
      " [32 29]\n"
     ]
    }
   ],
   "source": [
    "a = np.array(np.arange(20, 40)).reshape(5, 4)\n",
    "print('a : \\n', a)\n",
    "print()\n",
    "\n",
    "print('a[[3,2]] : \\n', a[[3,2]])\n",
    "print()\n",
    "\n",
    "print('a[[3,2], [0,1]] : \\n', a[[3,2], [0,1]])    #3행 0열과, 2행 1열의 원소를 리턴한것임."
   ]
  },
  {
   "cell_type": "markdown",
   "id": "6c3890ff",
   "metadata": {},
   "source": [
    "# 다차원 팬시 검색 (추가필요)"
   ]
  },
  {
   "cell_type": "code",
   "execution_count": 7,
   "id": "fecaf367",
   "metadata": {},
   "outputs": [
    {
     "name": "stdout",
     "output_type": "stream",
     "text": [
      "a : \n",
      " [[20 21 22 23]\n",
      " [24 25 26 27]\n",
      " [28 29 30 31]\n",
      " [32 33 34 35]\n",
      " [36 37 38 39]]\n",
      "[31 27]\n",
      "[[29 26]\n",
      " [33 34]]\n"
     ]
    }
   ],
   "source": [
    "a = np.array(np.arange(20, 40)).reshape(5, 4)\n",
    "print('a : \\n', a)\n",
    "print(a[[2,1], [3,3]])\n",
    "print(a[[[2,1], [3,3]], [1,2]])"
   ]
  },
  {
   "cell_type": "markdown",
   "id": "f967ed63",
   "metadata": {},
   "source": [
    "# 팬시와 슬라이싱 혼용"
   ]
  },
  {
   "cell_type": "code",
   "execution_count": 8,
   "id": "67daf9eb",
   "metadata": {},
   "outputs": [
    {
     "name": "stdout",
     "output_type": "stream",
     "text": [
      "a : \n",
      " [[20 21 22 23]\n",
      " [24 25 26 27]\n",
      " [28 29 30 31]\n",
      " [32 33 34 35]\n",
      " [36 37 38 39]]\n",
      "[[26 27]\n",
      " [30 31]]\n"
     ]
    }
   ],
   "source": [
    "a = np.array(np.arange(20, 40)).reshape(5, 4)\n",
    "print('a : \\n', a)\n",
    "print(a[1:3, [2,3]])"
   ]
  },
  {
   "cell_type": "markdown",
   "id": "117d2f0b",
   "metadata": {},
   "source": [
    "# 배열 축소 및 확대\n",
    "\n",
    "## 차원  확대(추가 공부 필요)\n",
    "\n",
    "## 2차원 배열을 3차원 배열로 만드는방법\n",
    "\n",
    "```python\n",
    "a.shape\n",
    ">>> (m, n)\n",
    "a = a.reshape(m, n, 1)\n",
    "a.shape \n",
    ">>> (m, n, 1)\n",
    "a = a[:, :, [0,0,0]]\n",
    "```"
   ]
  },
  {
   "cell_type": "code",
   "execution_count": 9,
   "id": "2b5f9535",
   "metadata": {},
   "outputs": [
    {
     "name": "stdout",
     "output_type": "stream",
     "text": [
      "(9, 3)\n",
      "(9, 3, 3, 1)\n"
     ]
    }
   ],
   "source": [
    "a = np.array(np.arange(27)).reshape(9,3)\n",
    "print(a.shape)\n",
    "a = a[:, [[0,0,0], [1,1,1], [2,2,2]] , np.newaxis]\n",
    "print(a.shape)\n",
    "\n"
   ]
  }
 ],
 "metadata": {
  "kernelspec": {
   "display_name": "Python 3 (ipykernel)",
   "language": "python",
   "name": "python3"
  },
  "language_info": {
   "codemirror_mode": {
    "name": "ipython",
    "version": 3
   },
   "file_extension": ".py",
   "mimetype": "text/x-python",
   "name": "python",
   "nbconvert_exporter": "python",
   "pygments_lexer": "ipython3",
   "version": "3.8.9"
  }
 },
 "nbformat": 4,
 "nbformat_minor": 5
}
