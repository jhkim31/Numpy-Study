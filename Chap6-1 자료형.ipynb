{
 "cells": [
  {
   "cell_type": "code",
   "execution_count": 1,
   "id": "2fda2a84",
   "metadata": {},
   "outputs": [],
   "source": [
    "import numpy as np\n",
    "from pprint import pprint"
   ]
  },
  {
   "cell_type": "markdown",
   "id": "4f9302e5",
   "metadata": {},
   "source": [
    "# 자료형 \n",
    "\n",
    "* .dtype : 배열의 자료형 확인\n",
    "* .astype() : 해당 자료형으로 변환된 결과 리턴"
   ]
  },
  {
   "cell_type": "code",
   "execution_count": 10,
   "id": "0be58006",
   "metadata": {},
   "outputs": [
    {
     "name": "stdout",
     "output_type": "stream",
     "text": [
      "a.dtype :  int32\n",
      "b.dtype :  float32\n"
     ]
    }
   ],
   "source": [
    "a = np.array([1,2,3], dtype='int32')\n",
    "print('a.dtype : ', a.dtype)\n",
    "b = a.astype('float32')\n",
    "print('b.dtype : ', b.dtype)"
   ]
  },
  {
   "cell_type": "markdown",
   "id": "93f1474d",
   "metadata": {},
   "source": [
    "# 정수 자료형\n",
    "\n",
    "* bool_ : 한바이트 boolean\n",
    "* int_ : 기본 int 타입(os에 따라 크기 지정)\n",
    "* intc : C언어의 int 처리\n",
    "* int8  : 1바이트 정수\n",
    "* int16 : 2바이트 정수\n",
    "* int32 : 4바이트 정수\n",
    "* int64 : 8바이트 정수\n",
    "* uint* : *바이트 정수(부호없는 양수)\n",
    "    * ex) uint8 : 1바이트 부호없는 정수 0 ~ 255\n"
   ]
  },
  {
   "cell_type": "markdown",
   "id": "b37c38f3",
   "metadata": {},
   "source": [
    "# 실수 및 복소수 자료형\n",
    "\n",
    "* float_ : float64에 대한 짧은 표현\n",
    "* float16 : 반정도 실수\n",
    "* float32 : 단정도 실수\n",
    "* float64 : 두배 정보 실수\n",
    "* Complex_ : 복소수\n",
    "* Complex64 : 복소수의 실수와 허수\n",
    "* Complex128 : 복소수의 실수와 허수"
   ]
  },
  {
   "cell_type": "markdown",
   "id": "18bf047e",
   "metadata": {},
   "source": [
    "# 날짜 자료형\n",
    "\n",
    "* datetime64 \n",
    "    * 시까지 넣었나, 분까지 넣었나에 따라 dtype에 표시되는 결과가 다름.\n",
    "        \n",
    "* timedelta64\n",
    "    * delta는 기본적으로 s 단위임.\n"
   ]
  },
  {
   "cell_type": "code",
   "execution_count": 25,
   "id": "0f1530be",
   "metadata": {},
   "outputs": [
    {
     "name": "stdout",
     "output_type": "stream",
     "text": [
      "d1.dtype :  datetime64[M]\n",
      "d2.dtype :  datetime64[s]\n",
      "delta :  2768461 seconds\n",
      "delta.dtype :  timedelta64[s]\n"
     ]
    }
   ],
   "source": [
    "d1 = np.datetime64('2022-01')\n",
    "d2 = np.datetime64('2022-02-02T01:01:01')\n",
    "\n",
    "\n",
    "delta = d2 - d1\n",
    "print('d1.dtype : ', d1.dtype)\n",
    "print('d2.dtype : ', d2.dtype)\n",
    "\n",
    "print('delta : ', delta)\n",
    "print('delta.dtype : ', delta.dtype)"
   ]
  }
 ],
 "metadata": {
  "kernelspec": {
   "display_name": "Python 3 (ipykernel)",
   "language": "python",
   "name": "python3"
  },
  "language_info": {
   "codemirror_mode": {
    "name": "ipython",
    "version": 3
   },
   "file_extension": ".py",
   "mimetype": "text/x-python",
   "name": "python",
   "nbconvert_exporter": "python",
   "pygments_lexer": "ipython3",
   "version": "3.8.9"
  }
 },
 "nbformat": 4,
 "nbformat_minor": 5
}
