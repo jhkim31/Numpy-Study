{
 "cells": [
  {
   "cell_type": "code",
   "execution_count": 2,
   "id": "b8fe3a2c",
   "metadata": {},
   "outputs": [],
   "source": [
    "import numpy as np"
   ]
  },
  {
   "cell_type": "markdown",
   "id": "68faacba",
   "metadata": {},
   "source": [
    "# 다항식\n",
    "\n",
    "* np.poly1d() : 배열을 넣어 다항식 객체로 만든다\n",
    "    * [1,2,3] => x^2 + 2x + 3\n",
    "    * [1,0,4,1] => x^3 + 4x + 1\n",
    "    \n",
    "* poly1d.coef() : 계수확인\n",
    "* poly1d.coefficients() : 계수확인\n",
    "* poly1d.coefs() : 계수확인\n",
    "\n",
    "* poly1d.roots : 해를 구해준다.\n",
    "* np.roots() : 해를 구해준다.\n",
    "\n",
    "* np.polyval() : 다항식 계수를 지정하고, 미지수의 값을 지정해서 인자로 전달한 결과\n",
    "    * poly1d 객체 또는 배열 객체로 다항식 지정 가능\n",
    "\n",
    "## 다항식 연산\n",
    "\n",
    "사칙연산이 가능하다."
   ]
  },
  {
   "cell_type": "code",
   "execution_count": 23,
   "id": "f5a709ef",
   "metadata": {},
   "outputs": [
    {
     "name": "stdout",
     "output_type": "stream",
     "text": [
      "p : \n",
      "    3     2\n",
      "1 x + 2 x + 4\n",
      "p.coef :  [1 2 0 4]\n",
      "p.roots :  [-2.59431302+0.j          0.29715651+1.20562515j  0.29715651-1.20562515j]\n",
      "np.polyval(p, 3) :  49\n",
      "np.polyval([1,2,0,4], 3) :  49\n",
      "a + b : \n",
      "    2\n",
      "1 x + 1 x - 2\n",
      "a - b : \n",
      "    2\n",
      "1 x - 1 x - 6\n",
      "b * c : \n",
      "    2\n",
      "1 x - 4\n",
      "a / b : \n",
      " (poly1d([ 1., -2.]), poly1d([0.]))\n"
     ]
    }
   ],
   "source": [
    "p = np.poly1d([1,2,0,4])\n",
    "print('p : \\n', p)\n",
    "print('p.coef : ',p.coef)\n",
    "print('p.roots : ', p.roots)\n",
    "print('np.polyval(p, 3) : ', np.polyval(p, 3))\n",
    "print('np.polyval([1,2,0,4], 3) : ', np.polyval([1,2,0,4], 3))\n",
    "\n",
    "a = np.poly1d([1, 0, -4])\n",
    "b = np.poly1d([1, 2])\n",
    "c = np.poly1d([1, -2])\n",
    "print('a + b : \\n', a + b)\n",
    "print('a - b : \\n', a - b)\n",
    "print('b * c : \\n', b * c)\n",
    "print('a / b : \\n', a / b)"
   ]
  },
  {
   "cell_type": "markdown",
   "id": "41532a23",
   "metadata": {},
   "source": [
    "# 연립 방정식\n",
    "\n",
    "미지수 행렬을 만들고, 상수 행렬을 만들어 그 두개를 통해 해를 구한다\n",
    "ex)\n",
    "```\n",
    "x + 2y = 9\n",
    "x + y = 8\n",
    "일때 계수행렬\n",
    "1 2\n",
    "1 1\n",
    "상수행렬\n",
    "9\n",
    "8\n",
    "을 만들어 해를 구한다\n",
    "```\n",
    "이를 확인할때는 계수행렬과, 해를 dot곱 하여 구한다.\n",
    "\n",
    "## 역행렬을 이용한 풀이\n",
    "미지수 행렬의 역행렬을 구하여, 상수행렬과 행렬곱으로 연산을 하면 방정식의 해가 나오게 된다."
   ]
  },
  {
   "cell_type": "code",
   "execution_count": 25,
   "id": "a4667327",
   "metadata": {},
   "outputs": [
    {
     "name": "stdout",
     "output_type": "stream",
     "text": [
      "[7. 1.]\n",
      "[ True  True]\n",
      "[7. 1.]\n"
     ]
    }
   ],
   "source": [
    "a = np.array([[1,2], [1,1]])\n",
    "b = np.array([9,8])\n",
    "x = np.linalg.solve(a,b)\n",
    "print(x)\n",
    "\n",
    "print(a @ x == b) \n",
    "\n",
    "a_i = np.linalg.inv(a)\n",
    "print(np.dot(a_i, b))"
   ]
  }
 ],
 "metadata": {
  "kernelspec": {
   "display_name": "Python 3 (ipykernel)",
   "language": "python",
   "name": "python3"
  },
  "language_info": {
   "codemirror_mode": {
    "name": "ipython",
    "version": 3
   },
   "file_extension": ".py",
   "mimetype": "text/x-python",
   "name": "python",
   "nbconvert_exporter": "python",
   "pygments_lexer": "ipython3",
   "version": "3.8.9"
  }
 },
 "nbformat": 4,
 "nbformat_minor": 5
}
