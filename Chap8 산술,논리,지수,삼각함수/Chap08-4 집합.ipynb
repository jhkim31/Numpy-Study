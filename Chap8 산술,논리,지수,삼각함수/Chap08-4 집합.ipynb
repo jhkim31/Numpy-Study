{
 "cells": [
  {
   "cell_type": "code",
   "execution_count": 1,
   "id": "5cfbfb95",
   "metadata": {},
   "outputs": [],
   "source": [
    "import numpy as np"
   ]
  },
  {
   "cell_type": "markdown",
   "id": "33098b19",
   "metadata": {},
   "source": [
    "### [1. 원소확인,포함](#원소확인,포함)\n",
    "### [2. 교집합,합집합,차집합](#교집합,합집합,차집합)"
   ]
  },
  {
   "cell_type": "markdown",
   "id": "224546ee",
   "metadata": {},
   "source": [
    "# 원소확인,포함\n",
    "\n",
    "* np.unique() : 배열에서 중복 원소를 빼 집합을 리턴한다.\n",
    "* np.in1d() : 포함여부를 확인한다"
   ]
  },
  {
   "cell_type": "code",
   "execution_count": 2,
   "id": "5a7ab101",
   "metadata": {},
   "outputs": [
    {
     "name": "stdout",
     "output_type": "stream",
     "text": [
      "b :  [1 2 3 4 5]\n",
      "np.in1d(6, a) :  [False]\n",
      "np.in1d(c, a) :  [ True  True  True]\n"
     ]
    }
   ],
   "source": [
    "a = np.array([1,1,1,2,2,3,3,4,4,4,5])\n",
    "b = np.unique(a)\n",
    "c = np.array([2,1,5])\n",
    "print('b : ', b)\n",
    "print('np.in1d(6, a) : ', np.in1d(6, a))\n",
    "print('np.in1d(c, a) : ', np.in1d(c, a))"
   ]
  },
  {
   "cell_type": "markdown",
   "id": "04f391ef",
   "metadata": {},
   "source": [
    "# 교집합,합집합,차집합\n",
    "\n",
    "* np.union1d() : 합집합\n",
    "* np.intersect1d() : 교집합\n",
    "* np.setdiff1d() : 차집합\n",
    "* np.setxor1d() : 대칭차집합\n"
   ]
  },
  {
   "cell_type": "code",
   "execution_count": 3,
   "id": "84f6386b",
   "metadata": {},
   "outputs": [
    {
     "name": "stdout",
     "output_type": "stream",
     "text": [
      "합집합 :  [1 2 4 5 6 7 8 9]\n",
      "교집합 :  [2 8]\n",
      "차집합 :  [1 4 6 9]\n",
      "대칭차집합 :  [1 4 5 6 7 9]\n"
     ]
    }
   ],
   "source": [
    "a = np.array([1,2,4,6,8,9])\n",
    "b = np.array([2,5,7,8])\n",
    "\n",
    "print('합집합 : ', np.union1d(a,b))\n",
    "print('교집합 : ', np.intersect1d(a,b))\n",
    "print('차집합 : ', np.setdiff1d(a,b))\n",
    "print('대칭차집합 : ', np.setxor1d(a,b))"
   ]
  }
 ],
 "metadata": {
  "kernelspec": {
   "display_name": "Python 3 (ipykernel)",
   "language": "python",
   "name": "python3"
  },
  "language_info": {
   "codemirror_mode": {
    "name": "ipython",
    "version": 3
   },
   "file_extension": ".py",
   "mimetype": "text/x-python",
   "name": "python",
   "nbconvert_exporter": "python",
   "pygments_lexer": "ipython3",
   "version": "3.8.9"
  }
 },
 "nbformat": 4,
 "nbformat_minor": 5
}
