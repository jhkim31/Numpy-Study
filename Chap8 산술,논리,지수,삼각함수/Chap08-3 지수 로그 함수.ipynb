{
 "cells": [
  {
   "cell_type": "code",
   "execution_count": 1,
   "id": "67e7fcf0",
   "metadata": {},
   "outputs": [],
   "source": [
    "import numpy as np"
   ]
  },
  {
   "cell_type": "markdown",
   "id": "7aca2ce8",
   "metadata": {},
   "source": [
    "### [1. 지수함수](#지수함수)\n",
    "### [2. 로그함수](#로그함수)"
   ]
  },
  {
   "cell_type": "markdown",
   "id": "cfd5e64a",
   "metadata": {},
   "source": [
    "# 지수 함수\n",
    "\n",
    "* np.exp() : 밑을 자연상수 e를 기준으로 한 지수함수\n",
    "* np.exp2() : 밑을 2로 하는 지수함수\n",
    "당연히 지수법칙이 적용된다\n",
    "\n",
    "\n",
    "# 로그함수\n",
    "\n",
    "* np.log() : 밑이 e인 로그함수\n",
    "* np.log1p() : 들어오는 값에 1을 더해 로그를 취한다\n",
    "당연히 로그 계산법칙이 적용된다."
   ]
  },
  {
   "cell_type": "code",
   "execution_count": 2,
   "id": "a919b938",
   "metadata": {},
   "outputs": [
    {
     "name": "stdout",
     "output_type": "stream",
     "text": [
      "np.exp(2) * np.exp(3) == np.exp(2 + 3) :  True\n",
      "np.exp(2) / np.exp(3) == np.exp(2 - 3) :  True\n",
      "np.log(10) + np.log(10) == np.log(100) :  True\n",
      "2 * np.log(10) == np.log(100) :  True\n"
     ]
    }
   ],
   "source": [
    "a = np.exp(2)\n",
    "b = np.exp(3)\n",
    "c = np.exp(2 + 3)\n",
    "d = np.exp(2 - 3)\n",
    "\n",
    "print('np.exp(2) * np.exp(3) == np.exp(2 + 3) : ', a * b == c)\n",
    "print('np.exp(2) / np.exp(3) == np.exp(2 - 3) : ', a / b == d)\n",
    "\n",
    "e = np.log(10)\n",
    "f = np.log(10)\n",
    "print('np.log(10) + np.log(10) == np.log(100) : ', e + f == np.log(100))\n",
    "print('2 * np.log(10) == np.log(100) : ', e * 2 == np.log(100))\n",
    "\n"
   ]
  }
 ],
 "metadata": {
  "kernelspec": {
   "display_name": "Python 3 (ipykernel)",
   "language": "python",
   "name": "python3"
  },
  "language_info": {
   "codemirror_mode": {
    "name": "ipython",
    "version": 3
   },
   "file_extension": ".py",
   "mimetype": "text/x-python",
   "name": "python",
   "nbconvert_exporter": "python",
   "pygments_lexer": "ipython3",
   "version": "3.8.9"
  }
 },
 "nbformat": 4,
 "nbformat_minor": 5
}
