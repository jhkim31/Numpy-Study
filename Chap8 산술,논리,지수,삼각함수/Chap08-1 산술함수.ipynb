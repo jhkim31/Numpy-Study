{
 "cells": [
  {
   "cell_type": "code",
   "execution_count": 1,
   "id": "e6e26e3a",
   "metadata": {},
   "outputs": [],
   "source": [
    "import numpy as np\n",
    "from pprint import pprint"
   ]
  },
  {
   "cell_type": "markdown",
   "id": "794bc5b3",
   "metadata": {},
   "source": [
    "### [1. 실수절사/절상/반올림](#실수절사/절상/반올림)\n",
    "### [2. 산술연산](#산술연산)\n",
    "### [3. 부호,제곱,제곱근](#부호,제곱,제곱근)"
   ]
  },
  {
   "cell_type": "markdown",
   "id": "e68690fa",
   "metadata": {},
   "source": [
    "# 실수절사/절상/반올림\n",
    "\n",
    "\n",
    "## 절사함수\n",
    "* np.fix() \n",
    "* np.trunc()\n",
    "* np.floor()\n",
    "\n",
    "## 반올림 함수\n",
    "* np.round()\n",
    "* np.around()\n",
    "\n",
    "## 절상함수\n",
    "* np.celi()\n",
    "\n"
   ]
  },
  {
   "cell_type": "markdown",
   "id": "99102c14",
   "metadata": {},
   "source": [
    "# 산술연산\n",
    "\n",
    "## 더하기\n",
    "np.add()\n",
    "`+`\n",
    "\n",
    "## 빼기\n",
    "np.subtract()\n",
    "`-`\n",
    "\n",
    "## 곱하기\n",
    "np.multiply\n",
    "`*`\n",
    "\n",
    "## 나누기\n",
    "np.true_divide() : 실수값 리턴\n",
    "`/`\n",
    "\n",
    "np.floor_divide() : 정수값 리턴\n",
    "`//`\n",
    "\n",
    "### 몫, 나머지\n",
    "* np.mod() : 나머지 리턴\n",
    "* np.remainder() : 나머지 리턴\n",
    "* np.divmod() : 몫, 나머지 리턴\n",
    "\n",
    "## 역수\n",
    "np.reciprocal()"
   ]
  },
  {
   "cell_type": "code",
   "execution_count": 2,
   "id": "a76e121c",
   "metadata": {},
   "outputs": [
    {
     "name": "stdout",
     "output_type": "stream",
     "text": [
      "+ :  [ 6  8 10 12]\n",
      "- :  [-4 -4 -4 -4]\n",
      "* :  [ 5 12 21 32]\n",
      "/ :  [0.2        0.33333333 0.42857143 0.5       ]\n",
      "// :  [0 0 0 0]\n",
      "b mod a :  [0 0 1 0]\n",
      "b 를 a로 나눈 몫, 나머지 :  (array([5, 3, 2, 2]), array([0, 0, 1, 0]))\n",
      "역수 구하기 :  [0.2        0.16666667 0.14285714 0.125     ]\n"
     ]
    }
   ],
   "source": [
    "a = np.array([1,2,3,4])\n",
    "b = np.array([5,6,7,8])\n",
    "\n",
    "print('+ : ', np.add(a,b))\n",
    "print('- : ', np.subtract(a,b))\n",
    "print('* : ', np.multiply(a,b))\n",
    "print('/ : ', np.true_divide(a,b))\n",
    "print('// : ', np.floor_divide(a,b))\n",
    "\n",
    "print('b mod a : ', np.mod(b,a))\n",
    "print('b 를 a로 나눈 몫, 나머지 : ', np.divmod(b,a))\n",
    "print('역수 구하기 : ', np.reciprocal(b.astype('float')))"
   ]
  },
  {
   "cell_type": "markdown",
   "id": "108f58d5",
   "metadata": {},
   "source": [
    "# 부호,제곱,제곱근\n",
    "\n",
    "## 부호\n",
    "\n",
    "* np.sign() : 부호를 1, -1로 표현한다\n",
    "* np.negative() : -1를 곱한다\n",
    "* np.positive() : 1을 곱한다\n",
    "* np.absolute(), np.abs() : 절대값 리턴\n",
    "\n",
    "## 제곱근\n",
    "* np.square() : 제곱 처리\n",
    "* np.power(a, n) : a의 n승\n",
    "* np.sqrt() : 제곱근 처리"
   ]
  },
  {
   "cell_type": "code",
   "execution_count": 3,
   "id": "0d1c6338",
   "metadata": {},
   "outputs": [
    {
     "name": "stdout",
     "output_type": "stream",
     "text": [
      "[-1  1 -1  1]\n",
      "[ 1 -2  3 -4]\n",
      "[-1  2 -3  4]\n",
      "[1 2 3 4]\n",
      "[1 2 3 4]\n",
      "[ 1  4  9 16]\n",
      "[ 1  8 27 64]\n",
      "[1.         1.41421356 1.73205081 2.        ]\n"
     ]
    }
   ],
   "source": [
    "a = np.array([-1, 2, -3, 4])\n",
    "\n",
    "print(np.sign(a))\n",
    "print(np.negative(a))\n",
    "print(np.positive(a))\n",
    "print(np.abs(a))\n",
    "print(np.absolute(a))\n",
    "a = np.array([1, 2, 3, 4])\n",
    "\n",
    "print(np.square(a))\n",
    "print(np.power(a,3))\n",
    "print(np.sqrt(a))"
   ]
  }
 ],
 "metadata": {
  "kernelspec": {
   "display_name": "Python 3 (ipykernel)",
   "language": "python",
   "name": "python3"
  },
  "language_info": {
   "codemirror_mode": {
    "name": "ipython",
    "version": 3
   },
   "file_extension": ".py",
   "mimetype": "text/x-python",
   "name": "python",
   "nbconvert_exporter": "python",
   "pygments_lexer": "ipython3",
   "version": "3.8.9"
  }
 },
 "nbformat": 4,
 "nbformat_minor": 5
}
