{
 "cells": [
  {
   "cell_type": "code",
   "execution_count": 2,
   "id": "a7e53b2e",
   "metadata": {},
   "outputs": [],
   "source": [
    "import numpy as np"
   ]
  },
  {
   "cell_type": "markdown",
   "id": "5f731f26",
   "metadata": {},
   "source": [
    "### [1. 논리연산](#논리연산)\n",
    "### [2. 비교연산](#비교연산)\n",
    "### [3. 수열](#수열)"
   ]
  },
  {
   "cell_type": "markdown",
   "id": "225d9649",
   "metadata": {},
   "source": [
    "# 논리연산\n",
    "\n",
    "## AND연산\n",
    "* np.bitwise_and() : 비트 and 연산\n",
    "* `&`\n",
    "\n",
    "\n",
    "* np.logical_and() : 일반 and 연산\n",
    "\n",
    "## OR 연산\n",
    "* np.bitwise_or() : 비트 or 연산\n",
    "* `|`\n",
    "\n",
    "\n",
    "* np.logical_or() : 일반 or 연산\n",
    "\n",
    "## 배타적 논리합\n",
    "* np.bitwise_xor() : 비트 xor 연산\n",
    "* `^`\n",
    "\n",
    "* np.logical_xor() : 일반 xor 연산\n"
   ]
  },
  {
   "cell_type": "code",
   "execution_count": 6,
   "id": "1531120a",
   "metadata": {},
   "outputs": [
    {
     "name": "stdout",
     "output_type": "stream",
     "text": [
      "a & b :  1\n",
      "np.bitwise_and(a,b) :  1\n",
      "np.logical_and(c, d) :  [ True False]\n",
      "np.bitwise_xor(a,b) :  2\n"
     ]
    }
   ],
   "source": [
    "a = np.array(1)\n",
    "b = np.array(3)\n",
    "c = True\n",
    "d = np.array([True, False])\n",
    "\n",
    "print('a & b : ', a & b)\n",
    "print('np.bitwise_and(a,b) : ', np.bitwise_and(a,b))\n",
    "print('np.logical_and(c, d) : ', np.logical_and(c, d))\n",
    "print('np.bitwise_xor(a,b) : ', np.bitwise_xor(a,b))"
   ]
  },
  {
   "cell_type": "markdown",
   "id": "76319099",
   "metadata": {},
   "source": [
    "# 비교연산\n",
    "\n",
    "## less 연산 <\n",
    "* np.less() : 작다\n",
    "* `<`\n",
    "\n",
    "## greater 연산 >\n",
    "* np.greater() : 크다\n",
    "* `>`\n",
    "\n",
    "## 등호\n",
    "* np.equal() : 등호연산\n",
    "* `==`\n",
    "\n",
    "\n",
    "* np.not_equal() : 같지 않다\n",
    "* `!=`\n",
    "\n",
    "## less_eaual <=\n",
    "* np.less_equal() : 작거나 같다\n",
    "* `<=`\n",
    "\n",
    "## greate_equal >=\n",
    "* np.greater_equal() : 크거나 같다\n",
    "* `>=`"
   ]
  },
  {
   "cell_type": "code",
   "execution_count": 13,
   "id": "e1bfa199",
   "metadata": {},
   "outputs": [
    {
     "name": "stdout",
     "output_type": "stream",
     "text": [
      "a < b : \n",
      " [[ True  True False  True]\n",
      " [ True False False False]\n",
      " [False False False False]\n",
      " [False False False False]]\n",
      "np.less(a,b) : \n",
      " [[ True  True False  True]\n",
      " [ True False False False]\n",
      " [False False False False]\n",
      " [False False False False]]\n",
      "True의 갯수 세기 :  4\n"
     ]
    }
   ],
   "source": [
    "a = np.arange(16).reshape(4,4)\n",
    "b = np.array([8,2,1,6])\n",
    "\n",
    "print('a < b : \\n', a < b)\n",
    "print('np.less(a,b) : \\n', np.less(a, b))\n",
    "print('True의 갯수 세기 : ', (a<b).sum())"
   ]
  },
  {
   "cell_type": "markdown",
   "id": "fbb2b277",
   "metadata": {},
   "source": [
    "# 수열\n",
    "\n",
    "## 합\n",
    "* np.sum() : 배열의 합 계산\n",
    "* np.cumsum() : 누적 합계, 원배열 형상을 유지한다.\n",
    "    * axis를 통해 축을 지정할 수 있다.\n",
    "* np.nansum() : nan을 제외하고 계산한다.\n",
    "* np.nancumsum() : nan을 제외하고 계산한다.\n",
    "\n",
    "## 곱\n",
    "* np.prod() : 배열의 곱 계산\n",
    "* np.cumprod() : 누적 곱, 원배열 형상을 유지한다.\n",
    "    * axis를 통해 축을 지정할 수 있다.\n",
    "* np.nanprod() : nan을 빼고 계산한다.\n",
    "* np.nancumprod() : nan을 빼고 계산한다."
   ]
  },
  {
   "cell_type": "code",
   "execution_count": 16,
   "id": "2f4259e9",
   "metadata": {},
   "outputs": [
    {
     "name": "stdout",
     "output_type": "stream",
     "text": [
      "np.sum(a) :  10\n",
      "np.cumsum(a) :  [ 0  1  3  6 10]\n",
      "b : \n",
      " [[[0 1]\n",
      "  [2 3]]\n",
      "\n",
      " [[4 5]\n",
      "  [6 7]]]\n",
      "np.sum(b, axis=0) : \n",
      " [[ 4  6]\n",
      " [ 8 10]]\n",
      "np.sum(b, axis=1) : \n",
      " [[ 2  4]\n",
      " [10 12]]\n",
      "np.sum(b, axis=2) : \n",
      " [[ 1  5]\n",
      " [ 9 13]]\n"
     ]
    }
   ],
   "source": [
    "a = np.arange(5)\n",
    "b = np.arange(8).reshape(2,2,2)\n",
    "\n",
    "print('np.sum(a) : ', np.sum(a))\n",
    "print('np.cumsum(a) : ', np.cumsum(a))\n",
    "print('b : \\n', b)\n",
    "print('np.sum(b, axis=0) : \\n', np.sum(b, axis=0))\n",
    "print('np.sum(b, axis=1) : \\n', np.sum(b, axis=1))\n",
    "print('np.sum(b, axis=2) : \\n', np.sum(b, axis=2))"
   ]
  }
 ],
 "metadata": {
  "kernelspec": {
   "display_name": "Python 3 (ipykernel)",
   "language": "python",
   "name": "python3"
  },
  "language_info": {
   "codemirror_mode": {
    "name": "ipython",
    "version": 3
   },
   "file_extension": ".py",
   "mimetype": "text/x-python",
   "name": "python",
   "nbconvert_exporter": "python",
   "pygments_lexer": "ipython3",
   "version": "3.8.9"
  }
 },
 "nbformat": 4,
 "nbformat_minor": 5
}
