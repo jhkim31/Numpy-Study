{
 "cells": [
  {
   "cell_type": "code",
   "execution_count": 2,
   "id": "48f13027",
   "metadata": {},
   "outputs": [],
   "source": [
    "import numpy as np"
   ]
  },
  {
   "cell_type": "markdown",
   "id": "2c3d1468",
   "metadata": {},
   "source": [
    "# ndarray클래스와 numpy 모듈\n",
    "ndarray클래스에 있는 메소드들과 numpy 모듈에 있는 메소드들중 겹치는 메소드들이 있다.  \n",
    "\n",
    "약 47개정도 있음.  any, all은 그중 하나다.  \n",
    "\n",
    "**이들은 사용방법은 다르지만 동일한 결과를 가짐**\n",
    " \n",
    "* .any() : 그중 하나라도 True가 있으면 True\n",
    "* .all() : 그중 모든 원소가 True이면 True"
   ]
  },
  {
   "cell_type": "code",
   "execution_count": 3,
   "id": "f333a659",
   "metadata": {},
   "outputs": [
    {
     "name": "stdout",
     "output_type": "stream",
     "text": [
      "a != 0 :  [[False False False False]\n",
      " [False False False False]\n",
      " [False False False False]\n",
      " [False False False False]]\n",
      "np.any(a == 0) :  True\n",
      "(a == 0).any() :  True\n"
     ]
    }
   ],
   "source": [
    "a = np.zeros((4,4))\n",
    "print('a != 0 : ', a != 0)\n",
    "print('np.any(a == 0) : ', np.any(a == 0))\n",
    "print('(a == 0).any() : ', (a == 0).any())"
   ]
  },
  {
   "cell_type": "markdown",
   "id": "b4d55320",
   "metadata": {},
   "source": [
    "# 벡터화 연산\n",
    "\n",
    "순환하며 차례로 연산하는 것이 아닌 인덱스끼리 연산을 자동으로 처리하는것을 벡터화 연산이라 한다.  \n",
    "universal함수(ufunc)는 벡터화 연산을 할 수 있는 기능 제공함  \n",
    "* `*` 연산은 ufunc로 인덱스 원소끼리 곱한다.\n",
    "* np.newaxis 는 새로운 차원 축을 추가한다.  \n",
    "    * np.newaxis를 추가하는 위치에 따라 결과가 달라짐\n",
    "        * np.newaxis는 None다!?\n",
    "        * np.newaxis대신 None을 사용하여도 같은 결과가 나오는거 같음!\n",
    "* @는 dot product를 실행함"
   ]
  },
  {
   "cell_type": "code",
   "execution_count": 4,
   "id": "9c33014b",
   "metadata": {
    "scrolled": false
   },
   "outputs": [
    {
     "name": "stdout",
     "output_type": "stream",
     "text": [
      "a.shape :  (4,)\n",
      "d.shape :  (4, 1)\n",
      "e.shape :  (1, 4)\n",
      "d @ e :  [[36 42 48 54]\n",
      " [42 49 56 63]\n",
      " [48 56 64 72]\n",
      " [54 63 72 81]]\n"
     ]
    }
   ],
   "source": [
    "a = np.arange(6, 10)\n",
    "b = np.arange(10, 14)\n",
    "\n",
    "c = a * b\n",
    "\n",
    "d = a[:,None]\n",
    "e = a[np.newaxis, :]\n",
    "\n",
    "\n",
    "print('a.shape : ', a.shape)\n",
    "print('d.shape : ', d.shape)\n",
    "print('e.shape : ', e.shape)\n",
    "\n",
    "print('d @ e : ', d @ e)"
   ]
  },
  {
   "cell_type": "markdown",
   "id": "5f24ee9e",
   "metadata": {},
   "source": [
    "# 축 계산\n",
    "\n",
    "* .reshape : 축변환\n",
    "\n",
    "## 지정된 축에서의 연산\n",
    "\n",
    "메소드에 axis 파라미터값으로 축을 주지 않으면 해당 배열의 모든 값으로 연산을 진행하지만,  \n",
    "axis를 파라미터로 넘겨주면 해당 축을 기준으로 연산을 수행함\n"
   ]
  },
  {
   "cell_type": "code",
   "execution_count": 5,
   "id": "823dc55e",
   "metadata": {},
   "outputs": [
    {
     "name": "stdout",
     "output_type": "stream",
     "text": [
      "b :  [[1 2]\n",
      " [3 4]]\n",
      "b.sum() :  10\n",
      "b.sum(axis=1) :  [3 7]\n"
     ]
    }
   ],
   "source": [
    "a = np.array([1,2,3,4])\n",
    "b = a.reshape(2,2)\n",
    "print('b : ', b)\n",
    "\n",
    "print('b.sum() : ', b.sum())\n",
    "print('b.sum(axis=1) : ', b.sum(axis=1))"
   ]
  },
  {
   "cell_type": "markdown",
   "id": "186740c9",
   "metadata": {},
   "source": [
    "# 원소 개수 일치 (차원 유지)\n",
    "벡터간 연산을 하려면 동일한 차원을 가져야함.  \n",
    "ex) 4차원 벡터와 원소 연산(element wise)을 할려면 동일한 4차원 벡터 필요\n",
    "\n",
    "## 브로드 캐스팅\n",
    "하지만 일정한 조건이 맞는다면 동일한 차원이 아니여도 가능함.  \n",
    "가장 쉬운 예시가 벡터와, 스칼라의 원소 연산\n",
    "https://sacko.tistory.com/16 참조\n"
   ]
  },
  {
   "cell_type": "code",
   "execution_count": 6,
   "id": "4d424910",
   "metadata": {},
   "outputs": [
    {
     "ename": "ValueError",
     "evalue": "operands could not be broadcast together with shapes (4,) (3,) ",
     "output_type": "error",
     "traceback": [
      "\u001b[0;31m---------------------------------------------------------------------------\u001b[0m",
      "\u001b[0;31mValueError\u001b[0m                                Traceback (most recent call last)",
      "\u001b[0;32m/var/folders/h2/dj55201j10x9vzmdbgy0sf2c0000gn/T/ipykernel_1252/2824866082.py\u001b[0m in \u001b[0;36m<module>\u001b[0;34m\u001b[0m\n\u001b[1;32m      2\u001b[0m \u001b[0mb\u001b[0m \u001b[0;34m=\u001b[0m \u001b[0mnp\u001b[0m\u001b[0;34m.\u001b[0m\u001b[0marray\u001b[0m\u001b[0;34m(\u001b[0m\u001b[0;34m[\u001b[0m\u001b[0;36m1\u001b[0m\u001b[0;34m,\u001b[0m\u001b[0;36m2\u001b[0m\u001b[0;34m,\u001b[0m\u001b[0;36m3\u001b[0m\u001b[0;34m]\u001b[0m\u001b[0;34m)\u001b[0m\u001b[0;34m\u001b[0m\u001b[0;34m\u001b[0m\u001b[0m\n\u001b[1;32m      3\u001b[0m \u001b[0;34m\u001b[0m\u001b[0m\n\u001b[0;32m----> 4\u001b[0;31m \u001b[0mprint\u001b[0m\u001b[0;34m(\u001b[0m\u001b[0ma\u001b[0m \u001b[0;34m+\u001b[0m \u001b[0mb\u001b[0m\u001b[0;34m)\u001b[0m\u001b[0;34m\u001b[0m\u001b[0;34m\u001b[0m\u001b[0m\n\u001b[0m",
      "\u001b[0;31mValueError\u001b[0m: operands could not be broadcast together with shapes (4,) (3,) "
     ]
    }
   ],
   "source": [
    "a = np.array([1,2,3,4])\n",
    "b = np.array([1,2,3])\n",
    "\n",
    "print(a + b)"
   ]
  }
 ],
 "metadata": {
  "kernelspec": {
   "display_name": "Python 3 (ipykernel)",
   "language": "python",
   "name": "python3"
  },
  "language_info": {
   "codemirror_mode": {
    "name": "ipython",
    "version": 3
   },
   "file_extension": ".py",
   "mimetype": "text/x-python",
   "name": "python",
   "nbconvert_exporter": "python",
   "pygments_lexer": "ipython3",
   "version": "3.8.9"
  }
 },
 "nbformat": 4,
 "nbformat_minor": 5
}
