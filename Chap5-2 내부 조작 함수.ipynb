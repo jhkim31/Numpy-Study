{
 "cells": [
  {
   "cell_type": "code",
   "execution_count": 14,
   "id": "4bbab84c",
   "metadata": {},
   "outputs": [],
   "source": [
    "import numpy as np\n",
    "from pprint import pprint"
   ]
  },
  {
   "cell_type": "markdown",
   "id": "0c3062cc",
   "metadata": {},
   "source": [
    "# 정렬함수\n",
    "\n",
    "* np.sort() : 정렬된 배열을 리턴한다.\n",
    "* .sort() : 배열 자체를 정렬함 리턴값은 없음\n",
    "* np.argsort() : 각 원소들을 정렬시 가지게될 인덱스로 리턴\n",
    "\n",
    "## 행렬 및 배열에서 특정 행 또는 열을 통한 전체 배열 정렬\n",
    "1. 행렬의 특정 행 또는 열을 추출한다 \n",
    "    ex) a[:, 2] => 행렬의 2열 추출\n",
    "2. 해당 추출배열에서 .argsort()를 통해 정렬된 인덱스를 얻는다\n",
    "    ex) a[:, 2].argsort()\n",
    "3. 팬시 검색을 통해 배열을 정렬한다\n",
    "    ex) a[a[:, 2].argsort()]"
   ]
  },
  {
   "cell_type": "code",
   "execution_count": 32,
   "id": "bca61c99",
   "metadata": {},
   "outputs": [
    {
     "name": "stdout",
     "output_type": "stream",
     "text": [
      "a : \n",
      " [[5 7 2 8]\n",
      " [3 2 3 2]]\n",
      "b : \n",
      " [[2 5 7 8]\n",
      " [2 2 3 3]]\n",
      "a : \n",
      " [[2 5 7 8]\n",
      " [2 2 3 3]]\n",
      "[[3 9 8 2]\n",
      " [7 9 1 1]]\n",
      "[[3 0 2 1]\n",
      " [2 3 0 1]]\n",
      "a : \n",
      " [[3 1 9 5]\n",
      " [8 4 6 5]\n",
      " [5 1 9 8]\n",
      " [8 3 5 7]]\n",
      "a sorted by colum 2 : \n",
      " [[8 3 5 7]\n",
      " [8 4 6 5]\n",
      " [3 1 9 5]\n",
      " [5 1 9 8]]\n"
     ]
    }
   ],
   "source": [
    "a = np.random.randint(1,10, (2,4))\n",
    "\n",
    "print('a : \\n', a)\n",
    "\n",
    "b = np.sort(a)\n",
    "print('b : \\n', b)\n",
    "\n",
    "a.sort()\n",
    "print('a : \\n', a)\n",
    "\n",
    "a = np.random.randint(1,10, (2,4))\n",
    "print(a)\n",
    "c = np.argsort(a)\n",
    "print(c)\n",
    "\n",
    "\n",
    "a = np.random.randint(1,10, (4,4))\n",
    "\n",
    "print('a : \\n', a)\n",
    "print('a sorted by colum 2 : \\n', a[a[:, 2].argsort()])"
   ]
  },
  {
   "cell_type": "markdown",
   "id": "f60a8107",
   "metadata": {},
   "source": [
    "# 배열과 메트릭스 변환\n",
    "\n",
    "* np.asarray() : 배열로 만든다\n",
    "* np.asmatrix() : 매트릭스로 만든다"
   ]
  },
  {
   "cell_type": "code",
   "execution_count": 17,
   "id": "c889cf98",
   "metadata": {},
   "outputs": [
    {
     "name": "stdout",
     "output_type": "stream",
     "text": [
      "matrix([[1, 2, 3, 4]])\n",
      "array([[1, 2, 3, 4]])\n",
      "matrix([[1, 2, 3, 4]])\n"
     ]
    }
   ],
   "source": [
    "a = np.matrix([1,2,3,4])\n",
    "pprint(a)\n",
    "\n",
    "b = np.asarray(a)\n",
    "pprint(b)\n",
    "\n",
    "c = np.asmatrix(b)\n",
    "pprint(c)"
   ]
  },
  {
   "cell_type": "markdown",
   "id": "aed5d897",
   "metadata": {},
   "source": [
    "# 배열 값 변경 \n",
    "\n",
    "* .fill() : 배열의 원소의 값들을 전부 변경시킴\n"
   ]
  },
  {
   "cell_type": "code",
   "execution_count": 19,
   "id": "5ac57985",
   "metadata": {},
   "outputs": [
    {
     "name": "stdout",
     "output_type": "stream",
     "text": [
      "a :  [1. 1. 1. 1.]\n",
      "a :  [99. 99. 99. 99.]\n"
     ]
    }
   ],
   "source": [
    "a = np.ones(4)\n",
    "print('a : ', a)\n",
    "\n",
    "a.fill(99)\n",
    "print('a : ', a)"
   ]
  },
  {
   "cell_type": "markdown",
   "id": "bd9444c1",
   "metadata": {},
   "source": [
    "# 배열 원소 회전\n",
    "\n",
    "* np.rot90() : 원소를 90도로 회전\n",
    "    * 배열 이후 넣는 파라미터를 통해 180, 270..등 변환이 가능\n",
    "        * n * 90 만큼 변환됨\n",
    "        \n",
    "* roll() : 배열을 회전시킨다 (원형 리스트와 같은 느낌)\n",
    "    * ##행렬일때##\n",
    "    * default : 각 원소를 평면으로 두고 이동\n",
    "    * axis = 0 : 행단위로 이동\n",
    "    * axis = 1 : 열단위로 이동"
   ]
  },
  {
   "cell_type": "code",
   "execution_count": 47,
   "id": "68029fec",
   "metadata": {},
   "outputs": [
    {
     "name": "stdout",
     "output_type": "stream",
     "text": [
      "a : \n",
      " [[1 2]\n",
      " [3 4]]\n",
      "a rot 90: \n",
      " [[2 4]\n",
      " [1 3]]\n",
      "a rot 180 : \n",
      " [[4 3]\n",
      " [2 1]]\n",
      "a rot 270 : \n",
      " [[3 1]\n",
      " [4 2]]\n",
      "a rot 360 : \n",
      " [[1 2]\n",
      " [3 4]]\n",
      "\n",
      "a : \n",
      " [[ 0  1  2  3]\n",
      " [ 4  5  6  7]\n",
      " [ 8  9 10 11]\n",
      " [12 13 14 15]]\n",
      "원소별 이동 : \n",
      " [[15  0  1  2]\n",
      " [ 3  4  5  6]\n",
      " [ 7  8  9 10]\n",
      " [11 12 13 14]]\n",
      "행단위 이동 : \n",
      " [[12 13 14 15]\n",
      " [ 0  1  2  3]\n",
      " [ 4  5  6  7]\n",
      " [ 8  9 10 11]]\n",
      "열단위 이동 : \n",
      " [[ 3  0  1  2]\n",
      " [ 7  4  5  6]\n",
      " [11  8  9 10]\n",
      " [15 12 13 14]]\n"
     ]
    }
   ],
   "source": [
    "a = np.array([[1,2], [3,4]])\n",
    "\n",
    "print('a : \\n', a)\n",
    "print('a rot 90: \\n', np.rot90(a))\n",
    "print('a rot 180 : \\n', np.rot90(a, 2))\n",
    "print('a rot 270 : \\n', np.rot90(a, 3))\n",
    "print('a rot 360 : \\n', np.rot90(a, 4))\n",
    "print()\n",
    "\n",
    "a = np.arange(16).reshape(4,4)\n",
    "print('a : \\n', a)\n",
    "print('원소별 이동 : \\n', np.roll(a, 1))\n",
    "print('행단위 이동 : \\n', np.roll(a, 1, axis=0))\n",
    "print('열단위 이동 : \\n', np.roll(a, 1, axis=1))"
   ]
  },
  {
   "cell_type": "markdown",
   "id": "3ea73c9a",
   "metadata": {},
   "source": [
    "# 원소 점검\n",
    "\n",
    "* np.isreal() : 전부 실수인지\n",
    "* np.isinf() : 무한대 값이 있는지\n",
    "* np.isnan() : Nan 값이 있는지\n",
    "* np.iscomplex() : 복소수인지\n",
    "\n",
    "* np.nonzero() : 0이 아닌값의 위치를 행행렬, 열행렬을 통해 리턴\n",
    "    * 행렬의 경우 리턴되는 두개의 행렬중 첫번째는 행에 대한 정보, 두번째는 열에대한 정보다."
   ]
  },
  {
   "cell_type": "code",
   "execution_count": 50,
   "id": "cc5223aa",
   "metadata": {},
   "outputs": [
    {
     "name": "stdout",
     "output_type": "stream",
     "text": [
      "isinf : \n",
      " [[False False False False]\n",
      " [False False False False]\n",
      " [False False False False]\n",
      " [False False False False]]\n",
      "(array([0, 0, 0, 1, 1, 1, 1, 2, 2, 2, 2, 3, 3, 3, 3]), array([1, 2, 3, 0, 1, 2, 3, 0, 1, 2, 3, 0, 1, 2, 3]))\n"
     ]
    }
   ],
   "source": [
    "a = np.arange(16).reshape(4,4)\n",
    "\n",
    "print('isinf : \\n', np.isinf(a))\n",
    "print(np.nonzero(a))"
   ]
  }
 ],
 "metadata": {
  "kernelspec": {
   "display_name": "Python 3 (ipykernel)",
   "language": "python",
   "name": "python3"
  },
  "language_info": {
   "codemirror_mode": {
    "name": "ipython",
    "version": 3
   },
   "file_extension": ".py",
   "mimetype": "text/x-python",
   "name": "python",
   "nbconvert_exporter": "python",
   "pygments_lexer": "ipython3",
   "version": "3.8.9"
  }
 },
 "nbformat": 4,
 "nbformat_minor": 5
}
