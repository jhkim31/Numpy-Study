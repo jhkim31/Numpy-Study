{
 "cells": [
  {
   "cell_type": "code",
   "execution_count": 1,
   "id": "ca1d813d",
   "metadata": {},
   "outputs": [],
   "source": [
    "import numpy as np"
   ]
  },
  {
   "cell_type": "markdown",
   "id": "d6dfb59c",
   "metadata": {},
   "source": [
    "# 브로드캐스팅\n",
    "\n",
    "형태가 맞지 않아도 일정 조건이 맞으면 브로드 캐스팅을 통해 연산을 가능하게 함.  \n",
    "ex) (2, 5)행렬과 와 (5,)벡터는 연산이 가능함.  \n",
    "**단 일정 조건이 맞아야함**   \n",
    "**적어도 행과, 열이 하나는 맞아야함** \n",
    "=> 만약 (2,5)와 (6,)이 연산을 하려 한다면 예외가남\n",
    "\n",
    "* np.braodcast_to() : 특정 shape으로 브로드캐스팅한다 (조건 맞아야함)\n",
    "    * 이또한 (5,) 벡터를 (2,6)으로 늘리는것은 불가능 => (n,5)만 가능\n"
   ]
  },
  {
   "cell_type": "code",
   "execution_count": 17,
   "id": "9eb2b391",
   "metadata": {},
   "outputs": [
    {
     "name": "stdout",
     "output_type": "stream",
     "text": [
      "a : \n",
      " [[0 1 2 3 4]\n",
      " [5 6 7 8 9]]\n",
      "b : \n",
      " [10 11 12 13 14]\n",
      "a + b : \n",
      " [[10 12 14 16 18]\n",
      " [15 17 19 21 23]]\n",
      "c : \n",
      " [[10 11 12 13 14]\n",
      " [10 11 12 13 14]]\n",
      "d : \n",
      " [[10 10 10 10 10]\n",
      " [10 10 10 10 10]]\n"
     ]
    }
   ],
   "source": [
    "a = np.array(np.arange(10)).reshape(2,5)\n",
    "b = np.array(np.arange(10,15))\n",
    "\n",
    "print('a : \\n', a)\n",
    "print('b : \\n', b)\n",
    "print('a + b : \\n', a + b)\n",
    "\n",
    "c = np.broadcast_to(b, (2,5))\n",
    "d = np.broadcast_to(10, (2,5))\n",
    "print('c : \\n', c)\n",
    "print('d : \\n', d)"
   ]
  },
  {
   "cell_type": "markdown",
   "id": "ace94dfc",
   "metadata": {},
   "source": [
    "# 행벡터, 열벡터 브로드캐스팅 확장\n",
    "\n",
    "우리가 자주 사용하는것은 열벡터이지만, 다차원 벡터는 주로 행벡터 중심으로 만들어짐.\n",
    "\n",
    "만약 a = [1,2] 인 행벡터와 b = [3,4]^T인 열벡터가 있다하면 이 둘은 어떻게 계산될까??  \n",
    "\n",
    "a가 b의 차원에 맞춰 [[1,2], [1,2]]로 확장되고, b가 a의 차원에 맞춰 [[3,3], [4,4]]로 확장되어 계산된다.\n"
   ]
  },
  {
   "cell_type": "code",
   "execution_count": 22,
   "id": "96e44455",
   "metadata": {},
   "outputs": [
    {
     "name": "stdout",
     "output_type": "stream",
     "text": [
      "[1 2]\n",
      "[[3]\n",
      " [4]]\n",
      "[[4 5]\n",
      " [5 6]]\n"
     ]
    }
   ],
   "source": [
    "a = np.array([1,2])\n",
    "b = np.array([3,4]).reshape(2,1)\n",
    "\n",
    "print(a)\n",
    "print(b)\n",
    "print(a + b)"
   ]
  }
 ],
 "metadata": {
  "kernelspec": {
   "display_name": "Python 3 (ipykernel)",
   "language": "python",
   "name": "python3"
  },
  "language_info": {
   "codemirror_mode": {
    "name": "ipython",
    "version": 3
   },
   "file_extension": ".py",
   "mimetype": "text/x-python",
   "name": "python",
   "nbconvert_exporter": "python",
   "pygments_lexer": "ipython3",
   "version": "3.8.9"
  }
 },
 "nbformat": 4,
 "nbformat_minor": 5
}
