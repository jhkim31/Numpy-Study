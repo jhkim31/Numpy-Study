{
 "cells": [
  {
   "cell_type": "code",
   "execution_count": 1,
   "id": "240e07dc",
   "metadata": {},
   "outputs": [],
   "source": [
    "import numpy as np\n",
    "import matplotlib.pyplot as plt"
   ]
  },
  {
   "cell_type": "markdown",
   "id": "d6b8d877",
   "metadata": {},
   "source": [
    "### [1. 원소간차이](#원소간차이)\n",
    "### [2. 미분](#미분하기)\n",
    "### [3. 적분](#적분하기)"
   ]
  },
  {
   "cell_type": "markdown",
   "id": "22a07378",
   "metadata": {},
   "source": [
    "미분 : 연속적인 함수공간에서의 변화량  \n",
    "차분 : 이산적인 함수공간에서의 변화량\n",
    "\n",
    "# 원소간차이\n",
    "\n",
    "* np.diff() : 원소간 차이를 구한다.  \n",
    "    * n을 지정하여 차분을 구한 배열로 다시 차분을 구할 수 있음\n",
    "[a,b,c,d,e] 가 있다면  \n",
    "[b-a, c-b, d-c, e-f] 의 결과가 나옴\n",
    "\n",
    "## 차분으로 미분하기\n",
    "\n",
    "1. x와 y의 차분을 구한다.  \n",
    "2. dydx를 x,y 배열과 동일한 크기로 만든다\n",
    "3. dydx에 dy / dx 를 넣는다 (dy / dx의 차원이 1 작으므로 마지막 원소 전까지 넣음)\n",
    "4. 마지막 항을 손수 채워넣는다.\n",
    "\n",
    "* np.gradient() : 미분을 구한다."
   ]
  },
  {
   "cell_type": "code",
   "execution_count": 2,
   "id": "59af0ab7",
   "metadata": {},
   "outputs": [
    {
     "name": "stdout",
     "output_type": "stream",
     "text": [
      "np.diff(a) :  [1 1 1 3]\n",
      "np.diff(a, n = 2) :  [0 0 2]\n",
      "dx :  [1 1 1 1 1 1]\n",
      "dy :  [2 2 2 2 2 2]\n",
      "차분으로 구한 미분값 :  [2. 2. 2. 2. 2. 2. 2.]\n",
      "함수로 구한 미분값 :  [2. 2. 2. 2. 2. 2. 2.]\n"
     ]
    }
   ],
   "source": [
    "a = np.array([1,2,3,4,7])\n",
    "print('np.diff(a) : ', np.diff(a))\n",
    "print('np.diff(a, n = 2) : ', np.diff(a, n = 2))\n",
    "\n",
    "x = np.array([1,2,3,4,5,6,7])\n",
    "y = np.array([2,4,6,8,10,12,14])\n",
    "\n",
    "dx = np.diff(x)\n",
    "dy = np.diff(y)\n",
    "print('dx : ', dx)\n",
    "print('dy : ', dy)\n",
    "\n",
    "dydx = np.zeros(x.shape)\n",
    "dydx[:-1] = dy / dx\n",
    "dydx[-1] = (y[-1] - y[-2]) / (x[-1] - x[-2])\n",
    "print('차분으로 구한 미분값 : ', dydx)\n",
    "print('함수로 구한 미분값 : ', np.gradient(y))"
   ]
  },
  {
   "cell_type": "markdown",
   "id": "8baf1350",
   "metadata": {},
   "source": [
    "# 미분하기\n",
    "\n",
    "* np.polyder() : 다항식 객체를 미분할때 사용한다."
   ]
  },
  {
   "cell_type": "code",
   "execution_count": 3,
   "id": "f0278842",
   "metadata": {},
   "outputs": [
    {
     "name": "stdout",
     "output_type": "stream",
     "text": [
      "a : \n",
      "    4     3     2\n",
      "1 x + 2 x + 3 x + 4 x + 5\n",
      "np.polyder(a) : \n",
      "    3     2\n",
      "4 x + 6 x + 6 x + 4\n"
     ]
    }
   ],
   "source": [
    "a = np.poly1d([1,2,3,4,5])\n",
    "d = np.polyder(a)\n",
    "print('a : \\n', a)\n",
    "print('np.polyder(a) : \\n', d)"
   ]
  },
  {
   "cell_type": "markdown",
   "id": "697b4221",
   "metadata": {},
   "source": [
    "# 적분하기\n",
    "\n",
    "* np.polyint() : 부정적분\n",
    "* np.trapz() : 정적분"
   ]
  },
  {
   "cell_type": "code",
   "execution_count": 4,
   "id": "88df612f",
   "metadata": {},
   "outputs": [
    {
     "name": "stdout",
     "output_type": "stream",
     "text": [
      "   4     3     2\n",
      "1 x + 2 x + 3 x + 4 x\n",
      "아래 함수의 정적분 :  16.0\n"
     ]
    },
    {
     "data": {
      "image/png": "[encoded data removed]",
      "text/plain": [
       "<Figure size 432x288 with 1 Axes>"
      ]
     },
     "metadata": {
      "needs_background": "light"
     },
     "output_type": "display_data"
    }
   ],
   "source": [
    "a = np.poly1d([4,6,6,4])\n",
    "x1 = np.array([1,2,3,4])\n",
    "print(np.polyint(a))\n",
    "print('아래 함수의 정적분 : ', np.trapz(a, x = x1))\n",
    "\n",
    "fig = plt.figure()\n",
    "plt.ylim(0, 7)\n",
    "plt.plot(x1, a)\n",
    "plt.show()"
   ]
  }
 ],
 "metadata": {
  "kernelspec": {
   "display_name": "Python 3 (ipykernel)",
   "language": "python",
   "name": "python3"
  },
  "language_info": {
   "codemirror_mode": {
    "name": "ipython",
    "version": 3
   },
   "file_extension": ".py",
   "mimetype": "text/x-python",
   "name": "python",
   "nbconvert_exporter": "python",
   "pygments_lexer": "ipython3",
   "version": "3.8.9"
  }
 },
 "nbformat": 4,
 "nbformat_minor": 5
}
