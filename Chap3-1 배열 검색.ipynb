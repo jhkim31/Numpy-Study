{
 "cells": [
  {
   "cell_type": "code",
   "execution_count": 11,
   "id": "2dac5055",
   "metadata": {},
   "outputs": [],
   "source": [
    "import numpy as np\n",
    "from pprint import pprint"
   ]
  },
  {
   "cell_type": "markdown",
   "id": "68a6d209",
   "metadata": {},
   "source": [
    "# 색인검색\n",
    "대괄호 사용해 원소를 조회함."
   ]
  },
  {
   "cell_type": "code",
   "execution_count": 8,
   "id": "9889e328",
   "metadata": {},
   "outputs": [
    {
     "name": "stdout",
     "output_type": "stream",
     "text": [
      "a :  [0 1 2 3 4 5 6 7 8 9]\n",
      "a[0] :  0\n",
      "a[-1] :  9\n",
      "\n",
      "b : \n",
      " [[0 1 2 3 4]\n",
      " [5 6 7 8 9]]\n",
      "b[0] :  [0 1 2 3 4]\n",
      "b[0, 3] :  3\n"
     ]
    }
   ],
   "source": [
    "a = np.array(np.arange(10))\n",
    "\n",
    "print('a : ', a)\n",
    "print('a[0] : ', a[0])\n",
    "print('a[-1] : ', a[-1])\n",
    "print()\n",
    "\n",
    "b = a.reshape(2,5)\n",
    "print('b : \\n', b)\n",
    "print('b[0] : ', b[0])\n",
    "print('b[0, 3] : ', b[0, 3])\n",
    "\n"
   ]
  },
  {
   "cell_type": "markdown",
   "id": "ab124199",
   "metadata": {},
   "source": [
    "# 슬라이스 검색\n",
    "\n",
    "* a:b =>  a 부터 b까지\n",
    "* a: => a부터 ~ 까지\n",
    "* :b => ~b까지\n",
    "* ::a => 첫번째 원소부터 a의 간격만큼만\n",
    "* a::b => a번째 원소부터 b의 간격만큼 뛰어서\n",
    "* ... => 생략기호\n",
    "    * ex) [:, :, :, :, 0] == [..., 0]"
   ]
  },
  {
   "cell_type": "code",
   "execution_count": 29,
   "id": "c08c4764",
   "metadata": {},
   "outputs": [
    {
     "name": "stdout",
     "output_type": "stream",
     "text": [
      "a : \n",
      " [[1 2 3]\n",
      " [4 5 6]\n",
      " [7 8 9]]\n",
      "a[:, 2] :  [3 6 9]\n",
      "a[2, :] :  [7 8 9]\n",
      "\n",
      "b :  [ 1  2  3  4  5  6  7  8  9 10 11 12 13 14 15 16 17 18 19]\n",
      "b[::2] :  [ 1  3  5  7  9 11 13 15 17 19]\n",
      "b[1::3] :  [ 2  5  8 11 14 17]\n",
      "\n",
      "c : \n",
      " [[[[ 0  1]\n",
      "   [ 2  3]]\n",
      "\n",
      "  [[ 4  5]\n",
      "   [ 6  7]]]\n",
      "\n",
      "\n",
      " [[[ 8  9]\n",
      "   [10 11]]\n",
      "\n",
      "  [[12 13]\n",
      "   [14 15]]]]\n",
      "\n",
      "c[..., 1] : \n",
      "  [[[ 1  3]\n",
      "  [ 5  7]]\n",
      "\n",
      " [[ 9 11]\n",
      "  [13 15]]]\n",
      "\n",
      "c[:, :, :, 1] : \n",
      "  [[[ 1  3]\n",
      "  [ 5  7]]\n",
      "\n",
      " [[ 9 11]\n",
      "  [13 15]]]\n"
     ]
    }
   ],
   "source": [
    "a = np.array(np.arange(1,10)).reshape(3,3)\n",
    "b = np.array(np.arange(1,20))\n",
    "c = np.array(np.arange(16)).reshape(2,2,2,2)\n",
    "\n",
    "print('a : \\n', a)\n",
    "print('a[:, 2] : ', a[:, 2])\n",
    "print('a[2, :] : ', a[2, :])\n",
    "print()\n",
    "\n",
    "print('b : ', b)\n",
    "print('b[::2] : ', b[::2])\n",
    "print('b[1::3] : ', b[1::3])\n",
    "print()\n",
    "\n",
    "print('c : \\n', c)\n",
    "print()\n",
    "print('c[..., 1] : \\n ', c[..., 1])\n",
    "print()\n",
    "print('c[:, :, :, 1] : \\n ', c[:, :, :, 1])\n",
    "\n"
   ]
  }
 ],
 "metadata": {
  "kernelspec": {
   "display_name": "Python 3 (ipykernel)",
   "language": "python",
   "name": "python3"
  },
  "language_info": {
   "codemirror_mode": {
    "name": "ipython",
    "version": 3
   },
   "file_extension": ".py",
   "mimetype": "text/x-python",
   "name": "python",
   "nbconvert_exporter": "python",
   "pygments_lexer": "ipython3",
   "version": "3.8.9"
  }
 },
 "nbformat": 4,
 "nbformat_minor": 5
}
