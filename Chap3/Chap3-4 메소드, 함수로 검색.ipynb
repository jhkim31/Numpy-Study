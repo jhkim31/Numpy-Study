{
 "cells": [
  {
   "cell_type": "code",
   "execution_count": 9,
   "id": "fe32ce9e",
   "metadata": {},
   "outputs": [],
   "source": [
    "import numpy as np\n",
    "from pprint import pprint"
   ]
  },
  {
   "cell_type": "markdown",
   "id": "28e4e14a",
   "metadata": {},
   "source": [
    "# 메소드\n",
    "* .item() : 하나의 원소를 조회한다. 만약 다차원 배열이여도 하나의 인덱스로 조회 가능함.\n",
    "\n",
    "* .itemset() : item()과 동일한 조회방식을 사용하고, 해당 원소의 값을 재설정한다\n",
    "\n",
    "* .take() : 배열의 인덱스를 조회하여 가져온다.\n",
    "\n",
    "* .put() : 동일한 방식으로 조회된 인덱스에 값을 넣는다."
   ]
  },
  {
   "cell_type": "code",
   "execution_count": 35,
   "id": "4afa9b4b",
   "metadata": {},
   "outputs": [
    {
     "name": "stdout",
     "output_type": "stream",
     "text": [
      "a.item(14) :  34\n",
      "a.item(2,2) :  32\n",
      "a :\n",
      "array([[ 20,  21,  22,  23,  24],\n",
      "       [ 25,  26,  27,  28,  29],\n",
      "       [ 30,  31, 999,  33,  99],\n",
      "       [ 35,  36,  37,  38,  39]])\n",
      "a.take(pos1) # [6,8] :  [26 28]\n",
      "a.take(pos2) # [[18, 13], [5,1]] : \n",
      " [[38 33]\n",
      " [25 21]]\n",
      "a.take(pos3) # [[5,1], [18, 13]] : \n",
      " [[25 21]\n",
      " [38 33]]\n",
      "\n",
      "a :\n",
      "array([[ 20,   0,  22,  23,  24],\n",
      "       [  0,   9,  27,   9,  29],\n",
      "       [ 30,  31, 999,   0,  99],\n",
      "       [ 35,  36,  37,   0,  39]])\n"
     ]
    }
   ],
   "source": [
    "a = np.array(np.arange(20,40)).reshape(4,5)\n",
    "\n",
    "print('a.item(14) : ',a.item(14))\n",
    "print('a.item(2,2) : ',a.item(2,2))\n",
    "\n",
    "a.itemset(14, 99)\n",
    "a.itemset((2,2), 999)\n",
    "print('a :')\n",
    "pprint(a)\n",
    "\n",
    "pos1 = [6,8]\n",
    "pos2 = [[18, 13], [5,1]]\n",
    "pos3 = [[5,1], [18, 13]]\n",
    "print('a.take(pos1) # [6,8] : ', a.take(pos1))\n",
    "print('a.take(pos2) # [[18, 13], [5,1]] : \\n', a.take(pos2))\n",
    "print('a.take(pos3) # [[5,1], [18, 13]] : \\n', a.take(pos3))\n",
    "print()\n",
    "\n",
    "a.put(pos1, 9)\n",
    "a.put(pos2, 0)\n",
    "print('a :')\n",
    "pprint(a)"
   ]
  },
  {
   "cell_type": "markdown",
   "id": "d67cd910",
   "metadata": {},
   "source": [
    "# 질의함수\n",
    "\n",
    "* np.choose() : 특정 인덱스를 검색\n",
    "    * parameter : (i, arr) => 해당 배열의 i행 리턴\n",
    "        * i는 리스트 형태도 가능\n",
    "    * parameter : (tuple(list()), arr) => 복잡함.\n",
    "        * ex) (tuple([0,1,2]), arr) => arr 배열의 0열0행, 1열1행, 2열2행 리턴\n",
    "        * ex) (tuple([1,2,0]), arr) => arr 배열의 0열1행, 1열2행, 2열0행 리턴\n",
    "        * ex) (tuple([[1], [0], [2]]), arr) => arr 배열의 1행, 0행, 2행 리턴\n",
    "        \n",
    "* np.where() : 조건에 해당하는 원소의 인덱스 리턴\n",
    "    * 튜플 형태로 ([0번째 축 인덱스 리스트], [1번째 축 인덱스 리스트], ...) 로 리턴\n",
    "        * ex) ([1,2,3], [4,5,6])  => (1행, 4열), (2행 5열), (3행 6열)\n",
    "\n",
    "* np.select() : (잘 모르겠음)\n",
    "    \n",
    "* np.extract() : where로 인덱스를 구한다음 해당 인덱스의 값을 리턴한 결과임.   # 잘 모르겠음. (추가)\n",
    "    * 즉 인덱스 추출 + 인덱스 원소 리턴"
   ]
  },
  {
   "cell_type": "code",
   "execution_count": 85,
   "id": "ceecbaf8",
   "metadata": {},
   "outputs": [
    {
     "name": "stdout",
     "output_type": "stream",
     "text": [
      "a :\n",
      "array([[ 0,  1,  2,  3,  4],\n",
      "       [ 5,  6,  7,  8,  9],\n",
      "       [10, 11, 12, 13, 14],\n",
      "       [15, 16, 17, 18, 19]])\n",
      "\n",
      "np.choose(2, a) :  [10 11 12 13 14]\n",
      "np.choose([3], a) :  [15 16 17 18 19]\n",
      "np.choose(tuple([[1], [0], [2]]), a) : \n",
      " [[ 5  6  7  8  9]\n",
      " [ 0  1  2  3  4]\n",
      " [10 11 12 13 14]]\n",
      "\n",
      "np.where(a % 3 == 0) :  (array([0, 0, 1, 1, 2, 3, 3]), array([0, 3, 1, 4, 2, 0, 3]))\n",
      "a[np.where(a % 3 == 0)] :  [ 0  3  6  9 12 15 18]\n",
      "\n",
      "np.extract(a > 8, a) :  [ 9 10 11 12 13 14 15 16 17 18 19]\n"
     ]
    }
   ],
   "source": [
    "a = np.array(np.arange(20)).reshape(4,5)\n",
    "print('a :')\n",
    "pprint(a)\n",
    "print()\n",
    "\n",
    "print('np.choose(2, a) : ', np.choose(2, a))\n",
    "print('np.choose([3], a) : ', np.choose([3], a))\n",
    "print('np.choose(tuple([[1], [0], [2]]), a) : \\n', np.choose(tuple([[1], [0], [2]]), a))\n",
    "print()\n",
    "\n",
    "print('np.where(a % 3 == 0) : ', np.where(a % 3 == 0))\n",
    "print('a[np.where(a % 3 == 0)] : ', a[np.where(a % 3 == 0)])\n",
    "print()\n",
    "\n",
    "print('np.extract(a > 8, a) : ', np.extract(a > 8, a))\n",
    "# print(a)\n",
    "# print(a > 8)\n",
    "\n",
    "# print(np.select([a > 8], [a**2]))\n"
   ]
  }
 ],
 "metadata": {
  "kernelspec": {
   "display_name": "Python 3 (ipykernel)",
   "language": "python",
   "name": "python3"
  },
  "language_info": {
   "codemirror_mode": {
    "name": "ipython",
    "version": 3
   },
   "file_extension": ".py",
   "mimetype": "text/x-python",
   "name": "python",
   "nbconvert_exporter": "python",
   "pygments_lexer": "ipython3",
   "version": "3.8.9"
  }
 },
 "nbformat": 4,
 "nbformat_minor": 5
}
