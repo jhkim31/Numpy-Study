{
 "cells": [
  {
   "cell_type": "code",
   "execution_count": 2,
   "id": "d1f9b291",
   "metadata": {},
   "outputs": [],
   "source": [
    "import numpy as np"
   ]
  },
  {
   "cell_type": "markdown",
   "id": "34b100f6",
   "metadata": {},
   "source": [
    "# 텐서곱 \n",
    "\n",
    "\n",
    "np.tensordot(a,b, axes = n)\n",
    "\n",
    "(2 * 2), (2 * 2)의 텐서곱 기준\n",
    "\n",
    "* axes = 0 : a행렬에서의 각 원소와 b배열과의 스칼라곱을 함. 즉 a배열의 각 원소들이 b배열과의 스칼라 곱이 됨\n",
    "\n",
    "* axes = 1 : a행렬의 각 행과 b 행렬의열의 곱셈 (행렬 곱)\n",
    "\n",
    "* axes = 2 : a행렬의 각 원소와 b행렬의 각 원소의 곱셈의 합"
   ]
  },
  {
   "cell_type": "code",
   "execution_count": 21,
   "id": "9727be3e",
   "metadata": {},
   "outputs": [
    {
     "name": "stdout",
     "output_type": "stream",
     "text": [
      "axes = 0  : \n",
      " [[[[1 1]\n",
      "   [1 1]]\n",
      "\n",
      "  [[2 2]\n",
      "   [2 2]]]\n",
      "\n",
      "\n",
      " [[[3 3]\n",
      "   [3 3]]\n",
      "\n",
      "  [[4 4]\n",
      "   [4 4]]]]\n",
      "axes = 1 : \n",
      " [[3 3]\n",
      " [7 7]]\n",
      "a @ b : \n",
      " [[3 3]\n",
      " [7 7]]\n",
      "axes = 2 : \n",
      " 10\n"
     ]
    }
   ],
   "source": [
    "a = np.array([[1,2], [3,4]])\n",
    "b = np.array([[1,1], [1,1]])\n",
    "\n",
    "print('axes = 0  : \\n', np.tensordot(a,b, axes = 0))\n",
    "print('axes = 1 : \\n', np.tensordot(a,b,axes=1))\n",
    "print('a @ b : \\n', a @ b)\n",
    "print('axes = 2 : \\n', np.tensordot(a,b, axes=2))\n"
   ]
  },
  {
   "cell_type": "markdown",
   "id": "cd014932",
   "metadata": {},
   "source": [
    "# kron 연산\n",
    "kronecker 크로네커곱\n",
    "\n",
    "A와 B 의 크로네커 곱 결과는\n",
    "\n",
    "```\n",
    "a_11 * B | a_12 * B | ... | a_1n * B\n",
    "...\n",
    "a_m1 * B | a_m2 * B | ... | a_mn * B\n",
    "```\n",
    "즉 m * n 행렬과 a * b 행렬의 크로네커 곱 결과는 ma * nb이다.\n"
   ]
  },
  {
   "cell_type": "code",
   "execution_count": 9,
   "id": "80f47344",
   "metadata": {},
   "outputs": [
    {
     "name": "stdout",
     "output_type": "stream",
     "text": [
      "kron a, b :  [ 4  5  6  8 10 12 12 15 18]\n",
      "kron c, d : \n",
      " [[0 0 0 0 1 2]\n",
      " [0 0 0 3 4 5]\n",
      " [0 0 0 6 7 8]\n",
      " [0 1 2 0 0 0]\n",
      " [3 4 5 0 0 0]\n",
      " [6 7 8 0 0 0]]\n"
     ]
    }
   ],
   "source": [
    "a = np.array([1,2,3])\n",
    "b = np.array([4,5,6])\n",
    "\n",
    "c = np.array(\n",
    "    [\n",
    "        [0,1], \n",
    "        [1,0]\n",
    "    ]\n",
    ")\n",
    "d = np.array(np.arange(9)).reshape(3,3)\n",
    "\n",
    "print(\"kron a, b : \", np.kron(a,b))\n",
    "print('kron c, d : \\n', np.kron(c,d))"
   ]
  },
  {
   "cell_type": "markdown",
   "id": "0790aca4",
   "metadata": {},
   "source": [
    "# einsum 합 (나중에)"
   ]
  },
  {
   "cell_type": "code",
   "execution_count": null,
   "id": "2d00fbf2",
   "metadata": {},
   "outputs": [],
   "source": []
  }
 ],
 "metadata": {
  "kernelspec": {
   "display_name": "Python 3 (ipykernel)",
   "language": "python",
   "name": "python3"
  },
  "language_info": {
   "codemirror_mode": {
    "name": "ipython",
    "version": 3
   },
   "file_extension": ".py",
   "mimetype": "text/x-python",
   "name": "python",
   "nbconvert_exporter": "python",
   "pygments_lexer": "ipython3",
   "version": "3.8.9"
  }
 },
 "nbformat": 4,
 "nbformat_minor": 5
}
