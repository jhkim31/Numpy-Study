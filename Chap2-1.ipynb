{
 "cells": [
  {
   "cell_type": "code",
   "execution_count": 1,
   "id": "420a5cf0",
   "metadata": {},
   "outputs": [],
   "source": [
    "import numpy as np"
   ]
  },
  {
   "cell_type": "markdown",
   "id": "a0edcd9c",
   "metadata": {},
   "source": [
    "# scalar vector matrix tensor\n",
    "\n",
    "* 0차텐서, 스칼라 : 축이 없는 값\n",
    "    * ex 1, 2\n",
    "* 1차텐서, 벡터 : 축을 하나 가짐\n",
    "    * ex [1,2,3]\n",
    "* 2차 텐서, 메트릭스, 행렬 : 축을 두개 가짐\n",
    "    * ex   \n",
    "    1,2,3  \n",
    "    4,5,6\n",
    "   \n",
    "* 3차텐서, 텐서 : 축을 3개 가짐\n",
    "\n"
   ]
  },
  {
   "cell_type": "code",
   "execution_count": 6,
   "id": "1232b153",
   "metadata": {},
   "outputs": [
    {
     "name": "stdout",
     "output_type": "stream",
     "text": [
      "<class 'numpy.ndarray'>\n",
      "a.ndim :  0\n",
      "a.shape :  ()\n",
      "a.dtype :  int64\n"
     ]
    }
   ],
   "source": [
    "a = np.array(1)\n",
    "\n",
    "print('a.ndim : ', a.ndim)\n",
    "print('a.shape : ', a.shape)\n",
    "print('a.dtype : ', a.dtype)"
   ]
  },
  {
   "cell_type": "code",
   "execution_count": 7,
   "id": "357339ff",
   "metadata": {},
   "outputs": [
    {
     "name": "stdout",
     "output_type": "stream",
     "text": [
      "a.ndim :  1\n",
      "a.shape :  (1,)\n",
      "a.dtype :  int64\n"
     ]
    }
   ],
   "source": [
    "a = np.array([1])\n",
    "\n",
    "print('a.ndim : ', a.ndim)\n",
    "print('a.shape : ', a.shape)\n",
    "print('a.dtype : ', a.dtype)"
   ]
  },
  {
   "cell_type": "markdown",
   "id": "e80e9ef1",
   "metadata": {},
   "source": [
    "# 1차원 벡터 생성\n",
    "\n",
    "* np.arange(start, end, gap)\n",
    "    * 데이터 형식을 지정하지 않으면 알아서 추론함\n",
    "    * 종료(end)는 포함하지 않는다!!\n",
    "    \n",
    "* np.linspace(start, end, step)\n",
    "    * 구간을 step수만큼 쪼갠다\n",
    "    * 종료(end)를 포함한다. (endpoint=False로 제외할 수 있음)\n",
    "    * retstep=True 파라미터로 증분을 표시할 수 있음\n",
    "\n",
    "* np.logspace(start, end, step)\n",
    "    * 상용로그 기준 start ~ end가 나오는 값들로 만든다\n",
    "    * ex) np.logspace(0, 2, 4) 이면 log_10(x) = 0, 0.6, 1.3, 2.0이 되는 수를 만든다\n",
    "        * => [1, 4.6, 21.5, 100]"
   ]
  },
  {
   "cell_type": "code",
   "execution_count": 14,
   "id": "81b53b82",
   "metadata": {},
   "outputs": [
    {
     "name": "stdout",
     "output_type": "stream",
     "text": [
      "a :  [0 1 2 3 4 5 6 7 8 9]\n",
      "a.dtype :  int64\n",
      "b :  [1.  1.5 2.  2.5 3.  3.5 4.  4.5 5.  5.5 6.  6.5 7.  7.5 8.  8.5 9.  9.5]\n",
      "b.dtype :  float64\n",
      "c :  [ 1.  2.  3.  4.  5.  6.  7.  8.  9. 10.]\n",
      "c.dtype :  float64\n",
      "19.621416870348583\n",
      "d :  [   10.            21.5443469     46.41588834   100.\n",
      "   215.443469     464.15888336  1000.          2154.43469003\n",
      "  4641.58883361 10000.        ]\n",
      "d.dtype :  float64\n"
     ]
    }
   ],
   "source": [
    "a = np.arange(10)\n",
    "b = np.arange(1, 10, 0.5)\n",
    "c = np.linspace(1, 10, 10)\n",
    "d = np.logspace(1, 4, 10)\n",
    "\n",
    "print('a : ', a)\n",
    "print('a.dtype : ', a.dtype)\n",
    "\n",
    "print('b : ', b)\n",
    "print('b.dtype : ', b.dtype)\n",
    "\n",
    "print('c : ', c)\n",
    "print('c.dtype : ', c.dtype)\n",
    "print(np.linalg.norm(c))\n",
    "\n",
    "print('d : ', d)\n",
    "print('d.dtype : ', d.dtype)"
   ]
  },
  {
   "cell_type": "markdown",
   "id": "f7ef6dd4",
   "metadata": {},
   "source": [
    "# 벡터 크기 계산, 단위벡터\n",
    "\n",
    "벡터의 크기(노름)는 뭐...알지??  \n",
    "np.linalg.norm()으로 쉽게 구할 수 있다.  \n",
    "\n",
    "단위벡터는 벡터를 벡터의 노름으로 나눠주면 된다."
   ]
  },
  {
   "cell_type": "code",
   "execution_count": 27,
   "id": "34c18179",
   "metadata": {},
   "outputs": [
    {
     "name": "stdout",
     "output_type": "stream",
     "text": [
      "3.7416573867739413\n",
      "3.7416573867739413\n",
      "a :  [0 1 2 3]\n",
      "a 단위 벡터 :  [0.         0.26726124 0.53452248 0.80178373]\n"
     ]
    }
   ],
   "source": [
    "a = np.arange(4)\n",
    "\n",
    "n1 = np.sqrt(np.sum(a ** 2))\n",
    "print(n1)\n",
    "\n",
    "n2 = np.linalg.norm(a)\n",
    "print(n2)\n",
    "\n",
    "a_n = a / n1\n",
    "print('a : ', a)\n",
    "print('a 단위 벡터 : ',a_n)"
   ]
  },
  {
   "cell_type": "markdown",
   "id": "ebb454b6",
   "metadata": {},
   "source": [
    "# 벡터의 상등과 벡터간 거리\n",
    "\n",
    "동일한 벡터인지 확인은 np.arra_equal()을 통해 확인한다.  \n",
    "\n",
    "또한 두 벡터간 거리라 하면 두 벡터의 차의 제곱의 합의 제곱근을 말한다\n",
    "즉 \n"
   ]
  },
  {
   "cell_type": "code",
   "execution_count": 35,
   "id": "1a8247bf",
   "metadata": {},
   "outputs": [
    {
     "name": "stdout",
     "output_type": "stream",
     "text": [
      "a와 b의 상등 확인 :  True\n",
      "a와 b의 노름 비교 :  True\n",
      "벡터 거리 1 :  3.4641016151377544\n",
      "벡터 거리 2 :  3.4641016151377544\n"
     ]
    }
   ],
   "source": [
    "a = np.array([1,2,3])\n",
    "b = np.array([1,2,3])\n",
    "c = np.array([3,4,5])\n",
    "\n",
    "print('a와 b의 상등 확인 : ', np.array_equal(a,b))\n",
    "print('a와 b의 노름 비교 : ', np.linalg.norm(a) == np.linalg.norm(b))\n",
    "\n",
    "print('벡터 거리 1 : ', np.sqrt(np.sum((c - a) ** 2)))\n",
    "print('벡터 거리 2 : ', np.linalg.norm(c - a))"
   ]
  }
 ],
 "metadata": {
  "kernelspec": {
   "display_name": "Python 3 (ipykernel)",
   "language": "python",
   "name": "python3"
  },
  "language_info": {
   "codemirror_mode": {
    "name": "ipython",
    "version": 3
   },
   "file_extension": ".py",
   "mimetype": "text/x-python",
   "name": "python",
   "nbconvert_exporter": "python",
   "pygments_lexer": "ipython3",
   "version": "3.8.9"
  }
 },
 "nbformat": 4,
 "nbformat_minor": 5
}
