{
 "cells": [
  {
   "cell_type": "code",
   "execution_count": 1,
   "id": "420a5cf0",
   "metadata": {},
   "outputs": [],
   "source": [
    "import numpy as np"
   ]
  },
  {
   "cell_type": "markdown",
   "id": "a0edcd9c",
   "metadata": {},
   "source": [
    "# scalar vector matrix tensor\n",
    "\n",
    "* 0차텐서, 스칼라 : 축이 없는 값\n",
    "    * ex 1, 2\n",
    "* 1차텐서, 벡터 : 축을 하나 가짐\n",
    "    * ex [1,2,3]\n",
    "* 2차 텐서, 메트릭스, 행렬 : 축을 두개 가짐\n",
    "    * ex   \n",
    "    1,2,3  \n",
    "    4,5,6\n",
    "   \n",
    "* 3차텐서, 텐서 : 축을 3개 가짐\n",
    "\n"
   ]
  }
 ],
 "metadata": {
  "kernelspec": {
   "display_name": "Python 3 (ipykernel)",
   "language": "python",
   "name": "python3"
  },
  "language_info": {
   "codemirror_mode": {
    "name": "ipython",
    "version": 3
   },
   "file_extension": ".py",
   "mimetype": "text/x-python",
   "name": "python",
   "nbconvert_exporter": "python",
   "pygments_lexer": "ipython3",
   "version": "3.8.9"
  }
 },
 "nbformat": 4,
 "nbformat_minor": 5
}
