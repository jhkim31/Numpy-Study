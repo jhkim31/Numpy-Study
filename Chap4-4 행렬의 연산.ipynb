{
 "cells": [
  {
   "cell_type": "code",
   "execution_count": 2,
   "id": "fade4549",
   "metadata": {},
   "outputs": [],
   "source": [
    "import numpy as np"
   ]
  },
  {
   "cell_type": "markdown",
   "id": "b6114667",
   "metadata": {},
   "source": [
    "# 행렬곱 dot product == @, .dot(), np.dot()\n",
    "흔히 아는 행렬의 곱셈이다.\n",
    "\n",
    "A = (m , p)  \n",
    "B = (p , n)  \n",
    "일때 A ∙ B 의 결과는 (m , n)이다.  \n",
    "\n",
    "```\n",
    "A = [[1,2],\n",
    "     [3,4]]\n",
    "     \n",
    "B = [[5,6,7],\n",
    "     [8,9,0]]\n",
    "     \n",
    "A ∙ B = \n",
    "1*5 + 2*8 | 1*6 + 2*9 | 1*7 + 2*0\n",
    "3*5 + 3*8 | 3*6 + 3*9 | 3*7 + 3*0\n",
    "\n",
    "```\n",
    "     \n",
    "## vdot \n",
    "행렬의 모든 원소를 1차원 벡터로 변환하여 내적을 구한다"
   ]
  },
  {
   "cell_type": "code",
   "execution_count": 3,
   "id": "2ed05aa6",
   "metadata": {},
   "outputs": [
    {
     "name": "stdout",
     "output_type": "stream",
     "text": [
      "a @ b : \n",
      " [[21 24  7]\n",
      " [47 54 21]]\n",
      "a.dot(b) : \n",
      " [[21 24  7]\n",
      " [47 54 21]]\n",
      "np.dot(a,b) : \n",
      " [[21 24  7]\n",
      " [47 54 21]]\n",
      "np.vdot(a,b) :  70\n",
      "c @ d :  70\n"
     ]
    }
   ],
   "source": [
    "a = np.array([[1,2], [3,4]])\n",
    "b = np.array([[5,6,7], [8,9,0]])\n",
    "\n",
    "print('a @ b : \\n', a @ b)\n",
    "print('a.dot(b) : \\n', a.dot(b))\n",
    "print('np.dot(a,b) : \\n', np.dot(a,b))\n",
    "\n",
    "a = np.array([[1,2], [3,4]])\n",
    "b = np.array([[5,6], [7,8]])\n",
    "c = np.array([1,2,3,4])\n",
    "d = np.array([5,6,7,8])\n",
    "\n",
    "\n",
    "print('np.vdot(a,b) : ', np.vdot(a,b))\n",
    "print('c @ d : ', c @ d)"
   ]
  },
  {
   "cell_type": "markdown",
   "id": "2971515d",
   "metadata": {},
   "source": [
    "# 행렬 연산\n",
    "\n",
    "## inner\n",
    "행렬 A, B의 inner연산은 dot연산과 동일하다.\n",
    "\n",
    "## outer\n",
    "행렬의 outer연산은 행렬을 벡터로 만들어 이 벡터를 outer product한 것이다\n",
    "\n",
    "## cross \n",
    "행울 기준으로 벡터간 cross연산을 함."
   ]
  },
  {
   "cell_type": "code",
   "execution_count": 4,
   "id": "ee784615",
   "metadata": {},
   "outputs": [
    {
     "name": "stdout",
     "output_type": "stream",
     "text": [
      "a @ b : \n",
      " [[ 9 10]\n",
      " [21 22]]\n",
      "\n",
      "np.dot(a,b) : \n",
      " [[ 9 10]\n",
      " [21 22]]\n",
      "\n",
      "np.outer(a,b) : \n",
      " [[ 3  2  3  4]\n",
      " [ 6  4  6  8]\n",
      " [ 9  6  9 12]\n",
      " [12  8 12 16]]\n",
      "\n",
      "[-4  0]\n"
     ]
    }
   ],
   "source": [
    "a = np.array([[1,2], [3,4]])\n",
    "\n",
    "b = np.array([[3,2], [3,4]])\n",
    "\n",
    "# print(np.inner(a,b))\n",
    "print('a @ b : \\n', a @ b)\n",
    "print()\n",
    "print('np.dot(a,b) : \\n', np.dot(a,b))\n",
    "print()\n",
    "print('np.outer(a,b) : \\n',np.outer(a,b))\n",
    "print()\n",
    "\n",
    "print(np.cross(a,b))"
   ]
  },
  {
   "cell_type": "markdown",
   "id": "fc0d10a3",
   "metadata": {},
   "source": [
    "# 텐서곱 \n",
    "\n",
    "\n",
    "np.tensordot(a,b, axes = n)\n",
    "\n",
    "(2 * 2), (2 * 2)의 텐서곱 기준\n",
    "\n",
    "* axes = 0 : a행렬에서의 각 원소와 b배열과의 스칼라곱을 함. 즉 a배열의 각 원소들이 b배열과의 스칼라 곱이 됨\n",
    "\n",
    "* axes = 1 : a행렬의 각 행과 b 행렬의열의 곱셈 (행렬 곱)\n",
    "\n",
    "* axes = 2 : a행렬의 각 원소와 b행렬의 각 원소의 곱셈의 합"
   ]
  },
  {
   "cell_type": "code",
   "execution_count": null,
   "id": "93108e46",
   "metadata": {},
   "outputs": [],
   "source": [
    "a = np.array([[1,2], [3,4]])\n",
    "b = np.array([[1,1], [1,1]])\n",
    "\n",
    "print('axes = 0  : \\n', np.tensordot(a,b, axes = 0))\n",
    "print('axes = 1 : \\n', np.tensordot(a,b,axes=1))\n",
    "print('a @ b : \\n', a @ b)\n",
    "print('axes = 2 : \\n', np.tensordot(a,b, axes=2))\n",
    "\n"
   ]
  },
  {
   "cell_type": "markdown",
   "id": "caabd2c2",
   "metadata": {},
   "source": [
    "# kron연산\n",
    "kronecker 크로네커곱"
   ]
  }
 ],
 "metadata": {
  "kernelspec": {
   "display_name": "Python 3 (ipykernel)",
   "language": "python",
   "name": "python3"
  },
  "language_info": {
   "codemirror_mode": {
    "name": "ipython",
    "version": 3
   },
   "file_extension": ".py",
   "mimetype": "text/x-python",
   "name": "python",
   "nbconvert_exporter": "python",
   "pygments_lexer": "ipython3",
   "version": "3.8.9"
  }
 },
 "nbformat": 4,
 "nbformat_minor": 5
}
