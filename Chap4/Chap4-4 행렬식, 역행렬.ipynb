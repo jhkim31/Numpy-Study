{
 "cells": [
  {
   "cell_type": "code",
   "execution_count": 1,
   "id": "9cf628e1",
   "metadata": {},
   "outputs": [],
   "source": [
    "import numpy as np"
   ]
  },
  {
   "cell_type": "markdown",
   "id": "a8238f39",
   "metadata": {},
   "source": [
    "# 행렬식, 역행렬\n",
    "\n",
    "## 행렬식\n",
    "```\n",
    "a b\n",
    "c d\n",
    "행렬식 : ad - bc\n",
    "\n",
    "a b c\n",
    "d e f\n",
    "g h i\n",
    "행렬식 : a(ei - hf) - b(di - gf) + c(dh - eg)\n",
    "```\n",
    "정사각 행렬일때 원소들을 대응해 값을 구하는 방식.  \n",
    "\n",
    "* np.linalg.det() 행렬식을 구해준다\n",
    "\n",
    "## 역행렬\n",
    "역행렬과 원행렬을 곱하면 단위행렬이 나온다.  \n",
    "원행렬의 행렬식이 0이면 구할 수 없다.\n",
    "\n",
    "### 소행렬\n",
    "M_ij = 원행렬에서 i행, j열을 제외한 행렬\n",
    "```\n",
    "1 2 3\n",
    "4 5 6\n",
    "7 8 9 \n",
    "에서 M_12 = 1 2\n",
    "           7 8\n",
    "```\n",
    "\n",
    "### 여인수\n",
    "C_ij = (-1)^(i+j) * det(M_ij)\n",
    "소행렬의 행렬식과 일정한 부호를 붙임\n",
    "\n",
    "### 수반행렬\n",
    "여인수들의 행렬의 전치행렬\n",
    "즉\n",
    "여인수 행렬이 다음과 같이 존재하고\n",
    "```\n",
    "C_11 C_12 C13\n",
    "C_21 C_22 C_23\n",
    "C_31 C_32 C_33\n",
    "```\n",
    "\n",
    "수반행렬은 다음과 같음.\n",
    "```\n",
    "C_11 C_21 C_31\n",
    "C_12 C_22 C_32\n",
    "C_13 C_23 C_33\n",
    "```\n",
    "\n",
    "* np.linalg.inv()\n",
    "(AB)^-1 = B^-1 @ A^-1 인 특징이 있음\n",
    "\n"
   ]
  },
  {
   "cell_type": "code",
   "execution_count": 14,
   "id": "56844825",
   "metadata": {},
   "outputs": [
    {
     "name": "stdout",
     "output_type": "stream",
     "text": [
      "a의 행렬식 :  -20.99999999999999\n",
      "a의 역행렬 : \n",
      "  [[ 0.14285714 -0.28571429  0.14285714]\n",
      " [-1.85714286  0.71428571  0.14285714]\n",
      " [ 1.52380952 -0.38095238 -0.14285714]]\n",
      "aa^-1 : \n",
      " [[ 1.00000000e+00  2.22044605e-16  5.55111512e-17]\n",
      " [ 0.00000000e+00  1.00000000e+00 -3.88578059e-16]\n",
      " [ 0.00000000e+00  0.00000000e+00  1.00000000e+00]]\n",
      "\n",
      "np.linalg.inv((a @ b)) : \n",
      " [[-1.26984127  0.30596606  0.1592775 ]\n",
      " [ 0.95238095 -0.272578   -0.09359606]\n",
      " [-1.12698413  0.36507937  0.0952381 ]]\n",
      "\n",
      "np.linalg.inv(b) @ np.linalg.inv(a) : \n",
      " [[-1.26984127  0.30596606  0.1592775 ]\n",
      " [ 0.95238095 -0.272578   -0.09359606]\n",
      " [-1.12698413  0.36507937  0.0952381 ]]\n",
      "\n"
     ]
    }
   ],
   "source": [
    "a = np.array([[1,2,3], [1,5,6], [8,8,9]])\n",
    "b = np.array([[5,8,1], [2,9,7], [2,9,4]])\n",
    "print(\"a의 행렬식 : \", np.linalg.det(a))\n",
    "print(\"a의 역행렬 : \\n \", np.linalg.inv(a))\n",
    "print(\"aa^-1 : \\n\", np.linalg.inv(a) @ a)\n",
    "print()\n",
    "print('np.linalg.inv((a @ b)) : \\n', np.linalg.inv((a @ b)))\n",
    "print()\n",
    "print('np.linalg.inv(b) @ np.linalg.inv(a) : \\n', np.linalg.inv(b) @ np.linalg.inv(a))\n",
    "print()"
   ]
  },
  {
   "cell_type": "markdown",
   "id": "0da1fe17",
   "metadata": {},
   "source": [
    "# "
   ]
  }
 ],
 "metadata": {
  "kernelspec": {
   "display_name": "Python 3 (ipykernel)",
   "language": "python",
   "name": "python3"
  },
  "language_info": {
   "codemirror_mode": {
    "name": "ipython",
    "version": 3
   },
   "file_extension": ".py",
   "mimetype": "text/x-python",
   "name": "python",
   "nbconvert_exporter": "python",
   "pygments_lexer": "ipython3",
   "version": "3.8.9"
  }
 },
 "nbformat": 4,
 "nbformat_minor": 5
}
