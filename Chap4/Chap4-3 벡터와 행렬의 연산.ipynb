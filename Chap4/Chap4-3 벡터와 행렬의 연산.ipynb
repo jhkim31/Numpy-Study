{
 "cells": [
  {
   "cell_type": "code",
   "execution_count": 1,
   "id": "b1855d74",
   "metadata": {},
   "outputs": [],
   "source": [
    "import numpy as np"
   ]
  },
  {
   "cell_type": "markdown",
   "id": "da4712e7",
   "metadata": {},
   "source": [
    "# 내적 (점곱) == ∙,  inner product, dot product\n",
    "\n",
    "두벡터의 크기와 내각의 곱으로 구한다.  \n",
    "또한 두 벡터의 내적은  \n",
    "\n",
    "A = [a_1, a_2, ..., a_i]  \n",
    "B = [b_1, b_2, ... , b_i] 일때   \n",
    "A ∙ B = a_1 * b_1 + a_2 * b_2 + ... + a_i * b_i"
   ]
  },
  {
   "cell_type": "code",
   "execution_count": 2,
   "id": "4dc86cca",
   "metadata": {},
   "outputs": [
    {
     "name": "stdout",
     "output_type": "stream",
     "text": [
      "a :  [10 11 12 13 14]\n",
      "b :  [4 5 6 7 8]\n",
      "a @ b :  370\n",
      "np.dot(a,b) :  370\n",
      "np.inner(a,b) :  370\n"
     ]
    }
   ],
   "source": [
    "a = np.array(np.arange(10, 15))\n",
    "b = np.array(np.arange(4,9))\n",
    "print('a : ', a)\n",
    "print('b : ', b)\n",
    "\n",
    "print('a @ b : ', a @ b)\n",
    "print('np.dot(a,b) : ', np.dot(a,b))\n",
    "print('np.inner(a,b) : ', np.inner(a,b))"
   ]
  },
  {
   "cell_type": "markdown",
   "id": "e5f4d596",
   "metadata": {},
   "source": [
    "# 외적 (가위곱) == ☓, cross product, (선형대수에서 외적 : outer product)\n",
    "외적은 두 벡터를 지나는 평면과 수직인 벡터를 구하는것이다.\n",
    "```\n",
    "[1,4]   \n",
    "[3,6]\n",
    "\n",
    "=> 1 * 6 - 4 * 3\n",
    "```\n",
    "\n",
    "## outer product : \n",
    "A = [a,b,c].T\n",
    "B = [d,e,f,g].T  \n",
    "```\n",
    "A ☓ B = AB =  \n",
    "ad ae af ag  \n",
    "bd be bf bg  \n",
    "cd ce cf cg  \n",
    "```\n",
    "가 된다.\n",
    "\n",
    "* np.cross() : 가위곱 => 수직인 벡터\n",
    "\n",
    "* np.outer() : outer product "
   ]
  },
  {
   "cell_type": "code",
   "execution_count": 3,
   "id": "468fc6ed",
   "metadata": {},
   "outputs": [
    {
     "name": "stdout",
     "output_type": "stream",
     "text": [
      "np.cross(a,b) :  -6\n",
      "이렇게 보는게 맞지 모르겠지만, (0,0,-6)과 같은것 같음\n",
      "\n",
      "np.cross(c,d) :  [ 8  4 -8]\n",
      "np.outer(c,d) : \n",
      " [[ 3  4  5]\n",
      " [12 16 20]\n",
      " [ 9 12 15]]\n"
     ]
    }
   ],
   "source": [
    "a = np.array([1,4])\n",
    "b = np.array([3,6])\n",
    "print('np.cross(a,b) : ', np.cross(a,b))\n",
    "print('이렇게 보는게 맞지 모르겠지만, (0,0,-6)과 같은것 같음')\n",
    "print()\n",
    "\n",
    "c = np.array([1,4,3])\n",
    "d = np.array([3,4,5])\n",
    "print('np.cross(c,d) : ', np.cross(c,d))\n",
    "\n",
    "print('np.outer(c,d) : \\n', np.outer(c, d))"
   ]
  },
  {
   "cell_type": "markdown",
   "id": "85403234",
   "metadata": {},
   "source": [
    "# 행렬곱 dot product == @, .dot(), np.dot()\n",
    "흔히 아는 행렬의 곱셈이다.\n",
    "\n",
    "A = (m , p)  \n",
    "B = (p , n)  \n",
    "일때 A ∙ B 의 결과는 (m , n)이다.  \n",
    "\n",
    "```\n",
    "A = [[1,2],\n",
    "     [3,4]]\n",
    "     \n",
    "B = [[5,6,7],\n",
    "     [8,9,0]]\n",
    "     \n",
    "A ∙ B = \n",
    "1*5 + 2*8 | 1*6 + 2*9 | 1*7 + 2*0\n",
    "3*5 + 3*8 | 3*6 + 3*9 | 3*7 + 3*0\n",
    "\n",
    "```\n",
    "     \n",
    "## vdot \n",
    "행렬의 모든 원소를 1차원 벡터로 변환하여 내적을 구한다"
   ]
  },
  {
   "cell_type": "code",
   "execution_count": 4,
   "id": "b0a7cffa",
   "metadata": {},
   "outputs": [
    {
     "name": "stdout",
     "output_type": "stream",
     "text": [
      "a @ b : \n",
      " [[21 24  7]\n",
      " [47 54 21]]\n",
      "a.dot(b) : \n",
      " [[21 24  7]\n",
      " [47 54 21]]\n",
      "np.dot(a,b) : \n",
      " [[21 24  7]\n",
      " [47 54 21]]\n",
      "np.vdot(a,b) :  70\n",
      "c @ d :  70\n"
     ]
    }
   ],
   "source": [
    "a = np.array([[1,2], [3,4]])\n",
    "b = np.array([[5,6,7], [8,9,0]])\n",
    "\n",
    "print('a @ b : \\n', a @ b)\n",
    "print('a.dot(b) : \\n', a.dot(b))\n",
    "print('np.dot(a,b) : \\n', np.dot(a,b))\n",
    "\n",
    "a = np.array([[1,2], [3,4]])\n",
    "b = np.array([[5,6], [7,8]])\n",
    "c = np.array([1,2,3,4])\n",
    "d = np.array([5,6,7,8])\n",
    "\n",
    "\n",
    "print('np.vdot(a,b) : ', np.vdot(a,b))\n",
    "print('c @ d : ', c @ d)"
   ]
  },
  {
   "cell_type": "markdown",
   "id": "52f64efe",
   "metadata": {},
   "source": [
    "# 행렬 연산\n",
    "\n",
    "## inner\n",
    "행렬 A, B의 inner연산은 dot연산과 동일하다.\n",
    "\n",
    "## outer\n",
    "행렬의 outer연산은 행렬을 벡터로 만들어 이 벡터를 outer product한 것이다\n",
    "\n",
    "## cross \n",
    "행울 기준으로 벡터간 cross연산을 함."
   ]
  },
  {
   "cell_type": "code",
   "execution_count": 14,
   "id": "3e9baf15",
   "metadata": {},
   "outputs": [
    {
     "name": "stdout",
     "output_type": "stream",
     "text": [
      "a @ b : \n",
      " [[ 9 10]\n",
      " [21 22]]\n",
      "\n",
      "np.dot(a,b) : \n",
      " [[ 9 10]\n",
      " [21 22]]\n",
      "\n",
      "np.outer(a,b) : \n",
      " [[ 3  2  3  4]\n",
      " [ 6  4  6  8]\n",
      " [ 9  6  9 12]\n",
      " [12  8 12 16]]\n",
      "\n",
      "[-4  0]\n"
     ]
    }
   ],
   "source": [
    "a = np.array([[1,2], [3,4]])\n",
    "\n",
    "b = np.array([[3,2], [3,4]])\n",
    "\n",
    "# print(np.inner(a,b))\n",
    "print('a @ b : \\n', a @ b)\n",
    "print()\n",
    "print('np.dot(a,b) : \\n', np.dot(a,b))\n",
    "print()\n",
    "print('np.outer(a,b) : \\n',np.outer(a,b))\n",
    "print()\n",
    "\n",
    "print(np.cross(a,b))"
   ]
  }
 ],
 "metadata": {
  "kernelspec": {
   "display_name": "Python 3 (ipykernel)",
   "language": "python",
   "name": "python3"
  },
  "language_info": {
   "codemirror_mode": {
    "name": "ipython",
    "version": 3
   },
   "file_extension": ".py",
   "mimetype": "text/x-python",
   "name": "python",
   "nbconvert_exporter": "python",
   "pygments_lexer": "ipython3",
   "version": "3.8.9"
  }
 },
 "nbformat": 4,
 "nbformat_minor": 5
}
