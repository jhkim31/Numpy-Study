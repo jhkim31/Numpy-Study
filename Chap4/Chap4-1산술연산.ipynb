{
 "cells": [
  {
   "cell_type": "code",
   "execution_count": 7,
   "id": "f39e27b4",
   "metadata": {},
   "outputs": [],
   "source": [
    "import numpy as np\n",
    "from pprint import pprint"
   ]
  },
  {
   "cell_type": "markdown",
   "id": "4d445a32",
   "metadata": {},
   "source": [
    "# 벡터 산술연산\n",
    "\n",
    "* `+` : np.add(a,b)\n",
    "* `-` : np.subtract(a,b)\n",
    "* `*` : np.multiply(a,b)\n",
    "* `/` : np.divide(a,b)"
   ]
  },
  {
   "cell_type": "code",
   "execution_count": 3,
   "id": "af3c238a",
   "metadata": {},
   "outputs": [
    {
     "name": "stdout",
     "output_type": "stream",
     "text": [
      "a + b :  [10 10 10]\n",
      "a - b :  [-8 -6 -4]\n",
      "a * b :  [ 9 16 21]\n",
      "a / b :  [0.11111111 0.25       0.42857143]\n"
     ]
    }
   ],
   "source": [
    "a = np.array([1,2,3])\n",
    "b = np.array([9,8,7])\n",
    "\n",
    "print('a + b : ', a + b)\n",
    "print('a - b : ', a - b)\n",
    "print('a * b : ', a * b)\n",
    "print('a / b : ', a / b)"
   ]
  },
  {
   "cell_type": "markdown",
   "id": "e28d6004",
   "metadata": {},
   "source": [
    "# 행렬과 스칼라 연산\n",
    "\n",
    "행렬 * 스칼라"
   ]
  },
  {
   "cell_type": "code",
   "execution_count": 14,
   "id": "11928f84",
   "metadata": {},
   "outputs": [
    {
     "name": "stdout",
     "output_type": "stream",
     "text": [
      "a :\n",
      "array([[1, 2, 3],\n",
      "       [4, 5, 6],\n",
      "       [7, 8, 9]])\n",
      "\n",
      "a * 3:\n",
      "array([[ 3,  6,  9],\n",
      "       [12, 15, 18],\n",
      "       [21, 24, 27]])\n",
      "\n",
      "a / 3:\n",
      "array([[0.33333333, 0.66666667, 1.        ],\n",
      "       [1.33333333, 1.66666667, 2.        ],\n",
      "       [2.33333333, 2.66666667, 3.        ]])\n",
      "\n",
      "a / 3:(정수처리)\n",
      "array([[0, 0, 1],\n",
      "       [1, 1, 2],\n",
      "       [2, 2, 3]])\n"
     ]
    }
   ],
   "source": [
    "a = np.array(np.arange(1,10)).reshape(3,3)\n",
    "\n",
    "print('a :')\n",
    "pprint(a)\n",
    "print()\n",
    "print('a * 3:')\n",
    "pprint(a * 3)\n",
    "print()\n",
    "print('a / 3:')\n",
    "pprint(a / 3)\n",
    "print()\n",
    "print('a / 3:(정수처리)')\n",
    "pprint(np.floor_divide(a, 3))"
   ]
  },
  {
   "cell_type": "markdown",
   "id": "fb890df2",
   "metadata": {},
   "source": [
    "# 대수법칙\n",
    "\n",
    "* 결합법칙 \n",
    "    * (A ± B) ± C = A ± (B ± C)\n",
    "    * (A * B) * C = A * (B * C)\n",
    "    \n",
    "* 분배법칙\n",
    "    * A * (B ± C) = A * B ± A * C\n",
    "    * (B ± C) * A = A * B ± A * C\n",
    "\n",
    "* 교환법칙\n",
    "    * A ± B = B ± A\n",
    "    * A * B = B * A\n",
    "    \n",
    "모든 원소"
   ]
  }
 ],
 "metadata": {
  "kernelspec": {
   "display_name": "Python 3 (ipykernel)",
   "language": "python",
   "name": "python3"
  },
  "language_info": {
   "codemirror_mode": {
    "name": "ipython",
    "version": 3
   },
   "file_extension": ".py",
   "mimetype": "text/x-python",
   "name": "python",
   "nbconvert_exporter": "python",
   "pygments_lexer": "ipython3",
   "version": "3.8.9"
  }
 },
 "nbformat": 4,
 "nbformat_minor": 5
}
