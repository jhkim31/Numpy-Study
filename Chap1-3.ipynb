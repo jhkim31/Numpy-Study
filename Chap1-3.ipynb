{
 "cells": [
  {
   "cell_type": "code",
   "execution_count": 1,
   "id": "8c48b1d9",
   "metadata": {},
   "outputs": [],
   "source": [
    "import numpy as np"
   ]
  },
  {
   "cell_type": "markdown",
   "id": "224b2eb5",
   "metadata": {},
   "source": [
    "# copy, view\n",
    "\n",
    "* 레퍼런스 복사 : 두개의 변수가 같은 메모리를 참조한다(별칭과 같은 역할).\n",
    "* copy : 기존 배열의 데이터를 복사하여 새로운 배열을 만든다. \n",
    "    * .copy()\n",
    "    * np.array(arr, copy=True)\n",
    "* view : 기존 배열의 메모리를 공유한다.\n",
    "    * `v = arr[:]`\n",
    "    * `v = arr.view()`\n",
    "* .base : 원본배열의 데이터에대한 주소\n",
    "    * b = a 인경우 동일한 레퍼런스를 공유하므로 base는 없음\n"
   ]
  },
  {
   "cell_type": "code",
   "execution_count": 25,
   "id": "7d6841bf",
   "metadata": {},
   "outputs": [
    {
     "name": "stdout",
     "output_type": "stream",
     "text": [
      "a is b :  True\n",
      "b.base :  None\n",
      "\n",
      "a is c :  False\n",
      "c.base :  None\n",
      "\n",
      "a is d :  False\n",
      "a is d.base :  True\n",
      "d.base :  [1 2 3 4]\n",
      "a, d :  [1 9 3 4] [1 9 3 4]\n",
      "\n",
      "a is e :  False\n",
      "a is e.base :  True\n",
      "e.base :  [1 9 3 4]\n",
      "a, e :  [ 1 99  3  4] [ 1 99  3  4]\n",
      "np.may_share_memory(a,e) :  True\n"
     ]
    }
   ],
   "source": [
    "a = np.array([1,2,3,4])\n",
    "b = a\n",
    "print('a is b : ', a is b)\n",
    "print('b.base : ', b.base)\n",
    "print()\n",
    "\n",
    "c = a.copy()\n",
    "print('a is c : ', a is c)\n",
    "print('c.base : ', c.base)\n",
    "print()\n",
    "\n",
    "d = a[:]\n",
    "print('a is d : ', a is d)\n",
    "print('a is d.base : ', a is d.base)\n",
    "print('d.base : ', d.base)\n",
    "d[1] = 9\n",
    "print('a, d : ', a, d)\n",
    "print()\n",
    "\n",
    "e = a.view()\n",
    "print('a is e : ', a is e)\n",
    "print('a is e.base : ', a is e.base)\n",
    "print('e.base : ', e.base)\n",
    "e[1] = 99\n",
    "print('a, e : ', a, e)\n",
    "\n",
    "print('np.may_share_memory(a,e) : ', np.may_share_memory(a,e))"
   ]
  },
  {
   "cell_type": "markdown",
   "id": "dfd7eb6a",
   "metadata": {},
   "source": [
    "# 배열의 생성과 변경\n",
    "배열에 특정 연산시 새로운 배열을 반환하지만 가끔 아닐때가 있음.  \n",
    "=> .base로 확인!"
   ]
  },
  {
   "cell_type": "code",
   "execution_count": 36,
   "id": "5dd52f91",
   "metadata": {},
   "outputs": [
    {
     "name": "stdout",
     "output_type": "stream",
     "text": [
      "None\n"
     ]
    }
   ],
   "source": [
    "a = np.array([1,4,3,2])\n",
    "b = np.sort(a)\n",
    "print('b.base : ', b.base)"
   ]
  },
  {
   "cell_type": "markdown",
   "id": "8018f259",
   "metadata": {},
   "source": [
    "# 인덱싱 슬라이싱\n",
    "다양한 방법을 통해 배열을 인덱싱, 슬라이싱 할 수 있다.  \n",
    "**a[something] == a.__getitem__(something)**\n"
   ]
  },
  {
   "cell_type": "code",
   "execution_count": 57,
   "id": "5238b60e",
   "metadata": {},
   "outputs": [
    {
     "name": "stdout",
     "output_type": "stream",
     "text": [
      "a :  [1 2 3 4 5 6 7 8 9]\n",
      "a[4] :  5\n",
      "a.__getitem__(4) :  5\n",
      "a[4:6] :  [5 6]\n",
      "a.__getitem__(slice(4,6)) :  [5 6]\n",
      "a < 5 :  [ True  True  True  True False False False False False]\n",
      "a[a < 5] :  [1 2 3 4]\n",
      "a.__getitem__(a < 5) :  [1 2 3 4]\n",
      "a :  [99 99 99 99  5  6  7  8  9]\n"
     ]
    }
   ],
   "source": [
    "a = np.array(range(1,10))\n",
    "print('a : ', a)\n",
    "print('a[4] : ', a[4])\n",
    "print('a.__getitem__(4) : ', a.__getitem__(4))\n",
    "\n",
    "print('a[4:6] : ', a[4:6])\n",
    "print('a.__getitem__(slice(4,6)) : ', a.__getitem__(slice(4,6)))\n",
    "\n",
    "print('a < 5 : ', a < 5)\n",
    "print('a[a < 5] : ', a[a < 5])\n",
    "print('a.__getitem__(a < 5) : ', a.__getitem__(a < 5))\n",
    "\n",
    "a[a < 5] = 99\n",
    "print('a : ', a)"
   ]
  }
 ],
 "metadata": {
  "kernelspec": {
   "display_name": "Python 3 (ipykernel)",
   "language": "python",
   "name": "python3"
  },
  "language_info": {
   "codemirror_mode": {
    "name": "ipython",
    "version": 3
   },
   "file_extension": ".py",
   "mimetype": "text/x-python",
   "name": "python",
   "nbconvert_exporter": "python",
   "pygments_lexer": "ipython3",
   "version": "3.8.9"
  }
 },
 "nbformat": 4,
 "nbformat_minor": 5
}
