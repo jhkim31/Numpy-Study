{
 "cells": [
  {
   "cell_type": "code",
   "execution_count": 1,
   "id": "be61ea3a",
   "metadata": {},
   "outputs": [],
   "source": [
    "import numpy as np"
   ]
  },
  {
   "cell_type": "markdown",
   "id": "e0ae55dd",
   "metadata": {},
   "source": [
    "### [1. 최대최소](#최대최소)\n",
    "### [2. 대표값](#대표값)\n",
    "### [3. 분산,표준편차](#분산,표준편차)\n",
    "### [4. 상관계수,공분산](#상관계수와공분산)"
   ]
  },
  {
   "cell_type": "markdown",
   "id": "c750e1b5",
   "metadata": {},
   "source": [
    "# 최대 최소 처리\n",
    "\n",
    "* np.max() : 최대값\n",
    "* np.min() : 최소값\n",
    "    * axis 지정 가능\n",
    "\n",
    "* np.argmax() : 배열을 1차원으로 바꿔 가장 큰 인덱스를 리턴함\n",
    "* np.argmin() : 배열을 1차원으로 바꿔 가장 작은 인덱스를 리턴함\n",
    "    * axis 지정 가능"
   ]
  },
  {
   "cell_type": "code",
   "execution_count": 2,
   "id": "39b541ee",
   "metadata": {},
   "outputs": [
    {
     "name": "stdout",
     "output_type": "stream",
     "text": [
      "4\n",
      "[3 4]\n",
      "[2 4]\n",
      "b : \n",
      " [[0 3 1 4]\n",
      " [7 2 6 5]]\n",
      "np.argmax(b) :  4\n",
      "np.argmax(b, axis=0) :  [1 0 1 1]\n",
      "np.argmax(b, axis=1) :  [3 0]\n",
      "np.argmin(b) :  0\n"
     ]
    }
   ],
   "source": [
    "a = np.array([[1,2],[3,4]])\n",
    "print(np.max(a))\n",
    "print(np.max(a, axis=0))\n",
    "print(np.max(a, axis=1))\n",
    "\n",
    "b = np.arange(8)\n",
    "np.random.shuffle(b)\n",
    "b = b.reshape(2,4)\n",
    "\n",
    "print('b : \\n', b)\n",
    "print('np.argmax(b) : ', np.argmax(b))\n",
    "print('np.argmax(b, axis=0) : ', np.argmax(b, axis=0))\n",
    "print('np.argmax(b, axis=1) : ', np.argmax(b, axis=1))\n",
    "print('np.argmin(b) : ', np.argmin(b))"
   ]
  },
  {
   "cell_type": "markdown",
   "id": "9624b3dc",
   "metadata": {},
   "source": [
    "# 대표값\n",
    "\n",
    "대표값으로는 평균, 중앙, 빈도수 등이 있다.\n",
    "\n",
    "## 평균\n",
    "* np.mean() : 평균값\n",
    "* np.average() : 평균값\n",
    "\n",
    "## 빈도수\n",
    "* np.percentile() : 배열에서 백분율로 값 선택 (실제 존재하는 원소가 나오는게 아님)\n",
    "\n",
    "## 중앙값\n",
    "* np.median() : percentile()에서 50퍼센트 값을 선택한것과 동일함.\n",
    "    * 값이 짝수면 중간 두개원소의 평균, 홀수면 중앙값을 리턴함.\n",
    "\n",
    "    \n"
   ]
  },
  {
   "cell_type": "code",
   "execution_count": 3,
   "id": "61816456",
   "metadata": {},
   "outputs": [
    {
     "name": "stdout",
     "output_type": "stream",
     "text": [
      "a.mean() :  4.5\n",
      "np.mean(a, axis=0) :  [2.5 3.5 4.5 5.5 6.5]\n",
      "np.percentile(a, 50) :  4.5\n",
      "np.median(a) :  4.5\n"
     ]
    }
   ],
   "source": [
    "a = np.arange(10).reshape(2,5)\n",
    "print('a.mean() : ', a.mean())\n",
    "print('np.mean(a, axis=0) : ', np.mean(a, axis=0))\n",
    "print('np.percentile(a, 50) : ', np.percentile(a, 50))\n",
    "print('np.median(a) : ', np.median(a))"
   ]
  },
  {
   "cell_type": "markdown",
   "id": "5b9fae89",
   "metadata": {},
   "source": [
    "# 분산표준편차\n",
    "\n",
    "* np.var() : 분산을 구한다.\n",
    "* np.std() : 표준편차를 구한다.\n",
    "\n",
    "**만약 배열에 nan이 포함되어 있다면 nanvar(), nanstd()로 처리해야 한다.**"
   ]
  },
  {
   "cell_type": "code",
   "execution_count": 4,
   "id": "219f27a9",
   "metadata": {},
   "outputs": [
    {
     "name": "stdout",
     "output_type": "stream",
     "text": [
      "np.var(a) :  7.918367346938775\n",
      "분산 :  7.918367346938775\n",
      "np.std(a) :  2.813959371941744\n",
      "표준편차 :  2.813959371941744\n"
     ]
    }
   ],
   "source": [
    "a = np.array([1,4,3,8,9,2,3])\n",
    "\n",
    "print('np.var(a) : ', np.var(a))\n",
    "print('분산 : ', np.sum(np.power(a - a.mean(), 2)) / (len(a)))\n",
    "print('np.std(a) : ', np.std(a))\n",
    "print('표준편차 : ', np.sqrt(np.var(a)) )"
   ]
  },
  {
   "cell_type": "markdown",
   "id": "9ffb2369",
   "metadata": {},
   "source": [
    "# 상관계수와공분산\n",
    "\n",
    "두 수의 집합이 있을때 이 집합이 관계를 수치적으로 판단할 수 있음. 이 관계를 알아보는것을 상관계수라 함.\n",
    "\n",
    "* np.cov() : 공분산 => 2개의 확률변수의 상관정도를 나타냄.\n",
    "* np.corrcoef() : 상관계수 => **분자가 공분산**, 분모가 두 변수의 표준편차의 곱을 통해 구한다."
   ]
  },
  {
   "cell_type": "code",
   "execution_count": 5,
   "id": "044ca550",
   "metadata": {},
   "outputs": [
    {
     "name": "stdout",
     "output_type": "stream",
     "text": [
      "공분산 : \n",
      " [[1.66666667 2.16666667]\n",
      " [2.16666667 2.91666667]]\n",
      "상관계수 : \n",
      " [[1.         0.98270763]\n",
      " [0.98270763 1.        ]]\n"
     ]
    }
   ],
   "source": [
    "a = np.array([5,6,7,8])\n",
    "b = np.array([1,3,4,5])\n",
    "\n",
    "print('공분산 : \\n', np.cov(a,b))\n",
    "print('상관계수 : \\n', np.corrcoef(a,b))"
   ]
  }
 ],
 "metadata": {
  "kernelspec": {
   "display_name": "Python 3 (ipykernel)",
   "language": "python",
   "name": "python3"
  },
  "language_info": {
   "codemirror_mode": {
    "name": "ipython",
    "version": 3
   },
   "file_extension": ".py",
   "mimetype": "text/x-python",
   "name": "python",
   "nbconvert_exporter": "python",
   "pygments_lexer": "ipython3",
   "version": "3.8.9"
  }
 },
 "nbformat": 4,
 "nbformat_minor": 5
}
