{
 "cells": [
  {
   "cell_type": "code",
   "execution_count": 2,
   "id": "85d3da6c",
   "metadata": {},
   "outputs": [],
   "source": [
    "import numpy as np\n",
    "import matplotlib.pyplot as plt"
   ]
  },
  {
   "cell_type": "markdown",
   "id": "b88cd147",
   "metadata": {},
   "source": [
    "### [1. 시드](#시드)\n",
    "### [2. 균등분포](#균등분포)\n",
    "### [3. 정규분포](#정규분포)\n",
    "### [4. 랜덤혼합](#랜덤혼합)"
   ]
  },
  {
   "cell_type": "markdown",
   "id": "a0e8d6da",
   "metadata": {},
   "source": [
    "# 시드\n",
    "\n",
    "* np.random.seed() : 시드를 설정한다.\n",
    "동일한 시드는 동일한 랜덤값이 나온다"
   ]
  },
  {
   "cell_type": "code",
   "execution_count": 3,
   "id": "0f67a751",
   "metadata": {},
   "outputs": [
    {
     "name": "stdout",
     "output_type": "stream",
     "text": [
      "시드3으로 생성한 첫번째 배열 :  [0.5507979  0.70814782 0.29090474 0.51082761 0.89294695]\n",
      "시드3으로 생성한 두번째 배열 :  [0.89629309 0.12558531 0.20724288 0.0514672  0.44080984]\n",
      "다시 시드3으로 생성한 첫번째 배열 :  [0.5507979  0.70814782 0.29090474 0.51082761 0.89294695]\n"
     ]
    }
   ],
   "source": [
    "np.random.seed(3)\n",
    "print('시드3으로 생성한 첫번째 배열 : ', np.random.rand(5))\n",
    "print('시드3으로 생성한 두번째 배열 : ', np.random.rand(5))\n",
    "np.random.seed(3)\n",
    "print('다시 시드3으로 생성한 첫번째 배열 : ', np.random.rand(5))"
   ]
  },
  {
   "cell_type": "markdown",
   "id": "ac2c1fa0",
   "metadata": {},
   "source": [
    "# 균등분포 \n",
    "## uniform distribution\n",
    "\n",
    "* np.random.rand() : 균등분포 임의 난수 배열 생성\n",
    "* np.random.randint() : 랜덤 정수 이산 분포 배열 리턴\n",
    "* np.random.uniform() : 랜덤 실수 분포 배열 리턴"
   ]
  },
  {
   "cell_type": "code",
   "execution_count": 4,
   "id": "d3cb01c9",
   "metadata": {},
   "outputs": [
    {
     "data": {
      "image/png": "[encoded data removed]",
      "text/plain": [
       "<Figure size 432x288 with 1 Axes>"
      ]
     },
     "metadata": {
      "needs_background": "light"
     },
     "output_type": "display_data"
    },
    {
     "name": "stdout",
     "output_type": "stream",
     "text": [
      "b : \n",
      " [[6 7 8 9 8]\n",
      " [6 7 7 9 6]\n",
      " [6 7 8 5 9]\n",
      " [7 7 6 8 9]\n",
      " [7 9 8 9 7]]\n",
      "c : \n",
      " [[8.66903837 7.44731062 8.75902945 5.78370627 6.40624491]\n",
      " [6.1336033  9.87992762 8.24935829 6.10737813 6.20264792]\n",
      " [8.02458949 9.36015297 5.55881157 9.49845284 7.03361346]\n",
      " [5.82875521 6.77387135 5.62167621 6.34924612 8.29389627]\n",
      " [7.4695131  8.41839281 5.519231   9.59166617 7.01432764]]\n"
     ]
    }
   ],
   "source": [
    "a = np.random.rand(500)\n",
    "b = np.random.randint(5, 10, (5,5))\n",
    "c = np.random.uniform(5, 10, (5,5))\n",
    "plt.hist(a)\n",
    "plt.show()\n",
    "print('b : \\n',b)\n",
    "print('c : \\n', c)"
   ]
  },
  {
   "cell_type": "markdown",
   "id": "098fc41f",
   "metadata": {},
   "source": [
    "# 정규분포\n",
    "## normal distribution\n",
    "\n",
    "* np.random.normal() : 평균과 표준편차를 지정하여 리턴\n",
    "* np.random.randn() : 평균 0, 표편 1인 정규분포를따르는 배열 리턴"
   ]
  },
  {
   "cell_type": "code",
   "execution_count": 5,
   "id": "00b68531",
   "metadata": {},
   "outputs": [
    {
     "name": "stdout",
     "output_type": "stream",
     "text": [
      "b : \n",
      " [[-1.99221109 -0.92155564 -0.26553896  0.929466   -0.14839771]\n",
      " [ 3.25726307  0.32707657 -0.79969102  0.13462428  0.92875152]\n",
      " [-0.81036306  0.33080976  0.13961583  0.3381223   0.57806814]\n",
      " [-0.80894391  0.99756432  0.19303728  0.66340083  0.67090513]\n",
      " [ 1.36395315  0.80331209 -0.29581264 -0.51804524  0.08630012]]\n"
     ]
    },
    {
     "data": {
      "image/png": "[encoded data removed]",
      "text/plain": [
       "<Figure size 432x288 with 1 Axes>"
      ]
     },
     "metadata": {
      "needs_background": "light"
     },
     "output_type": "display_data"
    }
   ],
   "source": [
    "mu, sigma = 0, 1 # 평균, 표준편차\n",
    "a = np.random.normal(mu, sigma, 500)\n",
    "b = np.random.randn(5,5)\n",
    "print('b : \\n', b)\n",
    "plt.hist(a)\n",
    "plt.show()"
   ]
  },
  {
   "cell_type": "markdown",
   "id": "1dc711cd",
   "metadata": {},
   "source": [
    "# 랜덤혼합\n",
    "\n",
    "* np.random.choice(n,c,p) : 랜덤으로 정수를 뽑는다\n",
    "    * n : 0 ~ n - 1 까지 정수중\n",
    "    * c : c개의 원소를\n",
    "    * p : p의 확률로 뽑는다\n",
    "* np.random.shuffle() : 배열을 섞는다 (리턴값 x)\n",
    "* np.random.permutation() : 배열을 섞는다 (섞인 배열을 리턴)  \n",
    "두 혼합 함수는 2차원 이상 배열에서 element wise하게 섞는것이 아님!"
   ]
  },
  {
   "cell_type": "code",
   "execution_count": 6,
   "id": "d13a99b8",
   "metadata": {},
   "outputs": [
    {
     "name": "stdout",
     "output_type": "stream",
     "text": [
      "a :  [2 4 4]\n",
      "b :  [4 1 2 5 3]\n",
      "np.random.permutation(c) :  [2 1 4 3 5]\n"
     ]
    }
   ],
   "source": [
    "a = np.random.choice(5,3, p=[0.1,0.1,0.1,0.1,0.6])\n",
    "b = np.array([1,2,3,4,5])\n",
    "c = np.array([1,2,3,4,5])\n",
    "\n",
    "np.random.shuffle(b)\n",
    "\n",
    "\n",
    "print('a : ', a)\n",
    "print('b : ', b)\n",
    "print('np.random.permutation(c) : ', np.random.permutation(c))"
   ]
  }
 ],
 "metadata": {
  "kernelspec": {
   "display_name": "Python 3 (ipykernel)",
   "language": "python",
   "name": "python3"
  },
  "language_info": {
   "codemirror_mode": {
    "name": "ipython",
    "version": 3
   },
   "file_extension": ".py",
   "mimetype": "text/x-python",
   "name": "python",
   "nbconvert_exporter": "python",
   "pygments_lexer": "ipython3",
   "version": "3.8.9"
  }
 },
 "nbformat": 4,
 "nbformat_minor": 5
}
